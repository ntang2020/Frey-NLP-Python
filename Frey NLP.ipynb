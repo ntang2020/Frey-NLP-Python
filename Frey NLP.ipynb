{
 "cells": [
  {
   "cell_type": "code",
   "execution_count": 40,
   "id": "46cb9e83",
   "metadata": {},
   "outputs": [],
   "source": [
    "import pandas as pd\n",
    "import numpy as np\n",
    "import lda\n",
    "import sklearn\n",
    "import gensim\n",
    "import nltk"
   ]
  },
  {
   "cell_type": "code",
   "execution_count": 41,
   "id": "c53515f6",
   "metadata": {},
   "outputs": [
    {
     "data": {
      "text/html": [
       "<div>\n",
       "<style scoped>\n",
       "    .dataframe tbody tr th:only-of-type {\n",
       "        vertical-align: middle;\n",
       "    }\n",
       "\n",
       "    .dataframe tbody tr th {\n",
       "        vertical-align: top;\n",
       "    }\n",
       "\n",
       "    .dataframe thead th {\n",
       "        text-align: right;\n",
       "    }\n",
       "</style>\n",
       "<table border=\"1\" class=\"dataframe\">\n",
       "  <thead>\n",
       "    <tr style=\"text-align: right;\">\n",
       "      <th></th>\n",
       "      <th>CANCER</th>\n",
       "      <th>FAITH</th>\n",
       "      <th>NATURE</th>\n",
       "      <th>MINDFULNESS</th>\n",
       "    </tr>\n",
       "  </thead>\n",
       "  <tbody>\n",
       "    <tr>\n",
       "      <th>0</th>\n",
       "      <td>Surgery</td>\n",
       "      <td>Hardship</td>\n",
       "      <td>Thunder</td>\n",
       "      <td>Connect</td>\n",
       "    </tr>\n",
       "    <tr>\n",
       "      <th>1</th>\n",
       "      <td>Nine-hour surgery</td>\n",
       "      <td>Want</td>\n",
       "      <td>Night</td>\n",
       "      <td>Conversations</td>\n",
       "    </tr>\n",
       "    <tr>\n",
       "      <th>2</th>\n",
       "      <td>Cut</td>\n",
       "      <td>Future</td>\n",
       "      <td>Bull</td>\n",
       "      <td>NaN</td>\n",
       "    </tr>\n",
       "    <tr>\n",
       "      <th>3</th>\n",
       "      <td>Radiation</td>\n",
       "      <td>Begging</td>\n",
       "      <td>Ground</td>\n",
       "      <td>Realize</td>\n",
       "    </tr>\n",
       "    <tr>\n",
       "      <th>4</th>\n",
       "      <td>Organ</td>\n",
       "      <td>Stay strong</td>\n",
       "      <td>Storm</td>\n",
       "      <td>Think</td>\n",
       "    </tr>\n",
       "  </tbody>\n",
       "</table>\n",
       "</div>"
      ],
      "text/plain": [
       "              CANCER        FAITH   NATURE    MINDFULNESS\n",
       "0            Surgery     Hardship  Thunder        Connect\n",
       "1  Nine-hour surgery         Want    Night  Conversations\n",
       "2                Cut       Future     Bull            NaN\n",
       "3          Radiation      Begging   Ground        Realize\n",
       "4              Organ  Stay strong    Storm          Think"
      ]
     },
     "execution_count": 41,
     "metadata": {},
     "output_type": "execute_result"
    }
   ],
   "source": [
    "'''Step 1: Load the dataset'''\n",
    "#load the dictionary \n",
    "dictionary = pd.read_csv('/Users/nicoletang/Downloads/NLP New Dictionaries.csv')\n",
    "dictionary.head()"
   ]
  },
  {
   "cell_type": "code",
   "execution_count": 43,
   "id": "4dd28f2e",
   "metadata": {},
   "outputs": [
    {
     "name": "stdout",
     "output_type": "stream",
     "text": [
      "                                              Scene 1\n",
      "0   Elizabeth: [00:00:12] I ended up having a nine...\n",
      "1   Guide 1: [00:01:00] We [00:01:00] hear the thu...\n",
      "2   Guide 1: [00:01:18] If we're too close to each...\n",
      "3   Elizabeth: [00:01:32] There [00:01:30] will be...\n",
      "4   Justin: [00:01:58] When we realized that we we...\n",
      "5   Elizabeth: [00:02:11] And I think for me, it k...\n",
      "6   Reporter 1: [00:02:40] The [00:02:30] country'...\n",
      "7   Reporter 2: [00:02:47] Officials begging resid...\n",
      "8   Reporter 3: [00:02:50] Here's the update from ...\n",
      "9   Elizabeth: [00:02:56] They're saying our house...\n",
      "10  Justin: [00:03:00] We went from not wanting to...\n",
      "11  Elizabeth: [00:03:11] We're hearing from autho...\n",
      "12  Elizabeth: [00:03:41] Oh. The quilts my grandm...\n",
      "13  Justin: [00:04:30] We [00:04:30] both wanted t...\n"
     ]
    }
   ],
   "source": [
    "#load the dataset\n",
    "#scene1 = pd.read_csv('/Users/nicoletang/Desktop/Scene_transcripts_txt/transcript_scene1.txt', delimiter = '\\t')\n",
    "#scene1 = open('/Users/nicoletang/Downloads/transcript_scene1.txt','r+')\n",
    "#print(scene1)\n",
    "\n"
   ]
  },
  {
   "cell_type": "code",
   "execution_count": 74,
   "id": "1830112c",
   "metadata": {},
   "outputs": [
    {
     "name": "stdout",
     "output_type": "stream",
     "text": [
      "﻿Scene 1\n",
      "\n",
      "\n",
      "Elizabeth: [00:00:12] I ended up having a nine hour surgery just two months before my wedding, where they cut completely across the front of my neck.\n",
      "\n",
      "\n",
      "Guide 1: [00:01:00] We [00:01:00] hear the thunder. It's awesome that kind of drifting away. But we know it's coming. It's right on top of us. It could come up tonight or tomorrow night or the next night. We're not really anticipating the bullet hitting you, but when the bull hits the ground, the electricity can spread through.\n",
      "\n",
      "\n",
      "Guide 1: [00:01:18] If we're too close to each other, it can connect to all the people in between. It's good to have these conversations now before the storm actually is on top of us.\n",
      "\n",
      "\n",
      "Elizabeth: [00:01:32] There [00:01:30] will be hardships in my life. That's just that's how it goes. Before we got married, we both knew we wanted to have kids. With all of the internal radiation that I had. It messed up almost every organ in my body.\n",
      "\n",
      "\n",
      "Justin: [00:01:58] When we realized that we were not going to have [00:02:00] kids. It wasn't just having the kids taken away. It was having that future, having that it really was having the future taken away from me.\n",
      "\n",
      "\n",
      "Elizabeth: [00:02:11] And I think for me, it kind of came down to having to redefine family. I think we're kind of getting to the place where we're okay with that. It doesn't mean it's easy.\n",
      "\n",
      "\n",
      "Reporter 1: [00:02:40] The [00:02:30] country's fourth largest city is already facing what could be one of the worst flooding disasters in American history.\n",
      "\n",
      "\n",
      "Reporter 2: [00:02:47] Officials begging residents to stay strong.\n",
      "\n",
      "\n",
      "Reporter 3: [00:02:50] Here's the update from the National Weather Service. They said that this is beyond anything it has ever experienced.\n",
      "\n",
      "\n",
      "Elizabeth: [00:02:56] They're saying our house will be flooded for one week to four weeks. [00:03:00]\n",
      "\n",
      "\n",
      "Justin: [00:03:00] We went from not wanting to be trapped there to, holy crap, that's a picture with my refrigerator floating inside my kitchen. There is still four feet of water inside our house.\n",
      "\n",
      "\n",
      "Elizabeth: [00:03:11] We're hearing from authorities that it may have seven feet of water, but no one has really been able to get there to check. This is eight days post Hurricane Harvey. We were finally allowed into our house. But you can see [00:03:30] the damage. Since the walk through my living room.\n",
      "\n",
      "\n",
      "Elizabeth: [00:03:41] Oh. The quilts my grandmother made for us for our wedding have grown about two inches of mold on them. This is our brand new TV that I bought Justin for his birthday. With my bonus, there is Buddy's bed [00:04:00] is our dining room. Obviously anyone in here has to wear his mask, but especially me, since I still have cancer in my lungs right now. Just look at that. It's pretty tough to go through this, but I. You can see we have my favorite sign here. And Lord will fight for you. You need only be still.\n",
      "\n",
      "\n",
      "Justin: [00:04:30] We [00:04:30] both wanted to know why, why? Why did it happen the first time? Why did it recur? And a big part of it is always just why us? Just saying the same guy that I'm coming to and asking him to heal her. Is the God that allowed it to happen in the first place.\n"
     ]
    }
   ],
   "source": [
    "\n",
    "import os\n",
    "scenes = []\n",
    "\n",
    "# Folder Path\n",
    "path = \"/Users/nicoletang/Desktop/Scene_transcripts_txt\"\n",
    "  \n",
    "# Change the directory\n",
    "os.chdir(path)\n",
    "  \n",
    "# Read text File\n",
    "  \n",
    "def read_text_file(file_path):\n",
    "    with open(file_path, 'r') as f:\n",
    "        return(f.read())\n",
    "\n",
    "# iterate through all file\n",
    "for file in os.listdir():\n",
    "    # Check whether file is in text format or not\n",
    "    if file.endswith(\".txt\"):\n",
    "        file_path = f\"{path}/{file}\"\n",
    "  \n",
    "        # call read text file function\n",
    "        #read_text_file(file_path)\n",
    "        scenes.append(read_text_file(file_path))\n",
    "        \n",
    "#print(scenes[0])\n",
    "\n",
    "scene1 = scenes[13]\n",
    "print(scene1)\n"
   ]
  },
  {
   "cell_type": "code",
   "execution_count": 37,
   "id": "9b92af6e",
   "metadata": {},
   "outputs": [
    {
     "name": "stderr",
     "output_type": "stream",
     "text": [
      "[nltk_data] Downloading package wordnet to\n",
      "[nltk_data]     /Users/nicoletang/nltk_data...\n",
      "[nltk_data]   Package wordnet is already up-to-date!\n",
      "[nltk_data] Downloading package omw-1.4 to\n",
      "[nltk_data]     /Users/nicoletang/nltk_data...\n",
      "[nltk_data]   Package omw-1.4 is already up-to-date!\n"
     ]
    },
    {
     "data": {
      "text/plain": [
       "True"
      ]
     },
     "execution_count": 37,
     "metadata": {},
     "output_type": "execute_result"
    }
   ],
   "source": [
    "'''\n",
    "Step 2: Simple Preprocessing\n",
    "We will perform the following steps:\n",
    "\n",
    "Tokenization: Split the text into sentences and the sentences into words. Lowercase the words and remove punctuation.\n",
    "Words that have fewer than 3 characters are removed.\n",
    "All stopwords are removed.\n",
    "Words are lemmatized - words in third person are changed to first person and verbs in past and future tenses are changed into present.\n",
    "Words are stemmed - words are reduced to their root form.\n",
    "'''\n",
    "#Load Gensim and nltk libraries \n",
    "from gensim.utils import simple_preprocess\n",
    "from gensim.parsing.preprocessing import STOPWORDS\n",
    "from nltk.stem import WordNetLemmatizer, SnowballStemmer\n",
    "from nltk.stem.porter import *\n",
    "np.random.seed(400)\n",
    "nltk.download('wordnet')\n",
    "nltk.download('omw-1.4')"
   ]
  },
  {
   "cell_type": "code",
   "execution_count": 12,
   "id": "4b5032a2",
   "metadata": {},
   "outputs": [],
   "source": [
    "stemmer = SnowballStemmer(\"english\")\n",
    "'''\n",
    "Write a function to perform the pre processing steps on the entire dataset\n",
    "'''\n",
    "def stemming_and_lemmatizing(text):\n",
    "    return stemmer.stem(WordNetLemmatizer().lemmatize(text, pos='v'))\n",
    "\n",
    "# Tokenize and lemmatize\n",
    "def preprocessing(text):\n",
    "    result=[]\n",
    "    for token in gensim.utils.simple_preprocess(text) :\n",
    "        if token not in gensim.parsing.preprocessing.STOPWORDS and len(token) > 3:\n",
    "            result.append(stemming_and_lemmatizing(token))\n",
    "            \n",
    "    return result"
   ]
  },
  {
   "cell_type": "code",
   "execution_count": 13,
   "id": "362ac719",
   "metadata": {},
   "outputs": [
    {
     "name": "stdout",
     "output_type": "stream",
     "text": [
      "Original document: \n",
      "['This', 'disk', 'has', 'failed', 'many', 'times.', 'I', 'would', 'like', 'to', 'get', 'it', 'replaced.']\n",
      "\n",
      "\n",
      "Tokenized and lemmatized document: \n",
      "['disk', 'fail', 'time', 'like', 'replac']\n"
     ]
    }
   ],
   "source": [
    "'''\n",
    "Preview a document after preprocessing\n",
    "'''\n",
    "document_num = 50\n",
    "doc_sample = 'This disk has failed many times. I would like to get it replaced.'\n",
    "\n",
    "print(\"Original document: \")\n",
    "words = []\n",
    "for word in doc_sample.split(' '):\n",
    "    words.append(word)\n",
    "print(words)\n",
    "print(\"\\n\\nTokenized and lemmatized document: \")\n",
    "print(preprocessing(doc_sample))"
   ]
  },
  {
   "cell_type": "code",
   "execution_count": 45,
   "id": "24f917ac",
   "metadata": {},
   "outputs": [
    {
     "name": "stdout",
     "output_type": "stream",
     "text": [
      "Original document: \n",
      "﻿Scene 1\n",
      "\n",
      "\n",
      "Elizabeth: [00:00:12] I ended up having a nine hour surgery just two months before my wedding, where they cut completely across the front of my neck.\n",
      "\n",
      "\n",
      "Guide 1: [00:01:00] We [00:01:00] hear the thunder. It's awesome that kind of drifting away. But we know it's coming. It's right on top of us. It could come up tonight or tomorrow night or the next night. We're not really anticipating the bullet hitting you, but when the bull hits the ground, the electricity can spread through.\n",
      "\n",
      "\n",
      "Guide 1: [00:01:18] If we're too close to each other, it can connect to all the people in between. It's good to have these conversations now before the storm actually is on top of us.\n",
      "\n",
      "\n",
      "Elizabeth: [00:01:32] There [00:01:30] will be hardships in my life. That's just that's how it goes. Before we got married, we both knew we wanted to have kids. With all of the internal radiation that I had. It messed up almost every organ in my body.\n",
      "\n",
      "\n",
      "Justin: [00:01:58] When we realized that we were not going to have [00:02:00] kids. It wasn't just having the kids taken away. It was having that future, having that it really was having the future taken away from me.\n",
      "\n",
      "\n",
      "Elizabeth: [00:02:11] And I think for me, it kind of came down to having to redefine family. I think we're kind of getting to the place where we're okay with that. It doesn't mean it's easy.\n",
      "\n",
      "\n",
      "Reporter 1: [00:02:40] The [00:02:30] country's fourth largest city is already facing what could be one of the worst flooding disasters in American history.\n",
      "\n",
      "\n",
      "Reporter 2: [00:02:47] Officials begging residents to stay strong.\n",
      "\n",
      "\n",
      "Reporter 3: [00:02:50] Here's the update from the National Weather Service. They said that this is beyond anything it has ever experienced.\n",
      "\n",
      "\n",
      "Elizabeth: [00:02:56] They're saying our house will be flooded for one week to four weeks. [00:03:00]\n",
      "\n",
      "\n",
      "Justin: [00:03:00] We went from not wanting to be trapped there to, holy crap, that's a picture with my refrigerator floating inside my kitchen. There is still four feet of water inside our house.\n",
      "\n",
      "\n",
      "Elizabeth: [00:03:11] We're hearing from authorities that it may have seven feet of water, but no one has really been able to get there to check. This is eight days post Hurricane Harvey. We were finally allowed into our house. But you can see [00:03:30] the damage. Since the walk through my living room.\n",
      "\n",
      "\n",
      "Elizabeth: [00:03:41] Oh. The quilts my grandmother made for us for our wedding have grown about two inches of mold on them. This is our brand new TV that I bought Justin for his birthday. With my bonus, there is Buddy's bed [00:04:00] is our dining room. Obviously anyone in here has to wear his mask, but especially me, since I still have cancer in my lungs right now. Just look at that. It's pretty tough to go through this, but I. You can see we have my favorite sign here. And Lord will fight for you. You need only be still.\n",
      "\n",
      "\n",
      "Justin: [00:04:30] We [00:04:30] both wanted to know why, why? Why did it happen the first time? Why did it recur? And a big part of it is always just why us? Just saying the same guy that I'm coming to and asking him to heal her. Is the God that allowed it to happen in the first place.\n",
      "\n",
      "\n",
      "Tokenized and lemmatized document: \n",
      "['scene', 'elizabeth', 'end', 'have', 'hour', 'surgeri', 'month', 'wed', 'complet', 'neck', 'guid', 'hear', 'thunder', 'awesom', 'kind', 'drift', 'away', 'know', 'come', 'right', 'come', 'tonight', 'tomorrow', 'night', 'night', 'anticip', 'bullet', 'hit', 'bull', 'hit', 'grind', 'electr', 'spread', 'guid', 'close', 'connect', 'peopl', 'good', 'convers', 'storm', 'actual', 'elizabeth', 'hardship', 'life', 'go', 'marri', 'know', 'want', 'kid', 'intern', 'radiat', 'mess', 'organ', 'bodi', 'justin', 'realiz', 'go', 'kid', 'wasn', 'have', 'kid', 'take', 'away', 'have', 'futur', 'have', 'have', 'futur', 'take', 'away', 'elizabeth', 'think', 'kind', 'come', 'have', 'redefin', 'famili', 'think', 'kind', 'get', 'place', 'okay', 'mean', 'easi', 'report', 'countri', 'fourth', 'largest', 'citi', 'face', 'worst', 'flood', 'disast', 'american', 'histori', 'report', 'offici', 'beg', 'resid', 'stay', 'strong', 'report', 'updat', 'nation', 'weather', 'servic', 'say', 'experi', 'elizabeth', 'say', 'hous', 'flood', 'week', 'week', 'justin', 'go', 'want', 'trap', 'holi', 'crap', 'pictur', 'refriger', 'float', 'insid', 'kitchen', 'feet', 'water', 'insid', 'hous', 'elizabeth', 'hear', 'author', 'seven', 'feet', 'water', 'abl', 'check', 'day', 'post', 'hurrican', 'harvey', 'final', 'allow', 'hous', 'damag', 'walk', 'live', 'room', 'elizabeth', 'quilt', 'grandmoth', 'wed', 'grow', 'inch', 'mold', 'brand', 'buy', 'justin', 'birthday', 'bonus', 'buddi', 'din', 'room', 'obvious', 'wear', 'mask', 'especi', 'cancer', 'lung', 'right', 'look', 'pretti', 'tough', 'favorit', 'sign', 'lord', 'fight', 'need', 'justin', 'want', 'know', 'happen', 'time', 'recur', 'say', 'come', 'ask', 'heal', 'allow', 'happen', 'place']\n"
     ]
    }
   ],
   "source": [
    "print(\"Original document: \")\n",
    "#words = []\n",
    "#for word in scene1.split(' '):\n",
    "   # words.append(word)\n",
    "#print(words)\n",
    "scene1_str = str(scene1)\n",
    "print(scene1)\n",
    "print(\"\\n\\nTokenized and lemmatized document: \")\n",
    "print(preprocessing(scene1_str))"
   ]
  },
  {
   "cell_type": "code",
   "execution_count": 82,
   "id": "968785da",
   "metadata": {},
   "outputs": [
    {
     "name": "stdout",
     "output_type": "stream",
     "text": [
      "[\"\\ufeffScene 14\\n\\n\\nLars: [00:47:43] You [00:47:30] want to park your boat below my boat? A little more muddy up here.\\n\\n\\nLindsey: [00:47:48] Sorry, guys.\\n\\n\\nLars: [00:47:49] Good job. Fantastic spot right here. [00:48:00] Two spots right here. Let's go. First row, shall we? Yeah.\\n\\n\\nDenis: [00:48:07] I can't wait to see the bathroom.\\n\\n\\nLars: [00:48:10] We have a bucket system. Right? And this is our beautiful backcountry loop, right?\\n\\n\\nLars: [00:48:17] Yeah.\\n\\n\\nLars: [00:48:18] People are just looking at me and they're like. Monday, Tuesday, Wednesday. I'll hold it. I'll try not to hold it. You know, to ease the flow [00:48:30] of the backcountry movement, we come up with the five star system. We'll start with the one star. It is pissing rain outside. It's 2:00 in the morning and your stomach goes. Oh. Fuck. Can't find the toilet paper. You can't find a bathroom. It's the worst explosion in the world. That's a one star. Five star, the five stars. You're being proactive. You get your coffee, you just pop down [00:49:00] here and you're just having a magical moment with your morning cup of Joe. My system is good about a little tip of the hat. Cheers to them as they fight on by. This is the best moment of your life and you're going to come back and tell everybody about it and post it on Facebook. Toilet paper. There was a logistical snafu. We have one roll. Oh, yeah. This little bummer. Don't know how else to put it. Eek.\\n\\n\\nMatt: [00:49:30] For the whole [00:49:30] trip?\\n\\n\\nLars: [00:49:31] Yeah.\\n\\n\\nLars: [00:49:32] 18 bowel movements a day. We need to preserve this. Okay, so everyone gets one square, you fold it twice, okay? And this little corner right here, you just go ahead and rip off. This is really important. You don't want to lose this. You got to remember where it is. Then you proceed to open it up. Now you stick your finger in there and then you go to town [00:50:00] with this one, ply with the finger. But this is nice method because when everything is all done, you just go ahead and just. Just wipe your finger off. Okay? But what about that corner I told you about? Didn't want to lose it. You take that corner and you get underneath the fingernails. Fine tune. Whatever I'm ordering inside, it's not a roll of toilet paper, okay? You don't have to do the one ply [00:50:30] method, okay? But that's not gave you the green light to do the full floss and do all that stuff. There's a bunch okay? Daw stop.\\n\\n\\nDana: [00:50:41] How many stars?\", \"\\ufeffScene 13\\n\\n\\nElizabeth: [00:44:53] We are kind of settled on the fact that we are very limited in options [00:45:00] to do straight adoption. Even if the adoption agency was willing to work with us, we would still have to be chosen by birth parents and the likelihood of that was not very high. So we started leaning a little bit more towards foster care. We just met with the second foster agency tonight and for the most part, we got the go ahead. They said that as long as my doctor signs off and says that [00:45:30] I am physically and mentally fit to be a parent, that they have no objections to my current health status.\\n\\n\\nJustin: [00:45:38] I think one thing that's kind of unique for young adult cancer patients is we understand what it's like to be broken into being in a family, a group of whatever you want to call it, that where life just hasn't gone. Right.\\n\\n\\nElizabeth: [00:45:53] We graduated from Baylor ten years ago when we planned to have three or four kids by now. And [00:46:00] obviously that wasn't God's will and it hasn't happened. But we are given this potentially given this amazing opportunity to help kids that need help and love on kids that need love and. We probably never would have even considered this had we been able to have biological kids. So.\\n\\n\\nJustin: [00:46:26] We know what it's like to be there. And I [00:46:30] think that if I can be a part in getting a kid out of that situation, that's a good thing.\\n\\n\\nElizabeth: [00:46:38] That's pretty neat. Very exciting. And we'll just keep praying and keep hoping.\", \"\\ufeffScene 12\\n\\n\\nRyan: [00:44:04] feet [00:44:00] didn't get cold.\\n\\n\\nLindsey: [00:44:06] Feet got hot.\\n\\n\\nRyan: [00:44:07] My feet got hot. My feet are tingling.\\n\\n\\nLindsey: [00:44:10] Guess what?\\n\\n\\nRyan: [00:44:13] Guess what?\\n\\n\\nLindsey: [00:44:14] What?\\n\\n\\nRyan: [00:44:15] You're my wife. You're so beautiful.\\n\\n\\nLindsey: [00:44:21] That one didn't even make it in the water.\\n\\n\\nRyan: [00:44:38] We're married. [00:44:30]\", \"\\ufeffScene 10\\n\\n\\nLindsey: [00:36:15] Oh, yeah.\\n\\n\\nLindsey: [00:36:15] Is. I went on a trip in September. So this is a section of the river we did.\\n\\n\\nLars: [00:36:25] When we had up there. It is a goat path and we're going to end [00:36:30] up right on top. I see the fear in your eyes.\\n\\n\\nLars: [00:36:34] I see the fear in your eyes. You got this.\\n\\n\\nDavid: [00:36:37] You can grab on the right. Good. Good. Good. Perfect. Perfect. You can put the other foot right up on top. I got you. I got you. What's that right there? That's okay. It's.\\n\\n\\nLindsey: [00:37:02] Holy [00:37:00] shit, guys.\\n\\n\\nRoy: [00:37:06] Nice work, buddy.\\n\\n\\nLindsey: [00:37:09] This spot right here, that's not Ben. So we hiked up there one morning. There are so many days right now that I wish I was up there on top of that [00:37:30] mountain.\\n\\n\\nRoy: [00:38:17] I [00:38:00] had a moment of feeling like I was welcoming myself from a coma, saying to myself, Welcome back.\\n\\n\\nDenis: [00:38:27] I found myself emotional at times, just [00:38:30] inspired.\\n\\n\\nDenis: [00:38:33] Is there some way I'm thinking about Phil and is there some way that we can bring a bit of this to him?\\n\\n\\nPhil: [00:38:43] When you guys were coming down. I was pointing my my white cane at you guys. It's like it's as if my king had, like, a circle at the end of it, around all you guys. So we were all connected.\\n\\n\\nGuide 4: [00:38:59] The time will come [00:39:00] when, with elation, you will create yourself arriving at your own door, in your own mirror, and say, Sit here, eat. You will love again. The stranger who was yourself. Give wine, give bread. Give back your heart to itself. To the stranger who has loved you all your life, whom you're ignored for another who knows you by heart. Take down the love letters from the bookshelf, the photographs, the desperate [00:39:30] notes Peel your own image from the mirror. Sit. Feast on your life.\\n\\n\\nLindsey's Dad: [00:39:39] The time will come when you were greet yourself, arriving at your own door, in your own mirror, and each will smile at the other's welcome. You will love again the stranger who was yourself. Give back your heart to itself. To the stranger who knows you by heart.\\n\\n\\nLindsey: [00:40:02] I [00:40:00] can't even put into words.\\n\\n\\nRoy: [00:40:06] You don't have to.\\n\\n\\nLindsey: [00:40:21] I think the best word to describe it is feeling free. It's like one of the first times I can forget about the word cancer and [00:40:30] just be here.\\n\\n\\nDavid: [00:40:34] Yeah.\", \"\\ufeffScene 11\\n\\n\\nLars: [00:41:00] You [00:41:00] guys are turning into a well-oiled machine. Moving on down the river. We're going to take that machine and paddle on out of here tomorrow. As sad as it is, it is true. Unfortunately. We're going to wake up before the sun comes up and paddle out to the takeout. It's about eight miles from where we are right now.\\n\\n\\nDavid: [00:41:23] As we enter tomorrow. Our plan is to wake up in silence.  [00:41:30]Awake in silence, and pack our boats in silence, and hopefully be greeted by a beautiful sunrise while we're out on the river.\", \"\\ufeffScene 8\\n\\n\\nLindsey: [00:31:10] I [00:31:00] just see it. It makes you feel so big, yet so small.\\n\\n\\nRoy: [00:31:22] I know, right. And to be able to come out here and reset yourself and find who you are because [00:31:30] you're not the same as you were before, you know, you're a whole new.\\n\\n\\nLindsey: [00:31:32] You are. It completely changes you and every every molecule and atom of your body, it completely changes you.\\n\\n\\nRoy: [00:31:40] Yeah.\\n\\n\\nLindsey: [00:31:41] I've never felt more connected with a group of strangers that can be openly talking about my poop, about, about my scars, about. And honestly, like, I had never I hadn't talked to people about the guy who broke my heart when [00:32:00] he found out I had my mastectomy. Like I had never been able to talk to people about that. People would ask me about it and I would make something up.\\n\\n\\nRoy: [00:32:07] Just it breaks my heart that someone could be so shallow and desperate and vulnerable.\\n\\n\\nLindsey: [00:32:15] Exactly like.\\n\\n\\nRoy: [00:32:17] I couldn't without this group, I don't think I would have gotten my life back.\\n\\n\\nLindsey: [00:32:22] You know, before this trip, I have gotten to a point where I was almost feeling, like lost again and to be honest, I don't think I had [00:32:30] really found myself after my diagnosis. And I'm coming up on four years this month. Well, it's coming on October. October.\\n\\n\\nRoy: [00:32:39] Five years.\\n\\n\\nLindsey: [00:32:43] I see food.\", \"\\ufeffScene 9\\n\\n\\nLindsey: [00:32:51] Probably. Just trying to build a fire to how we get done getting our food.\\n\\n\\nDana: [00:32:57] I [00:33:00] feel like you should give a class on what that's like to learn.\\n\\n\\nPhil: [00:33:06] Everything's pretty much like sleeping.\\n\\n\\nGuide 1: [00:33:10] You go.\\n\\n\\nMatt: [00:33:10] First. Go ahead.\\n\\n\\nGuide 1: [00:33:12] I'll go first.\\n\\n\\nDenis: [00:33:13] No, no, I'll go first. Well.\\n\\n\\nDana: [00:33:16] One of my highlights was the silent float. It's something that I didn't really realize how much I needed that until we were in it, because I kind of expected a lot more of that coming [00:33:30] out here, being with nature. And I've been spending so much amazing time connecting with everyone, which has been really, really wonderful, but having that silent time just was. Really good for me. So.\\n\\n\\nMatt: [00:33:50] That's quite impressive.\\n\\n\\nLars: [00:33:52] Three, two, one, down.\\n\\n\\nRoy: [00:33:53] Yeah, that's the best rock we've seen tonight. Spartan training starts [00:34:00] today. Right on top. Right in there, big boy. Well done, sir. You're coming to work today. No problem. Pass me another rock over there. Are you good?\\n\\n\\nRoy: [00:34:17] Ready to let go of the fear of. Leaving [00:34:30] my wife and my kids without a father or a husband.\\n\\n\\nLindsey: [00:34:41] I'm ready to let go of. Go of the anger that I showed towards the people that didn't want to stay to see me live. My [00:35:00] mom's bathroom. She has a huge bathtub, and it's it's surrounded by mirrors. And I just remember sitting in there, and I was surrounded by mirrors so you could see I. I would sit in that bathtub and I would be surrounded by the mirror. So I had to [00:35:30] face myself. I had to face the way that my body changed. I hated I hated looking at myself in the mirror. I hated it. And so I never did. And then she started putting me in that tub and I was surrounded by the mirror. So I'd have to face the way I looked, because I would have to I would have to face the scars. I would have to face the changes. Now, I love my scars. I didn't at first, but now I love my scars. It's just another way to show that I survived. [00:36:00] I used to hold a lot of anger, a lot of anger towards the whole situation. The one thing I can't stand is when somebody tells me I'm too young to have gone through what I've gone through.\", \"\\ufeffScene 4\\n\\n\\nLars: [00:15:35] 35. [00:15:30]\\n\\n\\nLars: [00:15:56] You know, your bags and everything. Yeah. Yeah. [00:16:00] One, two, three, four. If we have one more person you guys not connected to.\\n\\n\\nDana: [00:16:06] It was first diagnosed in 2011 and then relapsed in 2012. Why me? Why at 28? Was there anything that I did to contribute to it? Was there anything I could have done differently? Has been. Brad was also diagnosed this past October, his stage four kidney cancer. And after 100 days [00:16:30] of fighting, he passed away in January.\\n\\n\\nLars: [00:16:37] So people are coming in at times right now, but I'm doing vehicle shuttle back and forth, back and forth. So how was the flight? Hopefully eventful. Yeah, fantastic. Oh, there he is. Bill.\\n\\n\\nPhil: [00:16:51] I got a question.\\n\\n\\nLars: [00:16:52] I got answer.\\n\\n\\nPhil: [00:16:53] Where am I now? I began my journey at the age of four years old with [00:17:00] massive dosages of radiation, chemotherapy and surgery to my brain. Six months later, I was predicted to be dead. But as you can see, I'm still here.\\n\\n\\nLars: [00:17:17] Wherever you find space.\\n\\n\\nMatt: [00:17:21] Their cancer had metastasized to two small spots in my lung, and that meant that I was no longer considered curable.\\n\\n\\nDenis: [00:17:40] Hello. [00:17:30] How's it going? Good man. Hello. Hello.\\n\\n\\nLars: [00:17:47] Pleasure.\\n\\n\\nDenis: [00:17:47] Nice to meet you.\\n\\n\\nAlison: [00:17:48] Hi, Alison.\\n\\n\\nDenis: [00:17:49] I'm Denis and I come in peace.\\n\\n\\nDenis: [00:17:53] I lost another friend today. That's what I had met at a retreat about three [00:18:00] years ago.\\n\\n\\nGuide 1: [00:18:06] Always me.\\n\\n\\nSiobhan: [00:18:10] Being released from the hospital. I was worried about grad school and. Will I now have time to take the jury and study? And I don't think my writing sample is strong enough and I was freaking the fuck out about it. So it's about 2:00 AM. I'm feeling. Very [00:18:30] inspired to start making artwork.\\n\\n\\nMichelle: [00:19:19] A [00:19:00] lot of people don't realize that you can get cancer as a young adult. I am 33 years old and I live in Soldotna, Alaska.\\n\\n\\nMichelle: [00:19:29] I was [00:19:30] a police officer when I was diagnosed. The diagnosis pretty much destroyed my entire life. I had an immediate mastectomy, eventually a second mastectomy, and then 14 months of chemo. I did bilateral reconstruction of both my breasts and struggled through another year there at the police department. And then. Kim finally decided I wasn't the same person and that job was no longer fulfilling.\\n\\n\\nRoy: [00:20:10] I [00:20:00] didn't know what to do. The first thing I thought of was my boys. My wife. What would happen if I. If I didn't get past this?\\n\\n\\nMichelle: [00:20:48] I [00:20:30] think that I have a lot of self finding to do while I'm here.\\n\\n\\nMatt: [00:20:56] I feel like like I've been sort of shattered. You [00:21:00] know, there isn't like a way out, I guess, right now. So I figured, you know, what did I have to lose?\\n\\n\\nDana: [00:21:14] I was like, I've lost all my steering capabilities and every way possible right now in this canoe and in my life so far, we haven't fallen in.\", \"\\ufeffScene 5\\n\\n\\nElizabeth: [00:21:32] So [00:21:30] I saw the hematologist oncologist for five years just from being neutropenic for six months. They made me keep going, but they just kept threatening. If your neutrophils don't come up, we're going to stop radiation.\\n\\n\\nSam: [00:21:48] Yeah, that's the most terrifying thing.\\n\\n\\nElizabeth: [00:21:49] Yeah, I'm like, I don't want to stop.\\n\\n\\nSam: [00:21:51] But that's going to make the cancer progress.\\n\\n\\nElizabeth: [00:21:53] Yeah. I don't want to give a cancer any more chances. So did you ever have to do chemo pills, too?\\n\\n\\nSam: [00:21:59] No, fortunately. [00:22:00]\\n\\n\\nElizabeth: [00:22:02] See, you say it too just. Yeah, just that.\\n\\n\\nElizabeth: [00:22:06] Just that one.\\n\\n\\nSam: [00:22:07] On earth.\\n\\n\\nElizabeth: [00:22:08] Was a terrible thing that was trying to kill me and keep me alive.\\n\\n\\nGuide 2: [00:22:13] Do you remember when we did the silent hike?\\n\\n\\nElizabeth: [00:22:15] Yeah.\\n\\n\\nGuide 2: [00:22:16] You talked about the forest. We talked about how something like a forest fire can come through everything and yet.\\n\\n\\nElizabeth: [00:22:26] This is just what it looks like right now.\\n\\n\\nGuide 2: [00:22:27] Yeah.\\n\\n\\nGuide 2: [00:22:28] Something new will always [00:22:30] grow back.\\n\\n\\nElizabeth: [00:22:30] Yeah, because the has really nutrient rich soil now. And that's really when it hit me like. Those processes refining me, I guess. Is there still something more beautiful to come?\\n\\n\\nGuide 2: [00:22:55] Yeah.\\n\\n\\nJustin: [00:23:00] Part [00:23:00] of what we've discussed is just not having kids right now has more to do with just her energy level than anything. I mean, whether you're adopting or having a biological kid. Yeah, there's days where she just flat out would not be able to take care of a kid.\\n\\n\\nElizabeth: [00:23:17] And, well, it's hard not to think the worst with how many of my thyroid cancer friends have died this year. I will. I'm trying to focus on [00:23:30] the positive. I'm planting the seed of self encouragement and I am letting go of comparing myself to my former self.\\n\\n\\nJustin: [00:23:55] Planting the seed of just hoping. For [00:24:00] a brighter future, for more changes to come. Leaving behind some of the anger and resentment.\\n\\n\\nGuide 2: [00:24:45] Oh, [00:24:30] my God.\\n\\n\\nElizabeth: [00:25:16] The [00:25:00] biggest level of gratitude I felt on this trip is that we can all be ourselves and all talk honestly and openly about not only how we're feeling, but about our backgrounds [00:25:30] and about just every aspect of our lives. It's it's just been really. Freeing to be able to. Talk a little bit about my faith and how that's helped me get through. And then to hear lots of different aspects of each of your lives that we may not share all the time with everyone. But I just felt like we were really able to be [00:26:00] open and honest here. Feelings of gratitude for that.\", \"\\ufeffScene 7\\n\\n\\nLars: [00:28:45] Hey, [00:28:30] guys. Good job. Welcome to camp. Right down right there. So if you could all hear me say. Yep. Right on. We're just gonna load gear and just [00:29:00] put it on top of this shelf right here. If we can get a fire line going up this little way right here.\\n\\n\\nGuide 1: [00:29:06] Sounds good. Okay, great. Oh, my God. Right. Really? Heavy. Oh, my God.\\n\\n\\nSpeaker5: [00:29:19] Heavy. Yeah.\\n\\n\\nGuide 1: [00:29:20] Oh, my gosh. No, really? Like guys.\\n\\n\\nLindsey: [00:29:26] Very heavy.\\n\\n\\nGuide 1: [00:29:28] Oh, my God. I know. [00:29:30] Hold the line. Oh, the line.\\n\\n\\nLindsey: [00:29:34] I'm holding in and it's heavy.\\n\\n\\nGuide 1: [00:29:39] It can make a loud noise. Yeah. Okay. Go. Right. Okay.\\n\\n\\nPhil's Caretaker: [00:29:50] There's some really cool purple flowers here. Right.\\n\\n\\nPhil: [00:29:54] Which one is this one?\\n\\n\\nPhil's Caretaker: [00:29:55] Well, those are yellow. See the little asters?\\n\\n\\nPhil: [00:30:00] These.  [00:30:00]\\n\\n\\nPhil's Caretaker: [00:30:00] Right here. These a little asters? Yeah. Here, smell. Yeah, right.\\n\\n\\nPhil: [00:30:10] There you go.\\n\\n\\nLars: [00:30:12] Find your spot and it starts setting your tent up.\\n\\n\\nDana: [00:30:16] All right, let's go this way.\\n\\n\\nPhil's Caretaker: [00:30:22] Yep. Okay. All right. Beautiful. Okay. You can go ahead and stand up and we'll just you [00:30:30] can open up your bags. We're at talk now. So the kitchen's going to be to the left here. A lot of the...\", \"\\ufeffScene 6\\n\\n\\nMaynard: [00:26:28] I noticed water reflecting [00:26:30] light onto the side of the canyon wall.\\n\\n\\nDenis: [00:26:34] I noticed the spark in me light up again when cooking outdoors. I hadn't done in a long time.\\n\\n\\nAlison: [00:26:45] I noticed the quiet, how quiet it was, and that was different.\\n\\n\\nSiobhan: [00:26:57] I noticed a lot of selflessness among [00:27:00] everyone here. I've been really discouraged lately by selfish people in my life, so it was refreshing to see everyone lending a helping hand.\\n\\n\\nLindsey: [00:27:10] I observed all those little yellow butterflies on the way here. I have a butterfly tattoo on my chest, and that was part of my mastectomy tattoo. And so after my grandfather died four years ago, right before I was diagnosed, me and my mom would always see butterflies come and they would stay longer than they probably should, and they would land usually [00:27:30] on one of us. And so we always said, that's papa come to visit. That's Poppa coming to visit. And so today, seeing all those butterflies, it was like Pops here. Up until today, I had not met a group of people my age that had gone through or could understand what I had been through. And [00:28:00] so that's one of the biggest reasons why I'm here, to meet people like you, that you y'all can completely understand what we're all.\", \"\\ufeffScene 2\\n\\n\\nElizabeth: [00:05:01] This [00:05:00] is my in case we have to run really fast away from home for any reason. Like fun. This is my emergency grab and go and it has a week's worth of every prescription. I just have that ready and I know that it has everything in it I'm going to need. I have my number on how many I take 2 a.m., 2 p.m. and out of everything. This is Justin's. One thing we do want a family [00:05:30] kind of leaning towards the idea of adoption. I looked into probably 30 different agencies and only two of them would even talk to us. We have started to fill out all the paperwork for the adoption agents. But we don't want to get our hopes up too much because they require a letter from my oncologist. If saying that the oncologist thinks that I will live long [00:06:00] enough to raise a child. And so we kind of put it on hold until we see the oncologist on Monday.\\n\\n\\nRadio 1: [00:06:17] But don't you forget your mom and daddy's love. Well, you.\\n\\n\\nElizabeth: [00:06:32] The [00:06:30] night before what I call my day of fun. I don't usually get much sleep. A little bit nerve wracking.\\n\\n\\nJustin: [00:06:43] They show up at six this morning and we don't really leave until. We know where she stands. We don't have this.\\n\\n\\nElizabeth: [00:06:50] Wait two weeks for test results.\\n\\n\\nJustin: [00:06:52] Wait a week for the radiologist. That's one of the awesome parts about the Anderson is as long and hard as this day is, [00:07:00] we go home today knowing what they saw.\\n\\n\\nReceptionist 1: [00:07:04] And we'll call you out all by name.\\n\\n\\nElizabeth: [00:07:25] I'm trying to focus on the positive. The [00:07:30] fact that so many people I know have already passed away this year that had the same cancer as me and the same prognosis as me that weighs heavily on my mind.\\n\\n\\nDoctor 1: [00:07:44] Your allergies are still just shellfish and adhesive tape and iodine and penicillins.\\n\\n\\nElizabeth: [00:07:50] Yes.\\n\\n\\nDoctor 1: [00:07:52] Tell me about the shortness of breath. Is that with activity or at rest?\\n\\n\\nElizabeth: [00:07:55] Yes, both.\\n\\n\\nDoctor 1: [00:07:59] Tell me about your headaches [00:08:00] or are they normal headaches or migraines?\\n\\n\\nElizabeth: [00:08:03] Hemiplegia. Migraines. I have started having that.\\n\\n\\nDoctor 1: [00:08:06] You also checked seizures. Have you had a seizure lately?\\n\\n\\nElizabeth: [00:08:09] It's been about 30 days since my last one. Since my last grand mal. Generally I have between four and eight appointments. To swallow. Swallow again. Then [00:08:30] I move on to the imaging. And this is a huge, huge, huge deal for me. My last three chest CT scans have shown that I have tumors throughout both lungs. Very tiny little nodules, too small to really know what they are, but they are most likely thyroid cancer that has metastasized. I'm [00:09:00] always like on the edge of my seat, waiting for the results. There's just so much riding on these scans. Because if she's not willing to write us that letter to give to the agency, then we can't go anywhere.\\n\\n\\nMRI Voice: [00:09:21] Take it up. Grab where you go. Take another deep breath. Where the rain. Where [00:09:30] you. And just breathing and being.\\n\\n\\nGuide 2: [00:09:45] With this part of your body. Feel your body just sinking into the ground. Noticing that sense of weight being held by the ground underneath you. Take [00:10:00] in another real deep breath.\\n\\n\\nGuide 2: [00:10:35] And [00:10:30] drawing your attention. Your throat and that. Sensing the right side of your neck and the left pausing and just noticing what you feel in this part of your body, feeling the fullness of the breath. Move into your ribs. Expanding and then. Letting go on the exhale. Perhaps [00:11:00] even your heartbeat, if you can feel that. Knowing that by the mere fact that you are breathing, there is far more going right in your body and your mind than wrong.\", \"\\ufeffScene 3\\n\\n\\nLindsey: [00:11:22] Before I was diagnosed, I was still in college when I had found the tumor. All of my friends were moving [00:11:30] into those jobs that they had lined up after graduation. They were moving into the real world, you know, like how it's supposed to be. I didn't get that. I did not get that. I mean, I already had a job lined up after college. I was in a really serious relationship. I had a plan. And then the day of that diagnosis, that absolutely changed everything.\\n\\n\\nLindsey's Mom: [00:12:01] As [00:12:00] she called me one night, and I could tell in her voice something was wrong, and she said, This thing has grown overnight but she said it's just visibly grown over night. So I knew something was wrong.\\n\\n\\nLindsey: [00:12:23] There you go. I'll be back. Everything happened so fast. It's really [00:12:30] a blur. The whole process went really quickly. I was diagnosed a week later. I was in surgery. A week after that, I had another surgery and that's when I started getting really depressed and that's when I stopped leaving the house. And that was before I even made the decision to go ahead with the mastectomy.\\n\\n\\nLindsey's Mom: [00:12:51] She's had to make decisions that women my age shouldn't have to make.\\n\\n\\nLindsey's Dad: [00:12:56] It scares you as a parent when it's gone from the size of a pea [00:13:00] to the size of a brick. And it scares you as a parent when they go to do a needle biopsy and it bends the needle and drives your heart right up in your throat.\\n\\n\\nLindsey: [00:13:11] So I made the decision to have my breast removed. I felt like if the breast is gone completely, then I'm okay. But the breast that had the tumor and is still there, like I just feel completely unsafe. Yes, ma'am. How are you all doing?\\n\\n\\nCustomer 1: [00:13:28] Good. How about yourself?\\n\\n\\nLindsey: [00:13:30] Good. [00:13:30] I was in a serious relationship at the time. We had been together for about eight months and he had been so completely supportive during my surgeries. He would be calling my mom if he could just check and see how I was doing. And then I called him and told him, you know, I've decided to go through with the mastectomy. That's the last time I heard from him. And so that was obviously a huge kick in the self-esteem to. I [00:14:00] don't give a shit what guys think about my body, but I mean, at the time I'm 22 years old. That's the one thing you're thinking about before cancer.\\n\\n\\nLindsey's Mom: [00:14:12] Lindsey was very confident, just stylish in the way she dressed. And after cancer, all that changed those big baggy shirts.\\n\\n\\nLindsey: [00:14:21] And yeah, I took every single one of my bikinis and every single tight shirt that I had, and I put them all in the trashcan.\\n\\n\\nLindsey's Mom: [00:14:29] And [00:14:30] I remember taking them out without your knowledge.\\n\\n\\nLindsey's Mom: [00:14:38] I don't think it was until the trek that Lindsey truly... I saw more of who she was. After that I could see a weight lifted off of her when she came home. And I can see a desire to want to move forward with her life. So [00:15:00] I think the trek did that for her. And I don't know I don't know why it took that. Um, but I did see, I saw a big difference when she came home from the track that the weight was gone. You know, maybe I can really move on with my life now.\", \"\\ufeffScene 1\\n\\n\\nElizabeth: [00:00:12] I ended up having a nine hour surgery just two months before my wedding, where they cut completely across the front of my neck.\\n\\n\\nGuide 1: [00:01:00] We [00:01:00] hear the thunder. It's awesome that kind of drifting away. But we know it's coming. It's right on top of us. It could come up tonight or tomorrow night or the next night. We're not really anticipating the bullet hitting you, but when the bull hits the ground, the electricity can spread through.\\n\\n\\nGuide 1: [00:01:18] If we're too close to each other, it can connect to all the people in between. It's good to have these conversations now before the storm actually is on top of us.\\n\\n\\nElizabeth: [00:01:32] There [00:01:30] will be hardships in my life. That's just that's how it goes. Before we got married, we both knew we wanted to have kids. With all of the internal radiation that I had. It messed up almost every organ in my body.\\n\\n\\nJustin: [00:01:58] When we realized that we were not going to have [00:02:00] kids. It wasn't just having the kids taken away. It was having that future, having that it really was having the future taken away from me.\\n\\n\\nElizabeth: [00:02:11] And I think for me, it kind of came down to having to redefine family. I think we're kind of getting to the place where we're okay with that. It doesn't mean it's easy.\\n\\n\\nReporter 1: [00:02:40] The [00:02:30] country's fourth largest city is already facing what could be one of the worst flooding disasters in American history.\\n\\n\\nReporter 2: [00:02:47] Officials begging residents to stay strong.\\n\\n\\nReporter 3: [00:02:50] Here's the update from the National Weather Service. They said that this is beyond anything it has ever experienced.\\n\\n\\nElizabeth: [00:02:56] They're saying our house will be flooded for one week to four weeks. [00:03:00]\\n\\n\\nJustin: [00:03:00] We went from not wanting to be trapped there to, holy crap, that's a picture with my refrigerator floating inside my kitchen. There is still four feet of water inside our house.\\n\\n\\nElizabeth: [00:03:11] We're hearing from authorities that it may have seven feet of water, but no one has really been able to get there to check. This is eight days post Hurricane Harvey. We were finally allowed into our house. But you can see [00:03:30] the damage. Since the walk through my living room.\\n\\n\\nElizabeth: [00:03:41] Oh. The quilts my grandmother made for us for our wedding have grown about two inches of mold on them. This is our brand new TV that I bought Justin for his birthday. With my bonus, there is Buddy's bed [00:04:00] is our dining room. Obviously anyone in here has to wear his mask, but especially me, since I still have cancer in my lungs right now. Just look at that. It's pretty tough to go through this, but I. You can see we have my favorite sign here. And Lord will fight for you. You need only be still.\\n\\n\\nJustin: [00:04:30] We [00:04:30] both wanted to know why, why? Why did it happen the first time? Why did it recur? And a big part of it is always just why us? Just saying the same guy that I'm coming to and asking him to heal her. Is the God that allowed it to happen in the first place.\"]\n"
     ]
    }
   ],
   "source": [
    "'''\n",
    "STEP 3: Bag of words on the dataset\n",
    "capturing all the different words present in 'docs'\n",
    "'''\n",
    "docs = scenes\n",
    "all_word_corpus = []\n",
    "for doc in docs:\n",
    "    all_word_corpus += doc\n",
    "#print(all_word_corpus)\n",
    "print(docs)"
   ]
  },
  {
   "cell_type": "code",
   "execution_count": 51,
   "id": "c766f758",
   "metadata": {},
   "outputs": [
    {
     "data": {
      "text/plain": [
       "count      14.00000\n",
       "mean     2176.00000\n",
       "std      1060.92398\n",
       "min       414.00000\n",
       "0%        414.00000\n",
       "10%       801.10000\n",
       "20%      1404.00000\n",
       "30%      1457.90000\n",
       "40%      1711.00000\n",
       "50%      2410.50000\n",
       "60%      2477.20000\n",
       "70%      2905.80000\n",
       "80%      3147.80000\n",
       "90%      3279.90000\n",
       "100%     3872.00000\n",
       "max      3872.00000\n",
       "dtype: float64"
      ]
     },
     "execution_count": 51,
     "metadata": {},
     "output_type": "execute_result"
    }
   ],
   "source": [
    "'''Length of docs vs. Various Percentiles\n",
    "\n",
    "Filter out docs that have\n",
    "\n",
    "less than a certain size (absolute number) or\n",
    "more than a certain size (fraction of total corpus size, not absolute number).\n",
    "'''\n",
    "doc_lengths = pd.Series([len(sent) for sent in docs])\n",
    "doc_lengths.describe(percentiles=[x/10 for x in range(11)])"
   ]
  },
  {
   "cell_type": "code",
   "execution_count": 52,
   "id": "ddbd9a7c",
   "metadata": {},
   "outputs": [
    {
     "data": {
      "text/plain": [
       "count      14.00000\n",
       "mean     2176.00000\n",
       "std      1060.92398\n",
       "min       414.00000\n",
       "0%        414.00000\n",
       "1%        434.41000\n",
       "2%        454.82000\n",
       "3%        475.23000\n",
       "4%        495.64000\n",
       "5%        516.05000\n",
       "6%        536.46000\n",
       "7%        556.87000\n",
       "8%        601.68000\n",
       "9%        701.39000\n",
       "50%      2410.50000\n",
       "max      3872.00000\n",
       "dtype: float64"
      ]
     },
     "execution_count": 52,
     "metadata": {},
     "output_type": "execute_result"
    }
   ],
   "source": [
    "# printing 0% to 10% percentiles\n",
    "doc_lengths.describe(percentiles=[x/100 for x in range(0,10)])"
   ]
  },
  {
   "cell_type": "code",
   "execution_count": 53,
   "id": "63d00971",
   "metadata": {},
   "outputs": [
    {
     "data": {
      "text/plain": [
       "count      14.00000\n",
       "mean     2176.00000\n",
       "std      1060.92398\n",
       "min       414.00000\n",
       "50%      2410.50000\n",
       "90%      3279.90000\n",
       "91%      3304.21000\n",
       "92%      3328.52000\n",
       "93%      3384.24000\n",
       "94%      3453.92000\n",
       "95%      3523.60000\n",
       "96%      3593.28000\n",
       "97%      3662.96000\n",
       "98%      3732.64000\n",
       "99%      3802.32000\n",
       "max      3872.00000\n",
       "dtype: float64"
      ]
     },
     "execution_count": 53,
     "metadata": {},
     "output_type": "execute_result"
    }
   ],
   "source": [
    "# printing 90% to 100% percentiles\n",
    "doc_lengths.describe(percentiles=[x/100 for x in range(90,100)])"
   ]
  },
  {
   "cell_type": "code",
   "execution_count": 78,
   "id": "476b0cec",
   "metadata": {},
   "outputs": [
    {
     "name": "stdout",
     "output_type": "stream",
     "text": [
      "3149 10\n"
     ]
    }
   ],
   "source": [
    "# chosing upper_bound = 300 and lower_bound = 30\n",
    "chosen_docs = []\n",
    "for doc in docs:\n",
    "    if len(doc) > 30 and len(doc) < 3000:\n",
    "        chosen_docs.append(doc)\n",
    "print(len(doc), len(chosen_docs))"
   ]
  },
  {
   "cell_type": "code",
   "execution_count": 83,
   "id": "fee6c664",
   "metadata": {},
   "outputs": [
    {
     "name": "stdout",
     "output_type": "stream",
     "text": [
      "['\\ufeff', 'S', 'c', 'e', 'n', 'e', ' ', '1', '4', '\\n', '\\n', '\\n', 'L', 'a', 'r', 's', ':', ' ', '[', '0', '0', ':', '4', '7', ':', '4', '3', ']', ' ', 'Y', 'o', 'u', ' ', '[', '0', '0', ':', '4', '7', ':', '3', '0', ']', ' ', 'w', 'a', 'n', 't', ' ', 't', 'o', ' ', 'p', 'a', 'r', 'k', ' ', 'y', 'o', 'u', 'r', ' ', 'b', 'o', 'a', 't', ' ', 'b', 'e', 'l', 'o', 'w', ' ', 'm', 'y', ' ', 'b', 'o', 'a', 't', '?', ' ', 'A', ' ', 'l', 'i', 't', 't', 'l', 'e', ' ', 'm', 'o', 'r', 'e', ' ', 'm', 'u', 'd', 'd', 'y', ' ', 'u', 'p', ' ', 'h', 'e', 'r', 'e', '.', '\\n', '\\n', '\\n', 'L', 'i', 'n', 'd', 's', 'e', 'y', ':', ' ', '[', '0', '0', ':', '4', '7', ':', '4', '8', ']', ' ', 'S', 'o', 'r', 'r', 'y', ',', ' ', 'g', 'u', 'y', 's', '.', '\\n', '\\n', '\\n', 'L', 'a', 'r', 's', ':', ' ', '[', '0', '0', ':', '4', '7', ':', '4', '9', ']', ' ', 'G', 'o', 'o', 'd', ' ', 'j', 'o', 'b', '.', ' ', 'F', 'a', 'n', 't', 'a', 's', 't', 'i', 'c', ' ', 's', 'p', 'o', 't', ' ', 'r', 'i', 'g', 'h', 't', ' ', 'h', 'e', 'r', 'e', '.', ' ', '[', '0', '0', ':', '4', '8', ':', '0', '0', ']', ' ', 'T', 'w', 'o', ' ', 's', 'p', 'o', 't', 's', ' ', 'r', 'i', 'g', 'h', 't', ' ', 'h', 'e', 'r', 'e', '.', ' ', 'L', 'e', 't', \"'\", 's', ' ', 'g', 'o', '.', ' ', 'F', 'i', 'r', 's', 't', ' ', 'r', 'o', 'w', ',', ' ', 's', 'h', 'a', 'l', 'l', ' ', 'w', 'e', '?', ' ', 'Y', 'e', 'a', 'h', '.', '\\n', '\\n', '\\n', 'D', 'e', 'n', 'i', 's', ':', ' ', '[', '0', '0', ':', '4', '8', ':', '0', '7', ']', ' ', 'I', ' ', 'c', 'a', 'n', \"'\", 't', ' ', 'w', 'a', 'i', 't', ' ', 't', 'o', ' ', 's', 'e', 'e', ' ', 't', 'h', 'e', ' ', 'b', 'a', 't', 'h', 'r', 'o', 'o', 'm', '.', '\\n', '\\n', '\\n', 'L', 'a', 'r', 's', ':', ' ', '[', '0', '0', ':', '4', '8', ':', '1', '0', ']', ' ', 'W', 'e', ' ', 'h', 'a', 'v', 'e', ' ', 'a', ' ', 'b', 'u', 'c', 'k', 'e', 't', ' ', 's', 'y', 's', 't', 'e', 'm', '.', ' ', 'R', 'i', 'g', 'h', 't', '?', ' ', 'A', 'n', 'd', ' ', 't', 'h', 'i', 's', ' ', 'i', 's', ' ', 'o', 'u', 'r', ' ', 'b', 'e', 'a', 'u', 't', 'i', 'f', 'u', 'l', ' ', 'b', 'a', 'c', 'k', 'c', 'o', 'u', 'n', 't', 'r', 'y', ' ', 'l', 'o', 'o', 'p', ',', ' ', 'r', 'i', 'g', 'h', 't', '?', '\\n', '\\n', '\\n', 'L', 'a', 'r', 's', ':', ' ', '[', '0', '0', ':', '4', '8', ':', '1', '7', ']', ' ', 'Y', 'e', 'a', 'h', '.', '\\n', '\\n', '\\n', 'L', 'a', 'r', 's', ':', ' ', '[', '0', '0', ':', '4', '8', ':', '1', '8', ']', ' ', 'P', 'e', 'o', 'p', 'l', 'e', ' ', 'a', 'r', 'e', ' ', 'j', 'u', 's', 't', ' ', 'l', 'o', 'o', 'k', 'i', 'n', 'g', ' ', 'a', 't', ' ', 'm', 'e', ' ', 'a', 'n', 'd', ' ', 't', 'h', 'e', 'y', \"'\", 'r', 'e', ' ', 'l', 'i', 'k', 'e', '.', ' ', 'M', 'o', 'n', 'd', 'a', 'y', ',', ' ', 'T', 'u', 'e', 's', 'd', 'a', 'y', ',', ' ', 'W', 'e', 'd', 'n', 'e', 's', 'd', 'a', 'y', '.', ' ', 'I', \"'\", 'l', 'l', ' ', 'h', 'o', 'l', 'd', ' ', 'i', 't', '.', ' ', 'I', \"'\", 'l', 'l', ' ', 't', 'r', 'y', ' ', 'n', 'o', 't', ' ', 't', 'o', ' ', 'h', 'o', 'l', 'd', ' ', 'i', 't', '.', ' ', 'Y', 'o', 'u', ' ', 'k', 'n', 'o', 'w', ',', ' ', 't', 'o', ' ', 'e', 'a', 's', 'e', ' ', 't', 'h', 'e', ' ', 'f', 'l', 'o', 'w', ' ', '[', '0', '0', ':', '4', '8', ':', '3', '0', ']', ' ', 'o', 'f', ' ', 't', 'h', 'e', ' ', 'b', 'a', 'c', 'k', 'c', 'o', 'u', 'n', 't', 'r', 'y', ' ', 'm', 'o', 'v', 'e', 'm', 'e', 'n', 't', ',', ' ', 'w', 'e', ' ', 'c', 'o', 'm', 'e', ' ', 'u', 'p', ' ', 'w', 'i', 't', 'h', ' ', 't', 'h', 'e', ' ', 'f', 'i', 'v', 'e', ' ', 's', 't', 'a', 'r', ' ', 's', 'y', 's', 't', 'e', 'm', '.', ' ', 'W', 'e', \"'\", 'l', 'l', ' ', 's', 't', 'a', 'r', 't', ' ', 'w', 'i', 't', 'h', ' ', 't', 'h', 'e', ' ', 'o', 'n', 'e', ' ', 's', 't', 'a', 'r', '.', ' ', 'I', 't', ' ', 'i', 's', ' ', 'p', 'i', 's', 's', 'i', 'n', 'g', ' ', 'r', 'a', 'i', 'n', ' ', 'o', 'u', 't', 's', 'i', 'd', 'e', '.', ' ', 'I', 't', \"'\", 's', ' ', '2', ':', '0', '0', ' ', 'i', 'n', ' ', 't', 'h', 'e', ' ', 'm', 'o', 'r', 'n', 'i', 'n', 'g', ' ', 'a', 'n', 'd', ' ', 'y', 'o', 'u', 'r', ' ', 's', 't', 'o', 'm', 'a', 'c', 'h', ' ', 'g', 'o', 'e', 's', '.', ' ', 'O', 'h', '.', ' ', 'F', 'u', 'c', 'k', '.', ' ', 'C', 'a', 'n', \"'\", 't', ' ', 'f', 'i', 'n', 'd', ' ', 't', 'h', 'e', ' ', 't', 'o', 'i', 'l', 'e', 't', ' ', 'p', 'a', 'p', 'e', 'r', '.', ' ', 'Y', 'o', 'u', ' ', 'c', 'a', 'n', \"'\", 't', ' ', 'f', 'i', 'n', 'd', ' ', 'a', ' ', 'b', 'a', 't', 'h', 'r', 'o', 'o', 'm', '.', ' ', 'I', 't', \"'\", 's', ' ', 't', 'h', 'e', ' ', 'w', 'o', 'r', 's', 't', ' ', 'e', 'x', 'p', 'l', 'o', 's', 'i', 'o', 'n', ' ', 'i', 'n', ' ', 't', 'h', 'e', ' ', 'w', 'o', 'r', 'l', 'd', '.', ' ', 'T', 'h', 'a', 't', \"'\", 's', ' ', 'a', ' ', 'o', 'n', 'e', ' ', 's', 't', 'a', 'r', '.', ' ', 'F', 'i', 'v', 'e', ' ', 's', 't', 'a', 'r', ',', ' ', 't', 'h', 'e', ' ', 'f', 'i', 'v', 'e', ' ', 's', 't', 'a', 'r', 's', '.', ' ', 'Y', 'o', 'u', \"'\", 'r', 'e', ' ', 'b', 'e', 'i', 'n', 'g', ' ', 'p', 'r', 'o', 'a', 'c', 't', 'i', 'v', 'e', '.', ' ', 'Y', 'o', 'u', ' ', 'g', 'e', 't', ' ', 'y', 'o', 'u', 'r', ' ', 'c', 'o', 'f', 'f', 'e', 'e', ',', ' ', 'y', 'o', 'u', ' ', 'j', 'u', 's', 't', ' ', 'p', 'o', 'p', ' ', 'd', 'o', 'w', 'n', ' ', '[', '0', '0', ':', '4', '9', ':', '0', '0', ']', ' ', 'h', 'e', 'r', 'e', ' ', 'a', 'n', 'd', ' ', 'y', 'o', 'u', \"'\", 'r', 'e', ' ', 'j', 'u', 's', 't', ' ', 'h', 'a', 'v', 'i', 'n', 'g', ' ', 'a', ' ', 'm', 'a', 'g', 'i', 'c', 'a', 'l', ' ', 'm', 'o', 'm', 'e', 'n', 't', ' ', 'w', 'i', 't', 'h', ' ', 'y', 'o', 'u', 'r', ' ', 'm', 'o', 'r', 'n', 'i', 'n', 'g', ' ', 'c', 'u', 'p', ' ', 'o', 'f', ' ', 'J', 'o', 'e', '.', ' ', 'M', 'y', ' ', 's', 'y', 's', 't', 'e', 'm', ' ', 'i', 's', ' ', 'g', 'o', 'o', 'd', ' ', 'a', 'b', 'o', 'u', 't', ' ', 'a', ' ', 'l', 'i', 't', 't', 'l', 'e', ' ', 't', 'i', 'p', ' ', 'o', 'f', ' ', 't', 'h', 'e', ' ', 'h', 'a', 't', '.', ' ', 'C', 'h', 'e', 'e', 'r', 's', ' ', 't', 'o', ' ', 't', 'h', 'e', 'm', ' ', 'a', 's', ' ', 't', 'h', 'e', 'y', ' ', 'f', 'i', 'g', 'h', 't', ' ', 'o', 'n', ' ', 'b', 'y', '.', ' ', 'T', 'h', 'i', 's', ' ', 'i', 's', ' ', 't', 'h', 'e', ' ', 'b', 'e', 's', 't', ' ', 'm', 'o', 'm', 'e', 'n', 't', ' ', 'o', 'f', ' ', 'y', 'o', 'u', 'r', ' ', 'l', 'i', 'f', 'e', ' ', 'a', 'n', 'd', ' ', 'y', 'o', 'u', \"'\", 'r', 'e', ' ', 'g', 'o', 'i', 'n', 'g', ' ', 't', 'o', ' ', 'c', 'o', 'm', 'e', ' ', 'b', 'a', 'c', 'k', ' ', 'a', 'n', 'd', ' ', 't', 'e', 'l', 'l', ' ', 'e', 'v', 'e', 'r', 'y', 'b', 'o', 'd', 'y', ' ', 'a', 'b', 'o', 'u', 't', ' ', 'i', 't', ' ', 'a', 'n', 'd', ' ', 'p', 'o', 's', 't', ' ', 'i', 't', ' ', 'o', 'n', ' ', 'F', 'a', 'c', 'e', 'b', 'o', 'o', 'k', '.', ' ', 'T', 'o', 'i', 'l', 'e', 't', ' ', 'p', 'a', 'p', 'e', 'r', '.', ' ', 'T', 'h', 'e', 'r', 'e', ' ', 'w', 'a', 's', ' ', 'a', ' ', 'l', 'o', 'g', 'i', 's', 't', 'i', 'c', 'a', 'l', ' ', 's', 'n', 'a', 'f', 'u', '.', ' ', 'W', 'e', ' ', 'h', 'a', 'v', 'e', ' ', 'o', 'n', 'e', ' ', 'r', 'o', 'l', 'l', '.', ' ', 'O', 'h', ',', ' ', 'y', 'e', 'a', 'h', '.', ' ', 'T', 'h', 'i', 's', ' ', 'l', 'i', 't', 't', 'l', 'e', ' ', 'b', 'u', 'm', 'm', 'e', 'r', '.', ' ', 'D', 'o', 'n', \"'\", 't', ' ', 'k', 'n', 'o', 'w', ' ', 'h', 'o', 'w', ' ', 'e', 'l', 's', 'e', ' ', 't', 'o', ' ', 'p', 'u', 't', ' ', 'i', 't', '.', ' ', 'E', 'e', 'k', '.', '\\n', '\\n', '\\n', 'M', 'a', 't', 't', ':', ' ', '[', '0', '0', ':', '4', '9', ':', '3', '0', ']', ' ', 'F', 'o', 'r', ' ', 't', 'h', 'e', ' ', 'w', 'h', 'o', 'l', 'e', ' ', '[', '0', '0', ':', '4', '9', ':', '3', '0', ']', ' ', 't', 'r', 'i', 'p', '?', '\\n', '\\n', '\\n', 'L', 'a', 'r', 's', ':', ' ', '[', '0', '0', ':', '4', '9', ':', '3', '1', ']', ' ', 'Y', 'e', 'a', 'h', '.', '\\n', '\\n', '\\n', 'L', 'a', 'r', 's', ':', ' ', '[', '0', '0', ':', '4', '9', ':', '3', '2', ']', ' ', '1', '8', ' ', 'b', 'o', 'w', 'e', 'l', ' ', 'm', 'o', 'v', 'e', 'm', 'e', 'n', 't', 's', ' ', 'a', ' ', 'd', 'a', 'y', '.', ' ', 'W', 'e', ' ', 'n', 'e', 'e', 'd', ' ', 't', 'o', ' ', 'p', 'r', 'e', 's', 'e', 'r', 'v', 'e', ' ', 't', 'h', 'i', 's', '.', ' ', 'O', 'k', 'a', 'y', ',', ' ', 's', 'o', ' ', 'e', 'v', 'e', 'r', 'y', 'o', 'n', 'e', ' ', 'g', 'e', 't', 's', ' ', 'o', 'n', 'e', ' ', 's', 'q', 'u', 'a', 'r', 'e', ',', ' ', 'y', 'o', 'u', ' ', 'f', 'o', 'l', 'd', ' ', 'i', 't', ' ', 't', 'w', 'i', 'c', 'e', ',', ' ', 'o', 'k', 'a', 'y', '?', ' ', 'A', 'n', 'd', ' ', 't', 'h', 'i', 's', ' ', 'l', 'i', 't', 't', 'l', 'e', ' ', 'c', 'o', 'r', 'n', 'e', 'r', ' ', 'r', 'i', 'g', 'h', 't', ' ', 'h', 'e', 'r', 'e', ',', ' ', 'y', 'o', 'u', ' ', 'j', 'u', 's', 't', ' ', 'g', 'o', ' ', 'a', 'h', 'e', 'a', 'd', ' ', 'a', 'n', 'd', ' ', 'r', 'i', 'p', ' ', 'o', 'f', 'f', '.', ' ', 'T', 'h', 'i', 's', ' ', 'i', 's', ' ', 'r', 'e', 'a', 'l', 'l', 'y', ' ', 'i', 'm', 'p', 'o', 'r', 't', 'a', 'n', 't', '.', ' ', 'Y', 'o', 'u', ' ', 'd', 'o', 'n', \"'\", 't', ' ', 'w', 'a', 'n', 't', ' ', 't', 'o', ' ', 'l', 'o', 's', 'e', ' ', 't', 'h', 'i', 's', '.', ' ', 'Y', 'o', 'u', ' ', 'g', 'o', 't', ' ', 't', 'o', ' ', 'r', 'e', 'm', 'e', 'm', 'b', 'e', 'r', ' ', 'w', 'h', 'e', 'r', 'e', ' ', 'i', 't', ' ', 'i', 's', '.', ' ', 'T', 'h', 'e', 'n', ' ', 'y', 'o', 'u', ' ', 'p', 'r', 'o', 'c', 'e', 'e', 'd', ' ', 't', 'o', ' ', 'o', 'p', 'e', 'n', ' ', 'i', 't', ' ', 'u', 'p', '.', ' ', 'N', 'o', 'w', ' ', 'y', 'o', 'u', ' ', 's', 't', 'i', 'c', 'k', ' ', 'y', 'o', 'u', 'r', ' ', 'f', 'i', 'n', 'g', 'e', 'r', ' ', 'i', 'n', ' ', 't', 'h', 'e', 'r', 'e', ' ', 'a', 'n', 'd', ' ', 't', 'h', 'e', 'n', ' ', 'y', 'o', 'u', ' ', 'g', 'o', ' ', 't', 'o', ' ', 't', 'o', 'w', 'n', ' ', '[', '0', '0', ':', '5', '0', ':', '0', '0', ']', ' ', 'w', 'i', 't', 'h', ' ', 't', 'h', 'i', 's', ' ', 'o', 'n', 'e', ',', ' ', 'p', 'l', 'y', ' ', 'w', 'i', 't', 'h', ' ', 't', 'h', 'e', ' ', 'f', 'i', 'n', 'g', 'e', 'r', '.', ' ', 'B', 'u', 't', ' ', 't', 'h', 'i', 's', ' ', 'i', 's', ' ', 'n', 'i', 'c', 'e', ' ', 'm', 'e', 't', 'h', 'o', 'd', ' ', 'b', 'e', 'c', 'a', 'u', 's', 'e', ' ', 'w', 'h', 'e', 'n', ' ', 'e', 'v', 'e', 'r', 'y', 't', 'h', 'i', 'n', 'g', ' ', 'i', 's', ' ', 'a', 'l', 'l', ' ', 'd', 'o', 'n', 'e', ',', ' ', 'y', 'o', 'u', ' ', 'j', 'u', 's', 't', ' ', 'g', 'o', ' ', 'a', 'h', 'e', 'a', 'd', ' ', 'a', 'n', 'd', ' ', 'j', 'u', 's', 't', '.', ' ', 'J', 'u', 's', 't', ' ', 'w', 'i', 'p', 'e', ' ', 'y', 'o', 'u', 'r', ' ', 'f', 'i', 'n', 'g', 'e', 'r', ' ', 'o', 'f', 'f', '.', ' ', 'O', 'k', 'a', 'y', '?', ' ', 'B', 'u', 't', ' ', 'w', 'h', 'a', 't', ' ', 'a', 'b', 'o', 'u', 't', ' ', 't', 'h', 'a', 't', ' ', 'c', 'o', 'r', 'n', 'e', 'r', ' ', 'I', ' ', 't', 'o', 'l', 'd', ' ', 'y', 'o', 'u', ' ', 'a', 'b', 'o', 'u', 't', '?', ' ', 'D', 'i', 'd', 'n', \"'\", 't', ' ', 'w', 'a', 'n', 't', ' ', 't', 'o', ' ', 'l', 'o', 's', 'e', ' ', 'i', 't', '.', ' ', 'Y', 'o', 'u', ' ', 't', 'a', 'k', 'e', ' ', 't', 'h', 'a', 't', ' ', 'c', 'o', 'r', 'n', 'e', 'r', ' ', 'a', 'n', 'd', ' ', 'y', 'o', 'u', ' ', 'g', 'e', 't', ' ', 'u', 'n', 'd', 'e', 'r', 'n', 'e', 'a', 't', 'h', ' ', 't', 'h', 'e', ' ', 'f', 'i', 'n', 'g', 'e', 'r', 'n', 'a', 'i', 'l', 's', '.', ' ', 'F', 'i', 'n', 'e', ' ', 't', 'u', 'n', 'e', '.', ' ', 'W', 'h', 'a', 't', 'e', 'v', 'e', 'r', ' ', 'I', \"'\", 'm', ' ', 'o', 'r', 'd', 'e', 'r', 'i', 'n', 'g', ' ', 'i', 'n', 's', 'i', 'd', 'e', ',', ' ', 'i', 't', \"'\", 's', ' ', 'n', 'o', 't', ' ', 'a', ' ', 'r', 'o', 'l', 'l', ' ', 'o', 'f', ' ', 't', 'o', 'i', 'l', 'e', 't', ' ', 'p', 'a', 'p', 'e', 'r', ',', ' ', 'o', 'k', 'a', 'y', '?', ' ', 'Y', 'o', 'u', ' ', 'd', 'o', 'n', \"'\", 't', ' ', 'h', 'a', 'v', 'e', ' ', 't', 'o', ' ', 'd', 'o', ' ', 't', 'h', 'e', ' ', 'o', 'n', 'e', ' ', 'p', 'l', 'y', ' ', '[', '0', '0', ':', '5', '0', ':', '3', '0', ']', ' ', 'm', 'e', 't', 'h', 'o', 'd', ',', ' ', 'o', 'k', 'a', 'y', '?', ' ', 'B', 'u', 't', ' ', 't', 'h', 'a', 't', \"'\", 's', ' ', 'n', 'o', 't', ' ', 'g', 'a', 'v', 'e', ' ', 'y', 'o', 'u', ' ', 't', 'h', 'e', ' ', 'g', 'r', 'e', 'e', 'n', ' ', 'l', 'i', 'g', 'h', 't', ' ', 't', 'o', ' ', 'd', 'o', ' ', 't', 'h', 'e', ' ', 'f', 'u', 'l', 'l', ' ', 'f', 'l', 'o', 's', 's', ' ', 'a', 'n', 'd', ' ', 'd', 'o', ' ', 'a', 'l', 'l', ' ', 't', 'h', 'a', 't', ' ', 's', 't', 'u', 'f', 'f', '.', ' ', 'T', 'h', 'e', 'r', 'e', \"'\", 's', ' ', 'a', ' ', 'b', 'u', 'n', 'c', 'h', ' ', 'o', 'k', 'a', 'y', '?', ' ', 'D', 'a', 'w', ' ', 's', 't', 'o', 'p', '.', '\\n', '\\n', '\\n', 'D', 'a', 'n', 'a', ':', ' ', '[', '0', '0', ':', '5', '0', ':', '4', '1', ']', ' ', 'H', 'o', 'w', ' ', 'm', 'a', 'n', 'y', ' ', 's', 't', 'a', 'r', 's', '?', '\\ufeff', 'S', 'c', 'e', 'n', 'e', ' ', '1', '3', '\\n', '\\n', '\\n', 'E', 'l', 'i', 'z', 'a', 'b', 'e', 't', 'h', ':', ' ', '[', '0', '0', ':', '4', '4', ':', '5', '3', ']', ' ', 'W', 'e', ' ', 'a', 'r', 'e', ' ', 'k', 'i', 'n', 'd', ' ', 'o', 'f', ' ', 's', 'e', 't', 't', 'l', 'e', 'd', ' ', 'o', 'n', ' ', 't', 'h', 'e', ' ', 'f', 'a', 'c', 't', ' ', 't', 'h', 'a', 't', ' ', 'w', 'e', ' ', 'a', 'r', 'e', ' ', 'v', 'e', 'r', 'y', ' ', 'l', 'i', 'm', 'i', 't', 'e', 'd', ' ', 'i', 'n', ' ', 'o', 'p', 't', 'i', 'o', 'n', 's', ' ', '[', '0', '0', ':', '4', '5', ':', '0', '0', ']', ' ', 't', 'o', ' ', 'd', 'o', ' ', 's', 't', 'r', 'a', 'i', 'g', 'h', 't', ' ', 'a', 'd', 'o', 'p', 't', 'i', 'o', 'n', '.', ' ', 'E', 'v', 'e', 'n', ' ', 'i', 'f', ' ', 't', 'h', 'e', ' ', 'a', 'd', 'o', 'p', 't', 'i', 'o', 'n', ' ', 'a', 'g', 'e', 'n', 'c', 'y', ' ', 'w', 'a', 's', ' ', 'w', 'i', 'l', 'l', 'i', 'n', 'g', ' ', 't', 'o', ' ', 'w', 'o', 'r', 'k', ' ', 'w', 'i', 't', 'h', ' ', 'u', 's', ',', ' ', 'w', 'e', ' ', 'w', 'o', 'u', 'l', 'd', ' ', 's', 't', 'i', 'l', 'l', ' ', 'h', 'a', 'v', 'e', ' ', 't', 'o', ' ', 'b', 'e', ' ', 'c', 'h', 'o', 's', 'e', 'n', ' ', 'b', 'y', ' ', 'b', 'i', 'r', 't', 'h', ' ', 'p', 'a', 'r', 'e', 'n', 't', 's', ' ', 'a', 'n', 'd', ' ', 't', 'h', 'e', ' ', 'l', 'i', 'k', 'e', 'l', 'i', 'h', 'o', 'o', 'd', ' ', 'o', 'f', ' ', 't', 'h', 'a', 't', ' ', 'w', 'a', 's', ' ', 'n', 'o', 't', ' ', 'v', 'e', 'r', 'y', ' ', 'h', 'i', 'g', 'h', '.', ' ', 'S', 'o', ' ', 'w', 'e', ' ', 's', 't', 'a', 'r', 't', 'e', 'd', ' ', 'l', 'e', 'a', 'n', 'i', 'n', 'g', ' ', 'a', ' ', 'l', 'i', 't', 't', 'l', 'e', ' ', 'b', 'i', 't', ' ', 'm', 'o', 'r', 'e', ' ', 't', 'o', 'w', 'a', 'r', 'd', 's', ' ', 'f', 'o', 's', 't', 'e', 'r', ' ', 'c', 'a', 'r', 'e', '.', ' ', 'W', 'e', ' ', 'j', 'u', 's', 't', ' ', 'm', 'e', 't', ' ', 'w', 'i', 't', 'h', ' ', 't', 'h', 'e', ' ', 's', 'e', 'c', 'o', 'n', 'd', ' ', 'f', 'o', 's', 't', 'e', 'r', ' ', 'a', 'g', 'e', 'n', 'c', 'y', ' ', 't', 'o', 'n', 'i', 'g', 'h', 't', ' ', 'a', 'n', 'd', ' ', 'f', 'o', 'r', ' ', 't', 'h', 'e', ' ', 'm', 'o', 's', 't', ' ', 'p', 'a', 'r', 't', ',', ' ', 'w', 'e', ' ', 'g', 'o', 't', ' ', 't', 'h', 'e', ' ', 'g', 'o', ' ', 'a', 'h', 'e', 'a', 'd', '.', ' ', 'T', 'h', 'e', 'y', ' ', 's', 'a', 'i', 'd', ' ', 't', 'h', 'a', 't', ' ', 'a', 's', ' ', 'l', 'o', 'n', 'g', ' ', 'a', 's', ' ', 'm', 'y', ' ', 'd', 'o', 'c', 't', 'o', 'r', ' ', 's', 'i', 'g', 'n', 's', ' ', 'o', 'f', 'f', ' ', 'a', 'n', 'd', ' ', 's', 'a', 'y', 's', ' ', 't', 'h', 'a', 't', ' ', '[', '0', '0', ':', '4', '5', ':', '3', '0', ']', ' ', 'I', ' ', 'a', 'm', ' ', 'p', 'h', 'y', 's', 'i', 'c', 'a', 'l', 'l', 'y', ' ', 'a', 'n', 'd', ' ', 'm', 'e', 'n', 't', 'a', 'l', 'l', 'y', ' ', 'f', 'i', 't', ' ', 't', 'o', ' ', 'b', 'e', ' ', 'a', ' ', 'p', 'a', 'r', 'e', 'n', 't', ',', ' ', 't', 'h', 'a', 't', ' ', 't', 'h', 'e', 'y', ' ', 'h', 'a', 'v', 'e', ' ', 'n', 'o', ' ', 'o', 'b', 'j', 'e', 'c', 't', 'i', 'o', 'n', 's', ' ', 't', 'o', ' ', 'm', 'y', ' ', 'c', 'u', 'r', 'r', 'e', 'n', 't', ' ', 'h', 'e', 'a', 'l', 't', 'h', ' ', 's', 't', 'a', 't', 'u', 's', '.', '\\n', '\\n', '\\n', 'J', 'u', 's', 't', 'i', 'n', ':', ' ', '[', '0', '0', ':', '4', '5', ':', '3', '8', ']', ' ', 'I', ' ', 't', 'h', 'i', 'n', 'k', ' ', 'o', 'n', 'e', ' ', 't', 'h', 'i', 'n', 'g', ' ', 't', 'h', 'a', 't', \"'\", 's', ' ', 'k', 'i', 'n', 'd', ' ', 'o', 'f', ' ', 'u', 'n', 'i', 'q', 'u', 'e', ' ', 'f', 'o', 'r', ' ', 'y', 'o', 'u', 'n', 'g', ' ', 'a', 'd', 'u', 'l', 't', ' ', 'c', 'a', 'n', 'c', 'e', 'r', ' ', 'p', 'a', 't', 'i', 'e', 'n', 't', 's', ' ', 'i', 's', ' ', 'w', 'e', ' ', 'u', 'n', 'd', 'e', 'r', 's', 't', 'a', 'n', 'd', ' ', 'w', 'h', 'a', 't', ' ', 'i', 't', \"'\", 's', ' ', 'l', 'i', 'k', 'e', ' ', 't', 'o', ' ', 'b', 'e', ' ', 'b', 'r', 'o', 'k', 'e', 'n', ' ', 'i', 'n', 't', 'o', ' ', 'b', 'e', 'i', 'n', 'g', ' ', 'i', 'n', ' ', 'a', ' ', 'f', 'a', 'm', 'i', 'l', 'y', ',', ' ', 'a', ' ', 'g', 'r', 'o', 'u', 'p', ' ', 'o', 'f', ' ', 'w', 'h', 'a', 't', 'e', 'v', 'e', 'r', ' ', 'y', 'o', 'u', ' ', 'w', 'a', 'n', 't', ' ', 't', 'o', ' ', 'c', 'a', 'l', 'l', ' ', 'i', 't', ',', ' ', 't', 'h', 'a', 't', ' ', 'w', 'h', 'e', 'r', 'e', ' ', 'l', 'i', 'f', 'e', ' ', 'j', 'u', 's', 't', ' ', 'h', 'a', 's', 'n', \"'\", 't', ' ', 'g', 'o', 'n', 'e', '.', ' ', 'R', 'i', 'g', 'h', 't', '.', '\\n', '\\n', '\\n', 'E', 'l', 'i', 'z', 'a', 'b', 'e', 't', 'h', ':', ' ', '[', '0', '0', ':', '4', '5', ':', '5', '3', ']', ' ', 'W', 'e', ' ', 'g', 'r', 'a', 'd', 'u', 'a', 't', 'e', 'd', ' ', 'f', 'r', 'o', 'm', ' ', 'B', 'a', 'y', 'l', 'o', 'r', ' ', 't', 'e', 'n', ' ', 'y', 'e', 'a', 'r', 's', ' ', 'a', 'g', 'o', ' ', 'w', 'h', 'e', 'n', ' ', 'w', 'e', ' ', 'p', 'l', 'a', 'n', 'n', 'e', 'd', ' ', 't', 'o', ' ', 'h', 'a', 'v', 'e', ' ', 't', 'h', 'r', 'e', 'e', ' ', 'o', 'r', ' ', 'f', 'o', 'u', 'r', ' ', 'k', 'i', 'd', 's', ' ', 'b', 'y', ' ', 'n', 'o', 'w', '.', ' ', 'A', 'n', 'd', ' ', '[', '0', '0', ':', '4', '6', ':', '0', '0', ']', ' ', 'o', 'b', 'v', 'i', 'o', 'u', 's', 'l', 'y', ' ', 't', 'h', 'a', 't', ' ', 'w', 'a', 's', 'n', \"'\", 't', ' ', 'G', 'o', 'd', \"'\", 's', ' ', 'w', 'i', 'l', 'l', ' ', 'a', 'n', 'd', ' ', 'i', 't', ' ', 'h', 'a', 's', 'n', \"'\", 't', ' ', 'h', 'a', 'p', 'p', 'e', 'n', 'e', 'd', '.', ' ', 'B', 'u', 't', ' ', 'w', 'e', ' ', 'a', 'r', 'e', ' ', 'g', 'i', 'v', 'e', 'n', ' ', 't', 'h', 'i', 's', ' ', 'p', 'o', 't', 'e', 'n', 't', 'i', 'a', 'l', 'l', 'y', ' ', 'g', 'i', 'v', 'e', 'n', ' ', 't', 'h', 'i', 's', ' ', 'a', 'm', 'a', 'z', 'i', 'n', 'g', ' ', 'o', 'p', 'p', 'o', 'r', 't', 'u', 'n', 'i', 't', 'y', ' ', 't', 'o', ' ', 'h', 'e', 'l', 'p', ' ', 'k', 'i', 'd', 's', ' ', 't', 'h', 'a', 't', ' ', 'n', 'e', 'e', 'd', ' ', 'h', 'e', 'l', 'p', ' ', 'a', 'n', 'd', ' ', 'l', 'o', 'v', 'e', ' ', 'o', 'n', ' ', 'k', 'i', 'd', 's', ' ', 't', 'h', 'a', 't', ' ', 'n', 'e', 'e', 'd', ' ', 'l', 'o', 'v', 'e', ' ', 'a', 'n', 'd', '.', ' ', 'W', 'e', ' ', 'p', 'r', 'o', 'b', 'a', 'b', 'l', 'y', ' ', 'n', 'e', 'v', 'e', 'r', ' ', 'w', 'o', 'u', 'l', 'd', ' ', 'h', 'a', 'v', 'e', ' ', 'e', 'v', 'e', 'n', ' ', 'c', 'o', 'n', 's', 'i', 'd', 'e', 'r', 'e', 'd', ' ', 't', 'h', 'i', 's', ' ', 'h', 'a', 'd', ' ', 'w', 'e', ' ', 'b', 'e', 'e', 'n', ' ', 'a', 'b', 'l', 'e', ' ', 't', 'o', ' ', 'h', 'a', 'v', 'e', ' ', 'b', 'i', 'o', 'l', 'o', 'g', 'i', 'c', 'a', 'l', ' ', 'k', 'i', 'd', 's', '.', ' ', 'S', 'o', '.', '\\n', '\\n', '\\n', 'J', 'u', 's', 't', 'i', 'n', ':', ' ', '[', '0', '0', ':', '4', '6', ':', '2', '6', ']', ' ', 'W', 'e', ' ', 'k', 'n', 'o', 'w', ' ', 'w', 'h', 'a', 't', ' ', 'i', 't', \"'\", 's', ' ', 'l', 'i', 'k', 'e', ' ', 't', 'o', ' ', 'b', 'e', ' ', 't', 'h', 'e', 'r', 'e', '.', ' ', 'A', 'n', 'd', ' ', 'I', ' ', '[', '0', '0', ':', '4', '6', ':', '3', '0', ']', ' ', 't', 'h', 'i', 'n', 'k', ' ', 't', 'h', 'a', 't', ' ', 'i', 'f', ' ', 'I', ' ', 'c', 'a', 'n', ' ', 'b', 'e', ' ', 'a', ' ', 'p', 'a', 'r', 't', ' ', 'i', 'n', ' ', 'g', 'e', 't', 't', 'i', 'n', 'g', ' ', 'a', ' ', 'k', 'i', 'd', ' ', 'o', 'u', 't', ' ', 'o', 'f', ' ', 't', 'h', 'a', 't', ' ', 's', 'i', 't', 'u', 'a', 't', 'i', 'o', 'n', ',', ' ', 't', 'h', 'a', 't', \"'\", 's', ' ', 'a', ' ', 'g', 'o', 'o', 'd', ' ', 't', 'h', 'i', 'n', 'g', '.', '\\n', '\\n', '\\n', 'E', 'l', 'i', 'z', 'a', 'b', 'e', 't', 'h', ':', ' ', '[', '0', '0', ':', '4', '6', ':', '3', '8', ']', ' ', 'T', 'h', 'a', 't', \"'\", 's', ' ', 'p', 'r', 'e', 't', 't', 'y', ' ', 'n', 'e', 'a', 't', '.', ' ', 'V', 'e', 'r', 'y', ' ', 'e', 'x', 'c', 'i', 't', 'i', 'n', 'g', '.', ' ', 'A', 'n', 'd', ' ', 'w', 'e', \"'\", 'l', 'l', ' ', 'j', 'u', 's', 't', ' ', 'k', 'e', 'e', 'p', ' ', 'p', 'r', 'a', 'y', 'i', 'n', 'g', ' ', 'a', 'n', 'd', ' ', 'k', 'e', 'e', 'p', ' ', 'h', 'o', 'p', 'i', 'n', 'g', '.', '\\ufeff', 'S', 'c', 'e', 'n', 'e', ' ', '1', '2', '\\n', '\\n', '\\n', 'R', 'y', 'a', 'n', ':', ' ', '[', '0', '0', ':', '4', '4', ':', '0', '4', ']', ' ', 'f', 'e', 'e', 't', ' ', '[', '0', '0', ':', '4', '4', ':', '0', '0', ']', ' ', 'd', 'i', 'd', 'n', \"'\", 't', ' ', 'g', 'e', 't', ' ', 'c', 'o', 'l', 'd', '.', '\\n', '\\n', '\\n', 'L', 'i', 'n', 'd', 's', 'e', 'y', ':', ' ', '[', '0', '0', ':', '4', '4', ':', '0', '6', ']', ' ', 'F', 'e', 'e', 't', ' ', 'g', 'o', 't', ' ', 'h', 'o', 't', '.', '\\n', '\\n', '\\n', 'R', 'y', 'a', 'n', ':', ' ', '[', '0', '0', ':', '4', '4', ':', '0', '7', ']', ' ', 'M', 'y', ' ', 'f', 'e', 'e', 't', ' ', 'g', 'o', 't', ' ', 'h', 'o', 't', '.', ' ', 'M', 'y', ' ', 'f', 'e', 'e', 't', ' ', 'a', 'r', 'e', ' ', 't', 'i', 'n', 'g', 'l', 'i', 'n', 'g', '.', '\\n', '\\n', '\\n', 'L', 'i', 'n', 'd', 's', 'e', 'y', ':', ' ', '[', '0', '0', ':', '4', '4', ':', '1', '0', ']', ' ', 'G', 'u', 'e', 's', 's', ' ', 'w', 'h', 'a', 't', '?', '\\n', '\\n', '\\n', 'R', 'y', 'a', 'n', ':', ' ', '[', '0', '0', ':', '4', '4', ':', '1', '3', ']', ' ', 'G', 'u', 'e', 's', 's', ' ', 'w', 'h', 'a', 't', '?', '\\n', '\\n', '\\n', 'L', 'i', 'n', 'd', 's', 'e', 'y', ':', ' ', '[', '0', '0', ':', '4', '4', ':', '1', '4', ']', ' ', 'W', 'h', 'a', 't', '?', '\\n', '\\n', '\\n', 'R', 'y', 'a', 'n', ':', ' ', '[', '0', '0', ':', '4', '4', ':', '1', '5', ']', ' ', 'Y', 'o', 'u', \"'\", 'r', 'e', ' ', 'm', 'y', ' ', 'w', 'i', 'f', 'e', '.', ' ', 'Y', 'o', 'u', \"'\", 'r', 'e', ' ', 's', 'o', ' ', 'b', 'e', 'a', 'u', 't', 'i', 'f', 'u', 'l', '.', '\\n', '\\n', '\\n', 'L', 'i', 'n', 'd', 's', 'e', 'y', ':', ' ', '[', '0', '0', ':', '4', '4', ':', '2', '1', ']', ' ', 'T', 'h', 'a', 't', ' ', 'o', 'n', 'e', ' ', 'd', 'i', 'd', 'n', \"'\", 't', ' ', 'e', 'v', 'e', 'n', ' ', 'm', 'a', 'k', 'e', ' ', 'i', 't', ' ', 'i', 'n', ' ', 't', 'h', 'e', ' ', 'w', 'a', 't', 'e', 'r', '.', '\\n', '\\n', '\\n', 'R', 'y', 'a', 'n', ':', ' ', '[', '0', '0', ':', '4', '4', ':', '3', '8', ']', ' ', 'W', 'e', \"'\", 'r', 'e', ' ', 'm', 'a', 'r', 'r', 'i', 'e', 'd', '.', ' ', '[', '0', '0', ':', '4', '4', ':', '3', '0', ']', '\\ufeff', 'S', 'c', 'e', 'n', 'e', ' ', '1', '0', '\\n', '\\n', '\\n', 'L', 'i', 'n', 'd', 's', 'e', 'y', ':', ' ', '[', '0', '0', ':', '3', '6', ':', '1', '5', ']', ' ', 'O', 'h', ',', ' ', 'y', 'e', 'a', 'h', '.', '\\n', '\\n', '\\n', 'L', 'i', 'n', 'd', 's', 'e', 'y', ':', ' ', '[', '0', '0', ':', '3', '6', ':', '1', '5', ']', ' ', 'I', 's', '.', ' ', 'I', ' ', 'w', 'e', 'n', 't', ' ', 'o', 'n', ' ', 'a', ' ', 't', 'r', 'i', 'p', ' ', 'i', 'n', ' ', 'S', 'e', 'p', 't', 'e', 'm', 'b', 'e', 'r', '.', ' ', 'S', 'o', ' ', 't', 'h', 'i', 's', ' ', 'i', 's', ' ', 'a', ' ', 's', 'e', 'c', 't', 'i', 'o', 'n', ' ', 'o', 'f', ' ', 't', 'h', 'e', ' ', 'r', 'i', 'v', 'e', 'r', ' ', 'w', 'e', ' ', 'd', 'i', 'd', '.', '\\n', '\\n', '\\n', 'L', 'a', 'r', 's', ':', ' ', '[', '0', '0', ':', '3', '6', ':', '2', '5', ']', ' ', 'W', 'h', 'e', 'n', ' ', 'w', 'e', ' ', 'h', 'a', 'd', ' ', 'u', 'p', ' ', 't', 'h', 'e', 'r', 'e', '.', ' ', 'I', 't', ' ', 'i', 's', ' ', 'a', ' ', 'g', 'o', 'a', 't', ' ', 'p', 'a', 't', 'h', ' ', 'a', 'n', 'd', ' ', 'w', 'e', \"'\", 'r', 'e', ' ', 'g', 'o', 'i', 'n', 'g', ' ', 't', 'o', ' ', 'e', 'n', 'd', ' ', '[', '0', '0', ':', '3', '6', ':', '3', '0', ']', ' ', 'u', 'p', ' ', 'r', 'i', 'g', 'h', 't', ' ', 'o', 'n', ' ', 't', 'o', 'p', '.', ' ', 'I', ' ', 's', 'e', 'e', ' ', 't', 'h', 'e', ' ', 'f', 'e', 'a', 'r', ' ', 'i', 'n', ' ', 'y', 'o', 'u', 'r', ' ', 'e', 'y', 'e', 's', '.', '\\n', '\\n', '\\n', 'L', 'a', 'r', 's', ':', ' ', '[', '0', '0', ':', '3', '6', ':', '3', '4', ']', ' ', 'I', ' ', 's', 'e', 'e', ' ', 't', 'h', 'e', ' ', 'f', 'e', 'a', 'r', ' ', 'i', 'n', ' ', 'y', 'o', 'u', 'r', ' ', 'e', 'y', 'e', 's', '.', ' ', 'Y', 'o', 'u', ' ', 'g', 'o', 't', ' ', 't', 'h', 'i', 's', '.', '\\n', '\\n', '\\n', 'D', 'a', 'v', 'i', 'd', ':', ' ', '[', '0', '0', ':', '3', '6', ':', '3', '7', ']', ' ', 'Y', 'o', 'u', ' ', 'c', 'a', 'n', ' ', 'g', 'r', 'a', 'b', ' ', 'o', 'n', ' ', 't', 'h', 'e', ' ', 'r', 'i', 'g', 'h', 't', '.', ' ', 'G', 'o', 'o', 'd', '.', ' ', 'G', 'o', 'o', 'd', '.', ' ', 'G', 'o', 'o', 'd', '.', ' ', 'P', 'e', 'r', 'f', 'e', 'c', 't', '.', ' ', 'P', 'e', 'r', 'f', 'e', 'c', 't', '.', ' ', 'Y', 'o', 'u', ' ', 'c', 'a', 'n', ' ', 'p', 'u', 't', ' ', 't', 'h', 'e', ' ', 'o', 't', 'h', 'e', 'r', ' ', 'f', 'o', 'o', 't', ' ', 'r', 'i', 'g', 'h', 't', ' ', 'u', 'p', ' ', 'o', 'n', ' ', 't', 'o', 'p', '.', ' ', 'I', ' ', 'g', 'o', 't', ' ', 'y', 'o', 'u', '.', ' ', 'I', ' ', 'g', 'o', 't', ' ', 'y', 'o', 'u', '.', ' ', 'W', 'h', 'a', 't', \"'\", 's', ' ', 't', 'h', 'a', 't', ' ', 'r', 'i', 'g', 'h', 't', ' ', 't', 'h', 'e', 'r', 'e', '?', ' ', 'T', 'h', 'a', 't', \"'\", 's', ' ', 'o', 'k', 'a', 'y', '.', ' ', 'I', 't', \"'\", 's', '.', '\\n', '\\n', '\\n', 'L', 'i', 'n', 'd', 's', 'e', 'y', ':', ' ', '[', '0', '0', ':', '3', '7', ':', '0', '2', ']', ' ', 'H', 'o', 'l', 'y', ' ', '[', '0', '0', ':', '3', '7', ':', '0', '0', ']', ' ', 's', 'h', 'i', 't', ',', ' ', 'g', 'u', 'y', 's', '.', '\\n', '\\n', '\\n', 'R', 'o', 'y', ':', ' ', '[', '0', '0', ':', '3', '7', ':', '0', '6', ']', ' ', 'N', 'i', 'c', 'e', ' ', 'w', 'o', 'r', 'k', ',', ' ', 'b', 'u', 'd', 'd', 'y', '.', '\\n', '\\n', '\\n', 'L', 'i', 'n', 'd', 's', 'e', 'y', ':', ' ', '[', '0', '0', ':', '3', '7', ':', '0', '9', ']', ' ', 'T', 'h', 'i', 's', ' ', 's', 'p', 'o', 't', ' ', 'r', 'i', 'g', 'h', 't', ' ', 'h', 'e', 'r', 'e', ',', ' ', 't', 'h', 'a', 't', \"'\", 's', ' ', 'n', 'o', 't', ' ', 'B', 'e', 'n', '.', ' ', 'S', 'o', ' ', 'w', 'e', ' ', 'h', 'i', 'k', 'e', 'd', ' ', 'u', 'p', ' ', 't', 'h', 'e', 'r', 'e', ' ', 'o', 'n', 'e', ' ', 'm', 'o', 'r', 'n', 'i', 'n', 'g', '.', ' ', 'T', 'h', 'e', 'r', 'e', ' ', 'a', 'r', 'e', ' ', 's', 'o', ' ', 'm', 'a', 'n', 'y', ' ', 'd', 'a', 'y', 's', ' ', 'r', 'i', 'g', 'h', 't', ' ', 'n', 'o', 'w', ' ', 't', 'h', 'a', 't', ' ', 'I', ' ', 'w', 'i', 's', 'h', ' ', 'I', ' ', 'w', 'a', 's', ' ', 'u', 'p', ' ', 't', 'h', 'e', 'r', 'e', ' ', 'o', 'n', ' ', 't', 'o', 'p', ' ', 'o', 'f', ' ', 't', 'h', 'a', 't', ' ', '[', '0', '0', ':', '3', '7', ':', '3', '0', ']', ' ', 'm', 'o', 'u', 'n', 't', 'a', 'i', 'n', '.', '\\n', '\\n', '\\n', 'R', 'o', 'y', ':', ' ', '[', '0', '0', ':', '3', '8', ':', '1', '7', ']', ' ', 'I', ' ', '[', '0', '0', ':', '3', '8', ':', '0', '0', ']', ' ', 'h', 'a', 'd', ' ', 'a', ' ', 'm', 'o', 'm', 'e', 'n', 't', ' ', 'o', 'f', ' ', 'f', 'e', 'e', 'l', 'i', 'n', 'g', ' ', 'l', 'i', 'k', 'e', ' ', 'I', ' ', 'w', 'a', 's', ' ', 'w', 'e', 'l', 'c', 'o', 'm', 'i', 'n', 'g', ' ', 'm', 'y', 's', 'e', 'l', 'f', ' ', 'f', 'r', 'o', 'm', ' ', 'a', ' ', 'c', 'o', 'm', 'a', ',', ' ', 's', 'a', 'y', 'i', 'n', 'g', ' ', 't', 'o', ' ', 'm', 'y', 's', 'e', 'l', 'f', ',', ' ', 'W', 'e', 'l', 'c', 'o', 'm', 'e', ' ', 'b', 'a', 'c', 'k', '.', '\\n', '\\n', '\\n', 'D', 'e', 'n', 'i', 's', ':', ' ', '[', '0', '0', ':', '3', '8', ':', '2', '7', ']', ' ', 'I', ' ', 'f', 'o', 'u', 'n', 'd', ' ', 'm', 'y', 's', 'e', 'l', 'f', ' ', 'e', 'm', 'o', 't', 'i', 'o', 'n', 'a', 'l', ' ', 'a', 't', ' ', 't', 'i', 'm', 'e', 's', ',', ' ', 'j', 'u', 's', 't', ' ', '[', '0', '0', ':', '3', '8', ':', '3', '0', ']', ' ', 'i', 'n', 's', 'p', 'i', 'r', 'e', 'd', '.', '\\n', '\\n', '\\n', 'D', 'e', 'n', 'i', 's', ':', ' ', '[', '0', '0', ':', '3', '8', ':', '3', '3', ']', ' ', 'I', 's', ' ', 't', 'h', 'e', 'r', 'e', ' ', 's', 'o', 'm', 'e', ' ', 'w', 'a', 'y', ' ', 'I', \"'\", 'm', ' ', 't', 'h', 'i', 'n', 'k', 'i', 'n', 'g', ' ', 'a', 'b', 'o', 'u', 't', ' ', 'P', 'h', 'i', 'l', ' ', 'a', 'n', 'd', ' ', 'i', 's', ' ', 't', 'h', 'e', 'r', 'e', ' ', 's', 'o', 'm', 'e', ' ', 'w', 'a', 'y', ' ', 't', 'h', 'a', 't', ' ', 'w', 'e', ' ', 'c', 'a', 'n', ' ', 'b', 'r', 'i', 'n', 'g', ' ', 'a', ' ', 'b', 'i', 't', ' ', 'o', 'f', ' ', 't', 'h', 'i', 's', ' ', 't', 'o', ' ', 'h', 'i', 'm', '?', '\\n', '\\n', '\\n', 'P', 'h', 'i', 'l', ':', ' ', '[', '0', '0', ':', '3', '8', ':', '4', '3', ']', ' ', 'W', 'h', 'e', 'n', ' ', 'y', 'o', 'u', ' ', 'g', 'u', 'y', 's', ' ', 'w', 'e', 'r', 'e', ' ', 'c', 'o', 'm', 'i', 'n', 'g', ' ', 'd', 'o', 'w', 'n', '.', ' ', 'I', ' ', 'w', 'a', 's', ' ', 'p', 'o', 'i', 'n', 't', 'i', 'n', 'g', ' ', 'm', 'y', ' ', 'm', 'y', ' ', 'w', 'h', 'i', 't', 'e', ' ', 'c', 'a', 'n', 'e', ' ', 'a', 't', ' ', 'y', 'o', 'u', ' ', 'g', 'u', 'y', 's', '.', ' ', 'I', 't', \"'\", 's', ' ', 'l', 'i', 'k', 'e', ' ', 'i', 't', \"'\", 's', ' ', 'a', 's', ' ', 'i', 'f', ' ', 'm', 'y', ' ', 'k', 'i', 'n', 'g', ' ', 'h', 'a', 'd', ',', ' ', 'l', 'i', 'k', 'e', ',', ' ', 'a', ' ', 'c', 'i', 'r', 'c', 'l', 'e', ' ', 'a', 't', ' ', 't', 'h', 'e', ' ', 'e', 'n', 'd', ' ', 'o', 'f', ' ', 'i', 't', ',', ' ', 'a', 'r', 'o', 'u', 'n', 'd', ' ', 'a', 'l', 'l', ' ', 'y', 'o', 'u', ' ', 'g', 'u', 'y', 's', '.', ' ', 'S', 'o', ' ', 'w', 'e', ' ', 'w', 'e', 'r', 'e', ' ', 'a', 'l', 'l', ' ', 'c', 'o', 'n', 'n', 'e', 'c', 't', 'e', 'd', '.', '\\n', '\\n', '\\n', 'G', 'u', 'i', 'd', 'e', ' ', '4', ':', ' ', '[', '0', '0', ':', '3', '8', ':', '5', '9', ']', ' ', 'T', 'h', 'e', ' ', 't', 'i', 'm', 'e', ' ', 'w', 'i', 'l', 'l', ' ', 'c', 'o', 'm', 'e', ' ', '[', '0', '0', ':', '3', '9', ':', '0', '0', ']', ' ', 'w', 'h', 'e', 'n', ',', ' ', 'w', 'i', 't', 'h', ' ', 'e', 'l', 'a', 't', 'i', 'o', 'n', ',', ' ', 'y', 'o', 'u', ' ', 'w', 'i', 'l', 'l', ' ', 'c', 'r', 'e', 'a', 't', 'e', ' ', 'y', 'o', 'u', 'r', 's', 'e', 'l', 'f', ' ', 'a', 'r', 'r', 'i', 'v', 'i', 'n', 'g', ' ', 'a', 't', ' ', 'y', 'o', 'u', 'r', ' ', 'o', 'w', 'n', ' ', 'd', 'o', 'o', 'r', ',', ' ', 'i', 'n', ' ', 'y', 'o', 'u', 'r', ' ', 'o', 'w', 'n', ' ', 'm', 'i', 'r', 'r', 'o', 'r', ',', ' ', 'a', 'n', 'd', ' ', 's', 'a', 'y', ',', ' ', 'S', 'i', 't', ' ', 'h', 'e', 'r', 'e', ',', ' ', 'e', 'a', 't', '.', ' ', 'Y', 'o', 'u', ' ', 'w', 'i', 'l', 'l', ' ', 'l', 'o', 'v', 'e', ' ', 'a', 'g', 'a', 'i', 'n', '.', ' ', 'T', 'h', 'e', ' ', 's', 't', 'r', 'a', 'n', 'g', 'e', 'r', ' ', 'w', 'h', 'o', ' ', 'w', 'a', 's', ' ', 'y', 'o', 'u', 'r', 's', 'e', 'l', 'f', '.', ' ', 'G', 'i', 'v', 'e', ' ', 'w', 'i', 'n', 'e', ',', ' ', 'g', 'i', 'v', 'e', ' ', 'b', 'r', 'e', 'a', 'd', '.', ' ', 'G', 'i', 'v', 'e', ' ', 'b', 'a', 'c', 'k', ' ', 'y', 'o', 'u', 'r', ' ', 'h', 'e', 'a', 'r', 't', ' ', 't', 'o', ' ', 'i', 't', 's', 'e', 'l', 'f', '.', ' ', 'T', 'o', ' ', 't', 'h', 'e', ' ', 's', 't', 'r', 'a', 'n', 'g', 'e', 'r', ' ', 'w', 'h', 'o', ' ', 'h', 'a', 's', ' ', 'l', 'o', 'v', 'e', 'd', ' ', 'y', 'o', 'u', ' ', 'a', 'l', 'l', ' ', 'y', 'o', 'u', 'r', ' ', 'l', 'i', 'f', 'e', ',', ' ', 'w', 'h', 'o', 'm', ' ', 'y', 'o', 'u', \"'\", 'r', 'e', ' ', 'i', 'g', 'n', 'o', 'r', 'e', 'd', ' ', 'f', 'o', 'r', ' ', 'a', 'n', 'o', 't', 'h', 'e', 'r', ' ', 'w', 'h', 'o', ' ', 'k', 'n', 'o', 'w', 's', ' ', 'y', 'o', 'u', ' ', 'b', 'y', ' ', 'h', 'e', 'a', 'r', 't', '.', ' ', 'T', 'a', 'k', 'e', ' ', 'd', 'o', 'w', 'n', ' ', 't', 'h', 'e', ' ', 'l', 'o', 'v', 'e', ' ', 'l', 'e', 't', 't', 'e', 'r', 's', ' ', 'f', 'r', 'o', 'm', ' ', 't', 'h', 'e', ' ', 'b', 'o', 'o', 'k', 's', 'h', 'e', 'l', 'f', ',', ' ', 't', 'h', 'e', ' ', 'p', 'h', 'o', 't', 'o', 'g', 'r', 'a', 'p', 'h', 's', ',', ' ', 't', 'h', 'e', ' ', 'd', 'e', 's', 'p', 'e', 'r', 'a', 't', 'e', ' ', '[', '0', '0', ':', '3', '9', ':', '3', '0', ']', ' ', 'n', 'o', 't', 'e', 's', ' ', 'P', 'e', 'e', 'l', ' ', 'y', 'o', 'u', 'r', ' ', 'o', 'w', 'n', ' ', 'i', 'm', 'a', 'g', 'e', ' ', 'f', 'r', 'o', 'm', ' ', 't', 'h', 'e', ' ', 'm', 'i', 'r', 'r', 'o', 'r', '.', ' ', 'S', 'i', 't', '.', ' ', 'F', 'e', 'a', 's', 't', ' ', 'o', 'n', ' ', 'y', 'o', 'u', 'r', ' ', 'l', 'i', 'f', 'e', '.', '\\n', '\\n', '\\n', 'L', 'i', 'n', 'd', 's', 'e', 'y', \"'\", 's', ' ', 'D', 'a', 'd', ':', ' ', '[', '0', '0', ':', '3', '9', ':', '3', '9', ']', ' ', 'T', 'h', 'e', ' ', 't', 'i', 'm', 'e', ' ', 'w', 'i', 'l', 'l', ' ', 'c', 'o', 'm', 'e', ' ', 'w', 'h', 'e', 'n', ' ', 'y', 'o', 'u', ' ', 'w', 'e', 'r', 'e', ' ', 'g', 'r', 'e', 'e', 't', ' ', 'y', 'o', 'u', 'r', 's', 'e', 'l', 'f', ',', ' ', 'a', 'r', 'r', 'i', 'v', 'i', 'n', 'g', ' ', 'a', 't', ' ', 'y', 'o', 'u', 'r', ' ', 'o', 'w', 'n', ' ', 'd', 'o', 'o', 'r', ',', ' ', 'i', 'n', ' ', 'y', 'o', 'u', 'r', ' ', 'o', 'w', 'n', ' ', 'm', 'i', 'r', 'r', 'o', 'r', ',', ' ', 'a', 'n', 'd', ' ', 'e', 'a', 'c', 'h', ' ', 'w', 'i', 'l', 'l', ' ', 's', 'm', 'i', 'l', 'e', ' ', 'a', 't', ' ', 't', 'h', 'e', ' ', 'o', 't', 'h', 'e', 'r', \"'\", 's', ' ', 'w', 'e', 'l', 'c', 'o', 'm', 'e', '.', ' ', 'Y', 'o', 'u', ' ', 'w', 'i', 'l', 'l', ' ', 'l', 'o', 'v', 'e', ' ', 'a', 'g', 'a', 'i', 'n', ' ', 't', 'h', 'e', ' ', 's', 't', 'r', 'a', 'n', 'g', 'e', 'r', ' ', 'w', 'h', 'o', ' ', 'w', 'a', 's', ' ', 'y', 'o', 'u', 'r', 's', 'e', 'l', 'f', '.', ' ', 'G', 'i', 'v', 'e', ' ', 'b', 'a', 'c', 'k', ' ', 'y', 'o', 'u', 'r', ' ', 'h', 'e', 'a', 'r', 't', ' ', 't', 'o', ' ', 'i', 't', 's', 'e', 'l', 'f', '.', ' ', 'T', 'o', ' ', 't', 'h', 'e', ' ', 's', 't', 'r', 'a', 'n', 'g', 'e', 'r', ' ', 'w', 'h', 'o', ' ', 'k', 'n', 'o', 'w', 's', ' ', 'y', 'o', 'u', ' ', 'b', 'y', ' ', 'h', 'e', 'a', 'r', 't', '.', '\\n', '\\n', '\\n', 'L', 'i', 'n', 'd', 's', 'e', 'y', ':', ' ', '[', '0', '0', ':', '4', '0', ':', '0', '2', ']', ' ', 'I', ' ', '[', '0', '0', ':', '4', '0', ':', '0', '0', ']', ' ', 'c', 'a', 'n', \"'\", 't', ' ', 'e', 'v', 'e', 'n', ' ', 'p', 'u', 't', ' ', 'i', 'n', 't', 'o', ' ', 'w', 'o', 'r', 'd', 's', '.', '\\n', '\\n', '\\n', 'R', 'o', 'y', ':', ' ', '[', '0', '0', ':', '4', '0', ':', '0', '6', ']', ' ', 'Y', 'o', 'u', ' ', 'd', 'o', 'n', \"'\", 't', ' ', 'h', 'a', 'v', 'e', ' ', 't', 'o', '.', '\\n', '\\n', '\\n', 'L', 'i', 'n', 'd', 's', 'e', 'y', ':', ' ', '[', '0', '0', ':', '4', '0', ':', '2', '1', ']', ' ', 'I', ' ', 't', 'h', 'i', 'n', 'k', ' ', 't', 'h', 'e', ' ', 'b', 'e', 's', 't', ' ', 'w', 'o', 'r', 'd', ' ', 't', 'o', ' ', 'd', 'e', 's', 'c', 'r', 'i', 'b', 'e', ' ', 'i', 't', ' ', 'i', 's', ' ', 'f', 'e', 'e', 'l', 'i', 'n', 'g', ' ', 'f', 'r', 'e', 'e', '.', ' ', 'I', 't', \"'\", 's', ' ', 'l', 'i', 'k', 'e', ' ', 'o', 'n', 'e', ' ', 'o', 'f', ' ', 't', 'h', 'e', ' ', 'f', 'i', 'r', 's', 't', ' ', 't', 'i', 'm', 'e', 's', ' ', 'I', ' ', 'c', 'a', 'n', ' ', 'f', 'o', 'r', 'g', 'e', 't', ' ', 'a', 'b', 'o', 'u', 't', ' ', 't', 'h', 'e', ' ', 'w', 'o', 'r', 'd', ' ', 'c', 'a', 'n', 'c', 'e', 'r', ' ', 'a', 'n', 'd', ' ', '[', '0', '0', ':', '4', '0', ':', '3', '0', ']', ' ', 'j', 'u', 's', 't', ' ', 'b', 'e', ' ', 'h', 'e', 'r', 'e', '.', '\\n', '\\n', '\\n', 'D', 'a', 'v', 'i', 'd', ':', ' ', '[', '0', '0', ':', '4', '0', ':', '3', '4', ']', ' ', 'Y', 'e', 'a', 'h', '.', '\\ufeff', 'S', 'c', 'e', 'n', 'e', ' ', '1', '1', '\\n', '\\n', '\\n', 'L', 'a', 'r', 's', ':', ' ', '[', '0', '0', ':', '4', '1', ':', '0', '0', ']', ' ', 'Y', 'o', 'u', ' ', '[', '0', '0', ':', '4', '1', ':', '0', '0', ']', ' ', 'g', 'u', 'y', 's', ' ', 'a', 'r', 'e', ' ', 't', 'u', 'r', 'n', 'i', 'n', 'g', ' ', 'i', 'n', 't', 'o', ' ', 'a', ' ', 'w', 'e', 'l', 'l', '-', 'o', 'i', 'l', 'e', 'd', ' ', 'm', 'a', 'c', 'h', 'i', 'n', 'e', '.', ' ', 'M', 'o', 'v', 'i', 'n', 'g', ' ', 'o', 'n', ' ', 'd', 'o', 'w', 'n', ' ', 't', 'h', 'e', ' ', 'r', 'i', 'v', 'e', 'r', '.', ' ', 'W', 'e', \"'\", 'r', 'e', ' ', 'g', 'o', 'i', 'n', 'g', ' ', 't', 'o', ' ', 't', 'a', 'k', 'e', ' ', 't', 'h', 'a', 't', ' ', 'm', 'a', 'c', 'h', 'i', 'n', 'e', ' ', 'a', 'n', 'd', ' ', 'p', 'a', 'd', 'd', 'l', 'e', ' ', 'o', 'n', ' ', 'o', 'u', 't', ' ', 'o', 'f', ' ', 'h', 'e', 'r', 'e', ' ', 't', 'o', 'm', 'o', 'r', 'r', 'o', 'w', '.', ' ', 'A', 's', ' ', 's', 'a', 'd', ' ', 'a', 's', ' ', 'i', 't', ' ', 'i', 's', ',', ' ', 'i', 't', ' ', 'i', 's', ' ', 't', 'r', 'u', 'e', '.', ' ', 'U', 'n', 'f', 'o', 'r', 't', 'u', 'n', 'a', 't', 'e', 'l', 'y', '.', ' ', 'W', 'e', \"'\", 'r', 'e', ' ', 'g', 'o', 'i', 'n', 'g', ' ', 't', 'o', ' ', 'w', 'a', 'k', 'e', ' ', 'u', 'p', ' ', 'b', 'e', 'f', 'o', 'r', 'e', ' ', 't', 'h', 'e', ' ', 's', 'u', 'n', ' ', 'c', 'o', 'm', 'e', 's', ' ', 'u', 'p', ' ', 'a', 'n', 'd', ' ', 'p', 'a', 'd', 'd', 'l', 'e', ' ', 'o', 'u', 't', ' ', 't', 'o', ' ', 't', 'h', 'e', ' ', 't', 'a', 'k', 'e', 'o', 'u', 't', '.', ' ', 'I', 't', \"'\", 's', ' ', 'a', 'b', 'o', 'u', 't', ' ', 'e', 'i', 'g', 'h', 't', ' ', 'm', 'i', 'l', 'e', 's', ' ', 'f', 'r', 'o', 'm', ' ', 'w', 'h', 'e', 'r', 'e', ' ', 'w', 'e', ' ', 'a', 'r', 'e', ' ', 'r', 'i', 'g', 'h', 't', ' ', 'n', 'o', 'w', '.', '\\n', '\\n', '\\n', 'D', 'a', 'v', 'i', 'd', ':', ' ', '[', '0', '0', ':', '4', '1', ':', '2', '3', ']', ' ', 'A', 's', ' ', 'w', 'e', ' ', 'e', 'n', 't', 'e', 'r', ' ', 't', 'o', 'm', 'o', 'r', 'r', 'o', 'w', '.', ' ', 'O', 'u', 'r', ' ', 'p', 'l', 'a', 'n', ' ', 'i', 's', ' ', 't', 'o', ' ', 'w', 'a', 'k', 'e', ' ', 'u', 'p', ' ', 'i', 'n', ' ', 's', 'i', 'l', 'e', 'n', 'c', 'e', '.', ' ', ' ', '[', '0', '0', ':', '4', '1', ':', '3', '0', ']', 'A', 'w', 'a', 'k', 'e', ' ', 'i', 'n', ' ', 's', 'i', 'l', 'e', 'n', 'c', 'e', ',', ' ', 'a', 'n', 'd', ' ', 'p', 'a', 'c', 'k', ' ', 'o', 'u', 'r', ' ', 'b', 'o', 'a', 't', 's', ' ', 'i', 'n', ' ', 's', 'i', 'l', 'e', 'n', 'c', 'e', ',', ' ', 'a', 'n', 'd', ' ', 'h', 'o', 'p', 'e', 'f', 'u', 'l', 'l', 'y', ' ', 'b', 'e', ' ', 'g', 'r', 'e', 'e', 't', 'e', 'd', ' ', 'b', 'y', ' ', 'a', ' ', 'b', 'e', 'a', 'u', 't', 'i', 'f', 'u', 'l', ' ', 's', 'u', 'n', 'r', 'i', 's', 'e', ' ', 'w', 'h', 'i', 'l', 'e', ' ', 'w', 'e', \"'\", 'r', 'e', ' ', 'o', 'u', 't', ' ', 'o', 'n', ' ', 't', 'h', 'e', ' ', 'r', 'i', 'v', 'e', 'r', '.', '\\ufeff', 'S', 'c', 'e', 'n', 'e', ' ', '8', '\\n', '\\n', '\\n', 'L', 'i', 'n', 'd', 's', 'e', 'y', ':', ' ', '[', '0', '0', ':', '3', '1', ':', '1', '0', ']', ' ', 'I', ' ', '[', '0', '0', ':', '3', '1', ':', '0', '0', ']', ' ', 'j', 'u', 's', 't', ' ', 's', 'e', 'e', ' ', 'i', 't', '.', ' ', 'I', 't', ' ', 'm', 'a', 'k', 'e', 's', ' ', 'y', 'o', 'u', ' ', 'f', 'e', 'e', 'l', ' ', 's', 'o', ' ', 'b', 'i', 'g', ',', ' ', 'y', 'e', 't', ' ', 's', 'o', ' ', 's', 'm', 'a', 'l', 'l', '.', '\\n', '\\n', '\\n', 'R', 'o', 'y', ':', ' ', '[', '0', '0', ':', '3', '1', ':', '2', '2', ']', ' ', 'I', ' ', 'k', 'n', 'o', 'w', ',', ' ', 'r', 'i', 'g', 'h', 't', '.', ' ', 'A', 'n', 'd', ' ', 't', 'o', ' ', 'b', 'e', ' ', 'a', 'b', 'l', 'e', ' ', 't', 'o', ' ', 'c', 'o', 'm', 'e', ' ', 'o', 'u', 't', ' ', 'h', 'e', 'r', 'e', ' ', 'a', 'n', 'd', ' ', 'r', 'e', 's', 'e', 't', ' ', 'y', 'o', 'u', 'r', 's', 'e', 'l', 'f', ' ', 'a', 'n', 'd', ' ', 'f', 'i', 'n', 'd', ' ', 'w', 'h', 'o', ' ', 'y', 'o', 'u', ' ', 'a', 'r', 'e', ' ', 'b', 'e', 'c', 'a', 'u', 's', 'e', ' ', '[', '0', '0', ':', '3', '1', ':', '3', '0', ']', ' ', 'y', 'o', 'u', \"'\", 'r', 'e', ' ', 'n', 'o', 't', ' ', 't', 'h', 'e', ' ', 's', 'a', 'm', 'e', ' ', 'a', 's', ' ', 'y', 'o', 'u', ' ', 'w', 'e', 'r', 'e', ' ', 'b', 'e', 'f', 'o', 'r', 'e', ',', ' ', 'y', 'o', 'u', ' ', 'k', 'n', 'o', 'w', ',', ' ', 'y', 'o', 'u', \"'\", 'r', 'e', ' ', 'a', ' ', 'w', 'h', 'o', 'l', 'e', ' ', 'n', 'e', 'w', '.', '\\n', '\\n', '\\n', 'L', 'i', 'n', 'd', 's', 'e', 'y', ':', ' ', '[', '0', '0', ':', '3', '1', ':', '3', '2', ']', ' ', 'Y', 'o', 'u', ' ', 'a', 'r', 'e', '.', ' ', 'I', 't', ' ', 'c', 'o', 'm', 'p', 'l', 'e', 't', 'e', 'l', 'y', ' ', 'c', 'h', 'a', 'n', 'g', 'e', 's', ' ', 'y', 'o', 'u', ' ', 'a', 'n', 'd', ' ', 'e', 'v', 'e', 'r', 'y', ' ', 'e', 'v', 'e', 'r', 'y', ' ', 'm', 'o', 'l', 'e', 'c', 'u', 'l', 'e', ' ', 'a', 'n', 'd', ' ', 'a', 't', 'o', 'm', ' ', 'o', 'f', ' ', 'y', 'o', 'u', 'r', ' ', 'b', 'o', 'd', 'y', ',', ' ', 'i', 't', ' ', 'c', 'o', 'm', 'p', 'l', 'e', 't', 'e', 'l', 'y', ' ', 'c', 'h', 'a', 'n', 'g', 'e', 's', ' ', 'y', 'o', 'u', '.', '\\n', '\\n', '\\n', 'R', 'o', 'y', ':', ' ', '[', '0', '0', ':', '3', '1', ':', '4', '0', ']', ' ', 'Y', 'e', 'a', 'h', '.', '\\n', '\\n', '\\n', 'L', 'i', 'n', 'd', 's', 'e', 'y', ':', ' ', '[', '0', '0', ':', '3', '1', ':', '4', '1', ']', ' ', 'I', \"'\", 'v', 'e', ' ', 'n', 'e', 'v', 'e', 'r', ' ', 'f', 'e', 'l', 't', ' ', 'm', 'o', 'r', 'e', ' ', 'c', 'o', 'n', 'n', 'e', 'c', 't', 'e', 'd', ' ', 'w', 'i', 't', 'h', ' ', 'a', ' ', 'g', 'r', 'o', 'u', 'p', ' ', 'o', 'f', ' ', 's', 't', 'r', 'a', 'n', 'g', 'e', 'r', 's', ' ', 't', 'h', 'a', 't', ' ', 'c', 'a', 'n', ' ', 'b', 'e', ' ', 'o', 'p', 'e', 'n', 'l', 'y', ' ', 't', 'a', 'l', 'k', 'i', 'n', 'g', ' ', 'a', 'b', 'o', 'u', 't', ' ', 'm', 'y', ' ', 'p', 'o', 'o', 'p', ',', ' ', 'a', 'b', 'o', 'u', 't', ',', ' ', 'a', 'b', 'o', 'u', 't', ' ', 'm', 'y', ' ', 's', 'c', 'a', 'r', 's', ',', ' ', 'a', 'b', 'o', 'u', 't', '.', ' ', 'A', 'n', 'd', ' ', 'h', 'o', 'n', 'e', 's', 't', 'l', 'y', ',', ' ', 'l', 'i', 'k', 'e', ',', ' ', 'I', ' ', 'h', 'a', 'd', ' ', 'n', 'e', 'v', 'e', 'r', ' ', 'I', ' ', 'h', 'a', 'd', 'n', \"'\", 't', ' ', 't', 'a', 'l', 'k', 'e', 'd', ' ', 't', 'o', ' ', 'p', 'e', 'o', 'p', 'l', 'e', ' ', 'a', 'b', 'o', 'u', 't', ' ', 't', 'h', 'e', ' ', 'g', 'u', 'y', ' ', 'w', 'h', 'o', ' ', 'b', 'r', 'o', 'k', 'e', ' ', 'm', 'y', ' ', 'h', 'e', 'a', 'r', 't', ' ', 'w', 'h', 'e', 'n', ' ', '[', '0', '0', ':', '3', '2', ':', '0', '0', ']', ' ', 'h', 'e', ' ', 'f', 'o', 'u', 'n', 'd', ' ', 'o', 'u', 't', ' ', 'I', ' ', 'h', 'a', 'd', ' ', 'm', 'y', ' ', 'm', 'a', 's', 't', 'e', 'c', 't', 'o', 'm', 'y', '.', ' ', 'L', 'i', 'k', 'e', ' ', 'I', ' ', 'h', 'a', 'd', ' ', 'n', 'e', 'v', 'e', 'r', ' ', 'b', 'e', 'e', 'n', ' ', 'a', 'b', 'l', 'e', ' ', 't', 'o', ' ', 't', 'a', 'l', 'k', ' ', 't', 'o', ' ', 'p', 'e', 'o', 'p', 'l', 'e', ' ', 'a', 'b', 'o', 'u', 't', ' ', 't', 'h', 'a', 't', '.', ' ', 'P', 'e', 'o', 'p', 'l', 'e', ' ', 'w', 'o', 'u', 'l', 'd', ' ', 'a', 's', 'k', ' ', 'm', 'e', ' ', 'a', 'b', 'o', 'u', 't', ' ', 'i', 't', ' ', 'a', 'n', 'd', ' ', 'I', ' ', 'w', 'o', 'u', 'l', 'd', ' ', 'm', 'a', 'k', 'e', ' ', 's', 'o', 'm', 'e', 't', 'h', 'i', 'n', 'g', ' ', 'u', 'p', '.', '\\n', '\\n', '\\n', 'R', 'o', 'y', ':', ' ', '[', '0', '0', ':', '3', '2', ':', '0', '7', ']', ' ', 'J', 'u', 's', 't', ' ', 'i', 't', ' ', 'b', 'r', 'e', 'a', 'k', 's', ' ', 'm', 'y', ' ', 'h', 'e', 'a', 'r', 't', ' ', 't', 'h', 'a', 't', ' ', 's', 'o', 'm', 'e', 'o', 'n', 'e', ' ', 'c', 'o', 'u', 'l', 'd', ' ', 'b', 'e', ' ', 's', 'o', ' ', 's', 'h', 'a', 'l', 'l', 'o', 'w', ' ', 'a', 'n', 'd', ' ', 'd', 'e', 's', 'p', 'e', 'r', 'a', 't', 'e', ' ', 'a', 'n', 'd', ' ', 'v', 'u', 'l', 'n', 'e', 'r', 'a', 'b', 'l', 'e', '.', '\\n', '\\n', '\\n', 'L', 'i', 'n', 'd', 's', 'e', 'y', ':', ' ', '[', '0', '0', ':', '3', '2', ':', '1', '5', ']', ' ', 'E', 'x', 'a', 'c', 't', 'l', 'y', ' ', 'l', 'i', 'k', 'e', '.', '\\n', '\\n', '\\n', 'R', 'o', 'y', ':', ' ', '[', '0', '0', ':', '3', '2', ':', '1', '7', ']', ' ', 'I', ' ', 'c', 'o', 'u', 'l', 'd', 'n', \"'\", 't', ' ', 'w', 'i', 't', 'h', 'o', 'u', 't', ' ', 't', 'h', 'i', 's', ' ', 'g', 'r', 'o', 'u', 'p', ',', ' ', 'I', ' ', 'd', 'o', 'n', \"'\", 't', ' ', 't', 'h', 'i', 'n', 'k', ' ', 'I', ' ', 'w', 'o', 'u', 'l', 'd', ' ', 'h', 'a', 'v', 'e', ' ', 'g', 'o', 't', 't', 'e', 'n', ' ', 'm', 'y', ' ', 'l', 'i', 'f', 'e', ' ', 'b', 'a', 'c', 'k', '.', '\\n', '\\n', '\\n', 'L', 'i', 'n', 'd', 's', 'e', 'y', ':', ' ', '[', '0', '0', ':', '3', '2', ':', '2', '2', ']', ' ', 'Y', 'o', 'u', ' ', 'k', 'n', 'o', 'w', ',', ' ', 'b', 'e', 'f', 'o', 'r', 'e', ' ', 't', 'h', 'i', 's', ' ', 't', 'r', 'i', 'p', ',', ' ', 'I', ' ', 'h', 'a', 'v', 'e', ' ', 'g', 'o', 't', 't', 'e', 'n', ' ', 't', 'o', ' ', 'a', ' ', 'p', 'o', 'i', 'n', 't', ' ', 'w', 'h', 'e', 'r', 'e', ' ', 'I', ' ', 'w', 'a', 's', ' ', 'a', 'l', 'm', 'o', 's', 't', ' ', 'f', 'e', 'e', 'l', 'i', 'n', 'g', ',', ' ', 'l', 'i', 'k', 'e', ' ', 'l', 'o', 's', 't', ' ', 'a', 'g', 'a', 'i', 'n', ' ', 'a', 'n', 'd', ' ', 't', 'o', ' ', 'b', 'e', ' ', 'h', 'o', 'n', 'e', 's', 't', ',', ' ', 'I', ' ', 'd', 'o', 'n', \"'\", 't', ' ', 't', 'h', 'i', 'n', 'k', ' ', 'I', ' ', 'h', 'a', 'd', ' ', '[', '0', '0', ':', '3', '2', ':', '3', '0', ']', ' ', 'r', 'e', 'a', 'l', 'l', 'y', ' ', 'f', 'o', 'u', 'n', 'd', ' ', 'm', 'y', 's', 'e', 'l', 'f', ' ', 'a', 'f', 't', 'e', 'r', ' ', 'm', 'y', ' ', 'd', 'i', 'a', 'g', 'n', 'o', 's', 'i', 's', '.', ' ', 'A', 'n', 'd', ' ', 'I', \"'\", 'm', ' ', 'c', 'o', 'm', 'i', 'n', 'g', ' ', 'u', 'p', ' ', 'o', 'n', ' ', 'f', 'o', 'u', 'r', ' ', 'y', 'e', 'a', 'r', 's', ' ', 't', 'h', 'i', 's', ' ', 'm', 'o', 'n', 't', 'h', '.', ' ', 'W', 'e', 'l', 'l', ',', ' ', 'i', 't', \"'\", 's', ' ', 'c', 'o', 'm', 'i', 'n', 'g', ' ', 'o', 'n', ' ', 'O', 'c', 't', 'o', 'b', 'e', 'r', '.', ' ', 'O', 'c', 't', 'o', 'b', 'e', 'r', '.', '\\n', '\\n', '\\n', 'R', 'o', 'y', ':', ' ', '[', '0', '0', ':', '3', '2', ':', '3', '9', ']', ' ', 'F', 'i', 'v', 'e', ' ', 'y', 'e', 'a', 'r', 's', '.', '\\n', '\\n', '\\n', 'L', 'i', 'n', 'd', 's', 'e', 'y', ':', ' ', '[', '0', '0', ':', '3', '2', ':', '4', '3', ']', ' ', 'I', ' ', 's', 'e', 'e', ' ', 'f', 'o', 'o', 'd', '.', '\\ufeff', 'S', 'c', 'e', 'n', 'e', ' ', '9', '\\n', '\\n', '\\n', 'L', 'i', 'n', 'd', 's', 'e', 'y', ':', ' ', '[', '0', '0', ':', '3', '2', ':', '5', '1', ']', ' ', 'P', 'r', 'o', 'b', 'a', 'b', 'l', 'y', '.', ' ', 'J', 'u', 's', 't', ' ', 't', 'r', 'y', 'i', 'n', 'g', ' ', 't', 'o', ' ', 'b', 'u', 'i', 'l', 'd', ' ', 'a', ' ', 'f', 'i', 'r', 'e', ' ', 't', 'o', ' ', 'h', 'o', 'w', ' ', 'w', 'e', ' ', 'g', 'e', 't', ' ', 'd', 'o', 'n', 'e', ' ', 'g', 'e', 't', 't', 'i', 'n', 'g', ' ', 'o', 'u', 'r', ' ', 'f', 'o', 'o', 'd', '.', '\\n', '\\n', '\\n', 'D', 'a', 'n', 'a', ':', ' ', '[', '0', '0', ':', '3', '2', ':', '5', '7', ']', ' ', 'I', ' ', '[', '0', '0', ':', '3', '3', ':', '0', '0', ']', ' ', 'f', 'e', 'e', 'l', ' ', 'l', 'i', 'k', 'e', ' ', 'y', 'o', 'u', ' ', 's', 'h', 'o', 'u', 'l', 'd', ' ', 'g', 'i', 'v', 'e', ' ', 'a', ' ', 'c', 'l', 'a', 's', 's', ' ', 'o', 'n', ' ', 'w', 'h', 'a', 't', ' ', 't', 'h', 'a', 't', \"'\", 's', ' ', 'l', 'i', 'k', 'e', ' ', 't', 'o', ' ', 'l', 'e', 'a', 'r', 'n', '.', '\\n', '\\n', '\\n', 'P', 'h', 'i', 'l', ':', ' ', '[', '0', '0', ':', '3', '3', ':', '0', '6', ']', ' ', 'E', 'v', 'e', 'r', 'y', 't', 'h', 'i', 'n', 'g', \"'\", 's', ' ', 'p', 'r', 'e', 't', 't', 'y', ' ', 'm', 'u', 'c', 'h', ' ', 'l', 'i', 'k', 'e', ' ', 's', 'l', 'e', 'e', 'p', 'i', 'n', 'g', '.', '\\n', '\\n', '\\n', 'G', 'u', 'i', 'd', 'e', ' ', '1', ':', ' ', '[', '0', '0', ':', '3', '3', ':', '1', '0', ']', ' ', 'Y', 'o', 'u', ' ', 'g', 'o', '.', '\\n', '\\n', '\\n', 'M', 'a', 't', 't', ':', ' ', '[', '0', '0', ':', '3', '3', ':', '1', '0', ']', ' ', 'F', 'i', 'r', 's', 't', '.', ' ', 'G', 'o', ' ', 'a', 'h', 'e', 'a', 'd', '.', '\\n', '\\n', '\\n', 'G', 'u', 'i', 'd', 'e', ' ', '1', ':', ' ', '[', '0', '0', ':', '3', '3', ':', '1', '2', ']', ' ', 'I', \"'\", 'l', 'l', ' ', 'g', 'o', ' ', 'f', 'i', 'r', 's', 't', '.', '\\n', '\\n', '\\n', 'D', 'e', 'n', 'i', 's', ':', ' ', '[', '0', '0', ':', '3', '3', ':', '1', '3', ']', ' ', 'N', 'o', ',', ' ', 'n', 'o', ',', ' ', 'I', \"'\", 'l', 'l', ' ', 'g', 'o', ' ', 'f', 'i', 'r', 's', 't', '.', ' ', 'W', 'e', 'l', 'l', '.', '\\n', '\\n', '\\n', 'D', 'a', 'n', 'a', ':', ' ', '[', '0', '0', ':', '3', '3', ':', '1', '6', ']', ' ', 'O', 'n', 'e', ' ', 'o', 'f', ' ', 'm', 'y', ' ', 'h', 'i', 'g', 'h', 'l', 'i', 'g', 'h', 't', 's', ' ', 'w', 'a', 's', ' ', 't', 'h', 'e', ' ', 's', 'i', 'l', 'e', 'n', 't', ' ', 'f', 'l', 'o', 'a', 't', '.', ' ', 'I', 't', \"'\", 's', ' ', 's', 'o', 'm', 'e', 't', 'h', 'i', 'n', 'g', ' ', 't', 'h', 'a', 't', ' ', 'I', ' ', 'd', 'i', 'd', 'n', \"'\", 't', ' ', 'r', 'e', 'a', 'l', 'l', 'y', ' ', 'r', 'e', 'a', 'l', 'i', 'z', 'e', ' ', 'h', 'o', 'w', ' ', 'm', 'u', 'c', 'h', ' ', 'I', ' ', 'n', 'e', 'e', 'd', 'e', 'd', ' ', 't', 'h', 'a', 't', ' ', 'u', 'n', 't', 'i', 'l', ' ', 'w', 'e', ' ', 'w', 'e', 'r', 'e', ' ', 'i', 'n', ' ', 'i', 't', ',', ' ', 'b', 'e', 'c', 'a', 'u', 's', 'e', ' ', 'I', ' ', 'k', 'i', 'n', 'd', ' ', 'o', 'f', ' ', 'e', 'x', 'p', 'e', 'c', 't', 'e', 'd', ' ', 'a', ' ', 'l', 'o', 't', ' ', 'm', 'o', 'r', 'e', ' ', 'o', 'f', ' ', 't', 'h', 'a', 't', ' ', 'c', 'o', 'm', 'i', 'n', 'g', ' ', '[', '0', '0', ':', '3', '3', ':', '3', '0', ']', ' ', 'o', 'u', 't', ' ', 'h', 'e', 'r', 'e', ',', ' ', 'b', 'e', 'i', 'n', 'g', ' ', 'w', 'i', 't', 'h', ' ', 'n', 'a', 't', 'u', 'r', 'e', '.', ' ', 'A', 'n', 'd', ' ', 'I', \"'\", 'v', 'e', ' ', 'b', 'e', 'e', 'n', ' ', 's', 'p', 'e', 'n', 'd', 'i', 'n', 'g', ' ', 's', 'o', ' ', 'm', 'u', 'c', 'h', ' ', 'a', 'm', 'a', 'z', 'i', 'n', 'g', ' ', 't', 'i', 'm', 'e', ' ', 'c', 'o', 'n', 'n', 'e', 'c', 't', 'i', 'n', 'g', ' ', 'w', 'i', 't', 'h', ' ', 'e', 'v', 'e', 'r', 'y', 'o', 'n', 'e', ',', ' ', 'w', 'h', 'i', 'c', 'h', ' ', 'h', 'a', 's', ' ', 'b', 'e', 'e', 'n', ' ', 'r', 'e', 'a', 'l', 'l', 'y', ',', ' ', 'r', 'e', 'a', 'l', 'l', 'y', ' ', 'w', 'o', 'n', 'd', 'e', 'r', 'f', 'u', 'l', ',', ' ', 'b', 'u', 't', ' ', 'h', 'a', 'v', 'i', 'n', 'g', ' ', 't', 'h', 'a', 't', ' ', 's', 'i', 'l', 'e', 'n', 't', ' ', 't', 'i', 'm', 'e', ' ', 'j', 'u', 's', 't', ' ', 'w', 'a', 's', '.', ' ', 'R', 'e', 'a', 'l', 'l', 'y', ' ', 'g', 'o', 'o', 'd', ' ', 'f', 'o', 'r', ' ', 'm', 'e', '.', ' ', 'S', 'o', '.', '\\n', '\\n', '\\n', 'M', 'a', 't', 't', ':', ' ', '[', '0', '0', ':', '3', '3', ':', '5', '0', ']', ' ', 'T', 'h', 'a', 't', \"'\", 's', ' ', 'q', 'u', 'i', 't', 'e', ' ', 'i', 'm', 'p', 'r', 'e', 's', 's', 'i', 'v', 'e', '.', '\\n', '\\n', '\\n', 'L', 'a', 'r', 's', ':', ' ', '[', '0', '0', ':', '3', '3', ':', '5', '2', ']', ' ', 'T', 'h', 'r', 'e', 'e', ',', ' ', 't', 'w', 'o', ',', ' ', 'o', 'n', 'e', ',', ' ', 'd', 'o', 'w', 'n', '.', '\\n', '\\n', '\\n', 'R', 'o', 'y', ':', ' ', '[', '0', '0', ':', '3', '3', ':', '5', '3', ']', ' ', 'Y', 'e', 'a', 'h', ',', ' ', 't', 'h', 'a', 't', \"'\", 's', ' ', 't', 'h', 'e', ' ', 'b', 'e', 's', 't', ' ', 'r', 'o', 'c', 'k', ' ', 'w', 'e', \"'\", 'v', 'e', ' ', 's', 'e', 'e', 'n', ' ', 't', 'o', 'n', 'i', 'g', 'h', 't', '.', ' ', 'S', 'p', 'a', 'r', 't', 'a', 'n', ' ', 't', 'r', 'a', 'i', 'n', 'i', 'n', 'g', ' ', 's', 't', 'a', 'r', 't', 's', ' ', '[', '0', '0', ':', '3', '4', ':', '0', '0', ']', ' ', 't', 'o', 'd', 'a', 'y', '.', ' ', 'R', 'i', 'g', 'h', 't', ' ', 'o', 'n', ' ', 't', 'o', 'p', '.', ' ', 'R', 'i', 'g', 'h', 't', ' ', 'i', 'n', ' ', 't', 'h', 'e', 'r', 'e', ',', ' ', 'b', 'i', 'g', ' ', 'b', 'o', 'y', '.', ' ', 'W', 'e', 'l', 'l', ' ', 'd', 'o', 'n', 'e', ',', ' ', 's', 'i', 'r', '.', ' ', 'Y', 'o', 'u', \"'\", 'r', 'e', ' ', 'c', 'o', 'm', 'i', 'n', 'g', ' ', 't', 'o', ' ', 'w', 'o', 'r', 'k', ' ', 't', 'o', 'd', 'a', 'y', '.', ' ', 'N', 'o', ' ', 'p', 'r', 'o', 'b', 'l', 'e', 'm', '.', ' ', 'P', 'a', 's', 's', ' ', 'm', 'e', ' ', 'a', 'n', 'o', 't', 'h', 'e', 'r', ' ', 'r', 'o', 'c', 'k', ' ', 'o', 'v', 'e', 'r', ' ', 't', 'h', 'e', 'r', 'e', '.', ' ', 'A', 'r', 'e', ' ', 'y', 'o', 'u', ' ', 'g', 'o', 'o', 'd', '?', '\\n', '\\n', '\\n', 'R', 'o', 'y', ':', ' ', '[', '0', '0', ':', '3', '4', ':', '1', '7', ']', ' ', 'R', 'e', 'a', 'd', 'y', ' ', 't', 'o', ' ', 'l', 'e', 't', ' ', 'g', 'o', ' ', 'o', 'f', ' ', 't', 'h', 'e', ' ', 'f', 'e', 'a', 'r', ' ', 'o', 'f', '.', ' ', 'L', 'e', 'a', 'v', 'i', 'n', 'g', ' ', '[', '0', '0', ':', '3', '4', ':', '3', '0', ']', ' ', 'm', 'y', ' ', 'w', 'i', 'f', 'e', ' ', 'a', 'n', 'd', ' ', 'm', 'y', ' ', 'k', 'i', 'd', 's', ' ', 'w', 'i', 't', 'h', 'o', 'u', 't', ' ', 'a', ' ', 'f', 'a', 't', 'h', 'e', 'r', ' ', 'o', 'r', ' ', 'a', ' ', 'h', 'u', 's', 'b', 'a', 'n', 'd', '.', '\\n', '\\n', '\\n', 'L', 'i', 'n', 'd', 's', 'e', 'y', ':', ' ', '[', '0', '0', ':', '3', '4', ':', '4', '1', ']', ' ', 'I', \"'\", 'm', ' ', 'r', 'e', 'a', 'd', 'y', ' ', 't', 'o', ' ', 'l', 'e', 't', ' ', 'g', 'o', ' ', 'o', 'f', '.', ' ', 'G', 'o', ' ', 'o', 'f', ' ', 't', 'h', 'e', ' ', 'a', 'n', 'g', 'e', 'r', ' ', 't', 'h', 'a', 't', ' ', 'I', ' ', 's', 'h', 'o', 'w', 'e', 'd', ' ', 't', 'o', 'w', 'a', 'r', 'd', 's', ' ', 't', 'h', 'e', ' ', 'p', 'e', 'o', 'p', 'l', 'e', ' ', 't', 'h', 'a', 't', ' ', 'd', 'i', 'd', 'n', \"'\", 't', ' ', 'w', 'a', 'n', 't', ' ', 't', 'o', ' ', 's', 't', 'a', 'y', ' ', 't', 'o', ' ', 's', 'e', 'e', ' ', 'm', 'e', ' ', 'l', 'i', 'v', 'e', '.', ' ', 'M', 'y', ' ', '[', '0', '0', ':', '3', '5', ':', '0', '0', ']', ' ', 'm', 'o', 'm', \"'\", 's', ' ', 'b', 'a', 't', 'h', 'r', 'o', 'o', 'm', '.', ' ', 'S', 'h', 'e', ' ', 'h', 'a', 's', ' ', 'a', ' ', 'h', 'u', 'g', 'e', ' ', 'b', 'a', 't', 'h', 't', 'u', 'b', ',', ' ', 'a', 'n', 'd', ' ', 'i', 't', \"'\", 's', ' ', 'i', 't', \"'\", 's', ' ', 's', 'u', 'r', 'r', 'o', 'u', 'n', 'd', 'e', 'd', ' ', 'b', 'y', ' ', 'm', 'i', 'r', 'r', 'o', 'r', 's', '.', ' ', 'A', 'n', 'd', ' ', 'I', ' ', 'j', 'u', 's', 't', ' ', 'r', 'e', 'm', 'e', 'm', 'b', 'e', 'r', ' ', 's', 'i', 't', 't', 'i', 'n', 'g', ' ', 'i', 'n', ' ', 't', 'h', 'e', 'r', 'e', ',', ' ', 'a', 'n', 'd', ' ', 'I', ' ', 'w', 'a', 's', ' ', 's', 'u', 'r', 'r', 'o', 'u', 'n', 'd', 'e', 'd', ' ', 'b', 'y', ' ', 'm', 'i', 'r', 'r', 'o', 'r', 's', ' ', 's', 'o', ' ', 'y', 'o', 'u', ' ', 'c', 'o', 'u', 'l', 'd', ' ', 's', 'e', 'e', ' ', 'I', '.', ' ', 'I', ' ', 'w', 'o', 'u', 'l', 'd', ' ', 's', 'i', 't', ' ', 'i', 'n', ' ', 't', 'h', 'a', 't', ' ', 'b', 'a', 't', 'h', 't', 'u', 'b', ' ', 'a', 'n', 'd', ' ', 'I', ' ', 'w', 'o', 'u', 'l', 'd', ' ', 'b', 'e', ' ', 's', 'u', 'r', 'r', 'o', 'u', 'n', 'd', 'e', 'd', ' ', 'b', 'y', ' ', 't', 'h', 'e', ' ', 'm', 'i', 'r', 'r', 'o', 'r', '.', ' ', 'S', 'o', ' ', 'I', ' ', 'h', 'a', 'd', ' ', 't', 'o', ' ', '[', '0', '0', ':', '3', '5', ':', '3', '0', ']', ' ', 'f', 'a', 'c', 'e', ' ', 'm', 'y', 's', 'e', 'l', 'f', '.', ' ', 'I', ' ', 'h', 'a', 'd', ' ', 't', 'o', ' ', 'f', 'a', 'c', 'e', ' ', 't', 'h', 'e', ' ', 'w', 'a', 'y', ' ', 't', 'h', 'a', 't', ' ', 'm', 'y', ' ', 'b', 'o', 'd', 'y', ' ', 'c', 'h', 'a', 'n', 'g', 'e', 'd', '.', ' ', 'I', ' ', 'h', 'a', 't', 'e', 'd', ' ', 'I', ' ', 'h', 'a', 't', 'e', 'd', ' ', 'l', 'o', 'o', 'k', 'i', 'n', 'g', ' ', 'a', 't', ' ', 'm', 'y', 's', 'e', 'l', 'f', ' ', 'i', 'n', ' ', 't', 'h', 'e', ' ', 'm', 'i', 'r', 'r', 'o', 'r', '.', ' ', 'I', ' ', 'h', 'a', 't', 'e', 'd', ' ', 'i', 't', '.', ' ', 'A', 'n', 'd', ' ', 's', 'o', ' ', 'I', ' ', 'n', 'e', 'v', 'e', 'r', ' ', 'd', 'i', 'd', '.', ' ', 'A', 'n', 'd', ' ', 't', 'h', 'e', 'n', ' ', 's', 'h', 'e', ' ', 's', 't', 'a', 'r', 't', 'e', 'd', ' ', 'p', 'u', 't', 't', 'i', 'n', 'g', ' ', 'm', 'e', ' ', 'i', 'n', ' ', 't', 'h', 'a', 't', ' ', 't', 'u', 'b', ' ', 'a', 'n', 'd', ' ', 'I', ' ', 'w', 'a', 's', ' ', 's', 'u', 'r', 'r', 'o', 'u', 'n', 'd', 'e', 'd', ' ', 'b', 'y', ' ', 't', 'h', 'e', ' ', 'm', 'i', 'r', 'r', 'o', 'r', '.', ' ', 'S', 'o', ' ', 'I', \"'\", 'd', ' ', 'h', 'a', 'v', 'e', ' ', 't', 'o', ' ', 'f', 'a', 'c', 'e', ' ', 't', 'h', 'e', ' ', 'w', 'a', 'y', ' ', 'I', ' ', 'l', 'o', 'o', 'k', 'e', 'd', ',', ' ', 'b', 'e', 'c', 'a', 'u', 's', 'e', ' ', 'I', ' ', 'w', 'o', 'u', 'l', 'd', ' ', 'h', 'a', 'v', 'e', ' ', 't', 'o', ' ', 'I', ' ', 'w', 'o', 'u', 'l', 'd', ' ', 'h', 'a', 'v', 'e', ' ', 't', 'o', ' ', 'f', 'a', 'c', 'e', ' ', 't', 'h', 'e', ' ', 's', 'c', 'a', 'r', 's', '.', ' ', 'I', ' ', 'w', 'o', 'u', 'l', 'd', ' ', 'h', 'a', 'v', 'e', ' ', 't', 'o', ' ', 'f', 'a', 'c', 'e', ' ', 't', 'h', 'e', ' ', 'c', 'h', 'a', 'n', 'g', 'e', 's', '.', ' ', 'N', 'o', 'w', ',', ' ', 'I', ' ', 'l', 'o', 'v', 'e', ' ', 'm', 'y', ' ', 's', 'c', 'a', 'r', 's', '.', ' ', 'I', ' ', 'd', 'i', 'd', 'n', \"'\", 't', ' ', 'a', 't', ' ', 'f', 'i', 'r', 's', 't', ',', ' ', 'b', 'u', 't', ' ', 'n', 'o', 'w', ' ', 'I', ' ', 'l', 'o', 'v', 'e', ' ', 'm', 'y', ' ', 's', 'c', 'a', 'r', 's', '.', ' ', 'I', 't', \"'\", 's', ' ', 'j', 'u', 's', 't', ' ', 'a', 'n', 'o', 't', 'h', 'e', 'r', ' ', 'w', 'a', 'y', ' ', 't', 'o', ' ', 's', 'h', 'o', 'w', ' ', 't', 'h', 'a', 't', ' ', 'I', ' ', 's', 'u', 'r', 'v', 'i', 'v', 'e', 'd', '.', ' ', '[', '0', '0', ':', '3', '6', ':', '0', '0', ']', ' ', 'I', ' ', 'u', 's', 'e', 'd', ' ', 't', 'o', ' ', 'h', 'o', 'l', 'd', ' ', 'a', ' ', 'l', 'o', 't', ' ', 'o', 'f', ' ', 'a', 'n', 'g', 'e', 'r', ',', ' ', 'a', ' ', 'l', 'o', 't', ' ', 'o', 'f', ' ', 'a', 'n', 'g', 'e', 'r', ' ', 't', 'o', 'w', 'a', 'r', 'd', 's', ' ', 't', 'h', 'e', ' ', 'w', 'h', 'o', 'l', 'e', ' ', 's', 'i', 't', 'u', 'a', 't', 'i', 'o', 'n', '.', ' ', 'T', 'h', 'e', ' ', 'o', 'n', 'e', ' ', 't', 'h', 'i', 'n', 'g', ' ', 'I', ' ', 'c', 'a', 'n', \"'\", 't', ' ', 's', 't', 'a', 'n', 'd', ' ', 'i', 's', ' ', 'w', 'h', 'e', 'n', ' ', 's', 'o', 'm', 'e', 'b', 'o', 'd', 'y', ' ', 't', 'e', 'l', 'l', 's', ' ', 'm', 'e', ' ', 'I', \"'\", 'm', ' ', 't', 'o', 'o', ' ', 'y', 'o', 'u', 'n', 'g', ' ', 't', 'o', ' ', 'h', 'a', 'v', 'e', ' ', 'g', 'o', 'n', 'e', ' ', 't', 'h', 'r', 'o', 'u', 'g', 'h', ' ', 'w', 'h', 'a', 't', ' ', 'I', \"'\", 'v', 'e', ' ', 'g', 'o', 'n', 'e', ' ', 't', 'h', 'r', 'o', 'u', 'g', 'h', '.', '\\ufeff', 'S', 'c', 'e', 'n', 'e', ' ', '5', '\\n', '\\n', '\\n', 'E', 'l', 'i', 'z', 'a', 'b', 'e', 't', 'h', ':', ' ', '[', '0', '0', ':', '2', '1', ':', '3', '2', ']', ' ', 'S', 'o', ' ', '[', '0', '0', ':', '2', '1', ':', '3', '0', ']', ' ', 'I', ' ', 's', 'a', 'w', ' ', 't', 'h', 'e', ' ', 'h', 'e', 'm', 'a', 't', 'o', 'l', 'o', 'g', 'i', 's', 't', ' ', 'o', 'n', 'c', 'o', 'l', 'o', 'g', 'i', 's', 't', ' ', 'f', 'o', 'r', ' ', 'f', 'i', 'v', 'e', ' ', 'y', 'e', 'a', 'r', 's', ' ', 'j', 'u', 's', 't', ' ', 'f', 'r', 'o', 'm', ' ', 'b', 'e', 'i', 'n', 'g', ' ', 'n', 'e', 'u', 't', 'r', 'o', 'p', 'e', 'n', 'i', 'c', ' ', 'f', 'o', 'r', ' ', 's', 'i', 'x', ' ', 'm', 'o', 'n', 't', 'h', 's', '.', ' ', 'T', 'h', 'e', 'y', ' ', 'm', 'a', 'd', 'e', ' ', 'm', 'e', ' ', 'k', 'e', 'e', 'p', ' ', 'g', 'o', 'i', 'n', 'g', ',', ' ', 'b', 'u', 't', ' ', 't', 'h', 'e', 'y', ' ', 'j', 'u', 's', 't', ' ', 'k', 'e', 'p', 't', ' ', 't', 'h', 'r', 'e', 'a', 't', 'e', 'n', 'i', 'n', 'g', '.', ' ', 'I', 'f', ' ', 'y', 'o', 'u', 'r', ' ', 'n', 'e', 'u', 't', 'r', 'o', 'p', 'h', 'i', 'l', 's', ' ', 'd', 'o', 'n', \"'\", 't', ' ', 'c', 'o', 'm', 'e', ' ', 'u', 'p', ',', ' ', 'w', 'e', \"'\", 'r', 'e', ' ', 'g', 'o', 'i', 'n', 'g', ' ', 't', 'o', ' ', 's', 't', 'o', 'p', ' ', 'r', 'a', 'd', 'i', 'a', 't', 'i', 'o', 'n', '.', '\\n', '\\n', '\\n', 'S', 'a', 'm', ':', ' ', '[', '0', '0', ':', '2', '1', ':', '4', '8', ']', ' ', 'Y', 'e', 'a', 'h', ',', ' ', 't', 'h', 'a', 't', \"'\", 's', ' ', 't', 'h', 'e', ' ', 'm', 'o', 's', 't', ' ', 't', 'e', 'r', 'r', 'i', 'f', 'y', 'i', 'n', 'g', ' ', 't', 'h', 'i', 'n', 'g', '.', '\\n', '\\n', '\\n', 'E', 'l', 'i', 'z', 'a', 'b', 'e', 't', 'h', ':', ' ', '[', '0', '0', ':', '2', '1', ':', '4', '9', ']', ' ', 'Y', 'e', 'a', 'h', ',', ' ', 'I', \"'\", 'm', ' ', 'l', 'i', 'k', 'e', ',', ' ', 'I', ' ', 'd', 'o', 'n', \"'\", 't', ' ', 'w', 'a', 'n', 't', ' ', 't', 'o', ' ', 's', 't', 'o', 'p', '.', '\\n', '\\n', '\\n', 'S', 'a', 'm', ':', ' ', '[', '0', '0', ':', '2', '1', ':', '5', '1', ']', ' ', 'B', 'u', 't', ' ', 't', 'h', 'a', 't', \"'\", 's', ' ', 'g', 'o', 'i', 'n', 'g', ' ', 't', 'o', ' ', 'm', 'a', 'k', 'e', ' ', 't', 'h', 'e', ' ', 'c', 'a', 'n', 'c', 'e', 'r', ' ', 'p', 'r', 'o', 'g', 'r', 'e', 's', 's', '.', '\\n', '\\n', '\\n', 'E', 'l', 'i', 'z', 'a', 'b', 'e', 't', 'h', ':', ' ', '[', '0', '0', ':', '2', '1', ':', '5', '3', ']', ' ', 'Y', 'e', 'a', 'h', '.', ' ', 'I', ' ', 'd', 'o', 'n', \"'\", 't', ' ', 'w', 'a', 'n', 't', ' ', 't', 'o', ' ', 'g', 'i', 'v', 'e', ' ', 'a', ' ', 'c', 'a', 'n', 'c', 'e', 'r', ' ', 'a', 'n', 'y', ' ', 'm', 'o', 'r', 'e', ' ', 'c', 'h', 'a', 'n', 'c', 'e', 's', '.', ' ', 'S', 'o', ' ', 'd', 'i', 'd', ' ', 'y', 'o', 'u', ' ', 'e', 'v', 'e', 'r', ' ', 'h', 'a', 'v', 'e', ' ', 't', 'o', ' ', 'd', 'o', ' ', 'c', 'h', 'e', 'm', 'o', ' ', 'p', 'i', 'l', 'l', 's', ',', ' ', 't', 'o', 'o', '?', '\\n', '\\n', '\\n', 'S', 'a', 'm', ':', ' ', '[', '0', '0', ':', '2', '1', ':', '5', '9', ']', ' ', 'N', 'o', ',', ' ', 'f', 'o', 'r', 't', 'u', 'n', 'a', 't', 'e', 'l', 'y', '.', ' ', '[', '0', '0', ':', '2', '2', ':', '0', '0', ']', '\\n', '\\n', '\\n', 'E', 'l', 'i', 'z', 'a', 'b', 'e', 't', 'h', ':', ' ', '[', '0', '0', ':', '2', '2', ':', '0', '2', ']', ' ', 'S', 'e', 'e', ',', ' ', 'y', 'o', 'u', ' ', 's', 'a', 'y', ' ', 'i', 't', ' ', 't', 'o', 'o', ' ', 'j', 'u', 's', 't', '.', ' ', 'Y', 'e', 'a', 'h', ',', ' ', 'j', 'u', 's', 't', ' ', 't', 'h', 'a', 't', '.', '\\n', '\\n', '\\n', 'E', 'l', 'i', 'z', 'a', 'b', 'e', 't', 'h', ':', ' ', '[', '0', '0', ':', '2', '2', ':', '0', '6', ']', ' ', 'J', 'u', 's', 't', ' ', 't', 'h', 'a', 't', ' ', 'o', 'n', 'e', '.', '\\n', '\\n', '\\n', 'S', 'a', 'm', ':', ' ', '[', '0', '0', ':', '2', '2', ':', '0', '7', ']', ' ', 'O', 'n', ' ', 'e', 'a', 'r', 't', 'h', '.', '\\n', '\\n', '\\n', 'E', 'l', 'i', 'z', 'a', 'b', 'e', 't', 'h', ':', ' ', '[', '0', '0', ':', '2', '2', ':', '0', '8', ']', ' ', 'W', 'a', 's', ' ', 'a', ' ', 't', 'e', 'r', 'r', 'i', 'b', 'l', 'e', ' ', 't', 'h', 'i', 'n', 'g', ' ', 't', 'h', 'a', 't', ' ', 'w', 'a', 's', ' ', 't', 'r', 'y', 'i', 'n', 'g', ' ', 't', 'o', ' ', 'k', 'i', 'l', 'l', ' ', 'm', 'e', ' ', 'a', 'n', 'd', ' ', 'k', 'e', 'e', 'p', ' ', 'm', 'e', ' ', 'a', 'l', 'i', 'v', 'e', '.', '\\n', '\\n', '\\n', 'G', 'u', 'i', 'd', 'e', ' ', '2', ':', ' ', '[', '0', '0', ':', '2', '2', ':', '1', '3', ']', ' ', 'D', 'o', ' ', 'y', 'o', 'u', ' ', 'r', 'e', 'm', 'e', 'm', 'b', 'e', 'r', ' ', 'w', 'h', 'e', 'n', ' ', 'w', 'e', ' ', 'd', 'i', 'd', ' ', 't', 'h', 'e', ' ', 's', 'i', 'l', 'e', 'n', 't', ' ', 'h', 'i', 'k', 'e', '?', '\\n', '\\n', '\\n', 'E', 'l', 'i', 'z', 'a', 'b', 'e', 't', 'h', ':', ' ', '[', '0', '0', ':', '2', '2', ':', '1', '5', ']', ' ', 'Y', 'e', 'a', 'h', '.', '\\n', '\\n', '\\n', 'G', 'u', 'i', 'd', 'e', ' ', '2', ':', ' ', '[', '0', '0', ':', '2', '2', ':', '1', '6', ']', ' ', 'Y', 'o', 'u', ' ', 't', 'a', 'l', 'k', 'e', 'd', ' ', 'a', 'b', 'o', 'u', 't', ' ', 't', 'h', 'e', ' ', 'f', 'o', 'r', 'e', 's', 't', '.', ' ', 'W', 'e', ' ', 't', 'a', 'l', 'k', 'e', 'd', ' ', 'a', 'b', 'o', 'u', 't', ' ', 'h', 'o', 'w', ' ', 's', 'o', 'm', 'e', 't', 'h', 'i', 'n', 'g', ' ', 'l', 'i', 'k', 'e', ' ', 'a', ' ', 'f', 'o', 'r', 'e', 's', 't', ' ', 'f', 'i', 'r', 'e', ' ', 'c', 'a', 'n', ' ', 'c', 'o', 'm', 'e', ' ', 't', 'h', 'r', 'o', 'u', 'g', 'h', ' ', 'e', 'v', 'e', 'r', 'y', 't', 'h', 'i', 'n', 'g', ' ', 'a', 'n', 'd', ' ', 'y', 'e', 't', '.', '\\n', '\\n', '\\n', 'E', 'l', 'i', 'z', 'a', 'b', 'e', 't', 'h', ':', ' ', '[', '0', '0', ':', '2', '2', ':', '2', '6', ']', ' ', 'T', 'h', 'i', 's', ' ', 'i', 's', ' ', 'j', 'u', 's', 't', ' ', 'w', 'h', 'a', 't', ' ', 'i', 't', ' ', 'l', 'o', 'o', 'k', 's', ' ', 'l', 'i', 'k', 'e', ' ', 'r', 'i', 'g', 'h', 't', ' ', 'n', 'o', 'w', '.', '\\n', '\\n', '\\n', 'G', 'u', 'i', 'd', 'e', ' ', '2', ':', ' ', '[', '0', '0', ':', '2', '2', ':', '2', '7', ']', ' ', 'Y', 'e', 'a', 'h', '.', '\\n', '\\n', '\\n', 'G', 'u', 'i', 'd', 'e', ' ', '2', ':', ' ', '[', '0', '0', ':', '2', '2', ':', '2', '8', ']', ' ', 'S', 'o', 'm', 'e', 't', 'h', 'i', 'n', 'g', ' ', 'n', 'e', 'w', ' ', 'w', 'i', 'l', 'l', ' ', 'a', 'l', 'w', 'a', 'y', 's', ' ', '[', '0', '0', ':', '2', '2', ':', '3', '0', ']', ' ', 'g', 'r', 'o', 'w', ' ', 'b', 'a', 'c', 'k', '.', '\\n', '\\n', '\\n', 'E', 'l', 'i', 'z', 'a', 'b', 'e', 't', 'h', ':', ' ', '[', '0', '0', ':', '2', '2', ':', '3', '0', ']', ' ', 'Y', 'e', 'a', 'h', ',', ' ', 'b', 'e', 'c', 'a', 'u', 's', 'e', ' ', 't', 'h', 'e', ' ', 'h', 'a', 's', ' ', 'r', 'e', 'a', 'l', 'l', 'y', ' ', 'n', 'u', 't', 'r', 'i', 'e', 'n', 't', ' ', 'r', 'i', 'c', 'h', ' ', 's', 'o', 'i', 'l', ' ', 'n', 'o', 'w', '.', ' ', 'A', 'n', 'd', ' ', 't', 'h', 'a', 't', \"'\", 's', ' ', 'r', 'e', 'a', 'l', 'l', 'y', ' ', 'w', 'h', 'e', 'n', ' ', 'i', 't', ' ', 'h', 'i', 't', ' ', 'm', 'e', ' ', 'l', 'i', 'k', 'e', '.', ' ', 'T', 'h', 'o', 's', 'e', ' ', 'p', 'r', 'o', 'c', 'e', 's', 's', 'e', 's', ' ', 'r', 'e', 'f', 'i', 'n', 'i', 'n', 'g', ' ', 'm', 'e', ',', ' ', 'I', ' ', 'g', 'u', 'e', 's', 's', '.', ' ', 'I', 's', ' ', 't', 'h', 'e', 'r', 'e', ' ', 's', 't', 'i', 'l', 'l', ' ', 's', 'o', 'm', 'e', 't', 'h', 'i', 'n', 'g', ' ', 'm', 'o', 'r', 'e', ' ', 'b', 'e', 'a', 'u', 't', 'i', 'f', 'u', 'l', ' ', 't', 'o', ' ', 'c', 'o', 'm', 'e', '?', '\\n', '\\n', '\\n', 'G', 'u', 'i', 'd', 'e', ' ', '2', ':', ' ', '[', '0', '0', ':', '2', '2', ':', '5', '5', ']', ' ', 'Y', 'e', 'a', 'h', '.', '\\n', '\\n', '\\n', 'J', 'u', 's', 't', 'i', 'n', ':', ' ', '[', '0', '0', ':', '2', '3', ':', '0', '0', ']', ' ', 'P', 'a', 'r', 't', ' ', '[', '0', '0', ':', '2', '3', ':', '0', '0', ']', ' ', 'o', 'f', ' ', 'w', 'h', 'a', 't', ' ', 'w', 'e', \"'\", 'v', 'e', ' ', 'd', 'i', 's', 'c', 'u', 's', 's', 'e', 'd', ' ', 'i', 's', ' ', 'j', 'u', 's', 't', ' ', 'n', 'o', 't', ' ', 'h', 'a', 'v', 'i', 'n', 'g', ' ', 'k', 'i', 'd', 's', ' ', 'r', 'i', 'g', 'h', 't', ' ', 'n', 'o', 'w', ' ', 'h', 'a', 's', ' ', 'm', 'o', 'r', 'e', ' ', 't', 'o', ' ', 'd', 'o', ' ', 'w', 'i', 't', 'h', ' ', 'j', 'u', 's', 't', ' ', 'h', 'e', 'r', ' ', 'e', 'n', 'e', 'r', 'g', 'y', ' ', 'l', 'e', 'v', 'e', 'l', ' ', 't', 'h', 'a', 'n', ' ', 'a', 'n', 'y', 't', 'h', 'i', 'n', 'g', '.', ' ', 'I', ' ', 'm', 'e', 'a', 'n', ',', ' ', 'w', 'h', 'e', 't', 'h', 'e', 'r', ' ', 'y', 'o', 'u', \"'\", 'r', 'e', ' ', 'a', 'd', 'o', 'p', 't', 'i', 'n', 'g', ' ', 'o', 'r', ' ', 'h', 'a', 'v', 'i', 'n', 'g', ' ', 'a', ' ', 'b', 'i', 'o', 'l', 'o', 'g', 'i', 'c', 'a', 'l', ' ', 'k', 'i', 'd', '.', ' ', 'Y', 'e', 'a', 'h', ',', ' ', 't', 'h', 'e', 'r', 'e', \"'\", 's', ' ', 'd', 'a', 'y', 's', ' ', 'w', 'h', 'e', 'r', 'e', ' ', 's', 'h', 'e', ' ', 'j', 'u', 's', 't', ' ', 'f', 'l', 'a', 't', ' ', 'o', 'u', 't', ' ', 'w', 'o', 'u', 'l', 'd', ' ', 'n', 'o', 't', ' ', 'b', 'e', ' ', 'a', 'b', 'l', 'e', ' ', 't', 'o', ' ', 't', 'a', 'k', 'e', ' ', 'c', 'a', 'r', 'e', ' ', 'o', 'f', ' ', 'a', ' ', 'k', 'i', 'd', '.', '\\n', '\\n', '\\n', 'E', 'l', 'i', 'z', 'a', 'b', 'e', 't', 'h', ':', ' ', '[', '0', '0', ':', '2', '3', ':', '1', '7', ']', ' ', 'A', 'n', 'd', ',', ' ', 'w', 'e', 'l', 'l', ',', ' ', 'i', 't', \"'\", 's', ' ', 'h', 'a', 'r', 'd', ' ', 'n', 'o', 't', ' ', 't', 'o', ' ', 't', 'h', 'i', 'n', 'k', ' ', 't', 'h', 'e', ' ', 'w', 'o', 'r', 's', 't', ' ', 'w', 'i', 't', 'h', ' ', 'h', 'o', 'w', ' ', 'm', 'a', 'n', 'y', ' ', 'o', 'f', ' ', 'm', 'y', ' ', 't', 'h', 'y', 'r', 'o', 'i', 'd', ' ', 'c', 'a', 'n', 'c', 'e', 'r', ' ', 'f', 'r', 'i', 'e', 'n', 'd', 's', ' ', 'h', 'a', 'v', 'e', ' ', 'd', 'i', 'e', 'd', ' ', 't', 'h', 'i', 's', ' ', 'y', 'e', 'a', 'r', '.', ' ', 'I', ' ', 'w', 'i', 'l', 'l', '.', ' ', 'I', \"'\", 'm', ' ', 't', 'r', 'y', 'i', 'n', 'g', ' ', 't', 'o', ' ', 'f', 'o', 'c', 'u', 's', ' ', 'o', 'n', ' ', '[', '0', '0', ':', '2', '3', ':', '3', '0', ']', ' ', 't', 'h', 'e', ' ', 'p', 'o', 's', 'i', 't', 'i', 'v', 'e', '.', ' ', 'I', \"'\", 'm', ' ', 'p', 'l', 'a', 'n', 't', 'i', 'n', 'g', ' ', 't', 'h', 'e', ' ', 's', 'e', 'e', 'd', ' ', 'o', 'f', ' ', 's', 'e', 'l', 'f', ' ', 'e', 'n', 'c', 'o', 'u', 'r', 'a', 'g', 'e', 'm', 'e', 'n', 't', ' ', 'a', 'n', 'd', ' ', 'I', ' ', 'a', 'm', ' ', 'l', 'e', 't', 't', 'i', 'n', 'g', ' ', 'g', 'o', ' ', 'o', 'f', ' ', 'c', 'o', 'm', 'p', 'a', 'r', 'i', 'n', 'g', ' ', 'm', 'y', 's', 'e', 'l', 'f', ' ', 't', 'o', ' ', 'm', 'y', ' ', 'f', 'o', 'r', 'm', 'e', 'r', ' ', 's', 'e', 'l', 'f', '.', '\\n', '\\n', '\\n', 'J', 'u', 's', 't', 'i', 'n', ':', ' ', '[', '0', '0', ':', '2', '3', ':', '5', '5', ']', ' ', 'P', 'l', 'a', 'n', 't', 'i', 'n', 'g', ' ', 't', 'h', 'e', ' ', 's', 'e', 'e', 'd', ' ', 'o', 'f', ' ', 'j', 'u', 's', 't', ' ', 'h', 'o', 'p', 'i', 'n', 'g', '.', ' ', 'F', 'o', 'r', ' ', '[', '0', '0', ':', '2', '4', ':', '0', '0', ']', ' ', 'a', ' ', 'b', 'r', 'i', 'g', 'h', 't', 'e', 'r', ' ', 'f', 'u', 't', 'u', 'r', 'e', ',', ' ', 'f', 'o', 'r', ' ', 'm', 'o', 'r', 'e', ' ', 'c', 'h', 'a', 'n', 'g', 'e', 's', ' ', 't', 'o', ' ', 'c', 'o', 'm', 'e', '.', ' ', 'L', 'e', 'a', 'v', 'i', 'n', 'g', ' ', 'b', 'e', 'h', 'i', 'n', 'd', ' ', 's', 'o', 'm', 'e', ' ', 'o', 'f', ' ', 't', 'h', 'e', ' ', 'a', 'n', 'g', 'e', 'r', ' ', 'a', 'n', 'd', ' ', 'r', 'e', 's', 'e', 'n', 't', 'm', 'e', 'n', 't', '.', '\\n', '\\n', '\\n', 'G', 'u', 'i', 'd', 'e', ' ', '2', ':', ' ', '[', '0', '0', ':', '2', '4', ':', '4', '5', ']', ' ', 'O', 'h', ',', ' ', '[', '0', '0', ':', '2', '4', ':', '3', '0', ']', ' ', 'm', 'y', ' ', 'G', 'o', 'd', '.', '\\n', '\\n', '\\n', 'E', 'l', 'i', 'z', 'a', 'b', 'e', 't', 'h', ':', ' ', '[', '0', '0', ':', '2', '5', ':', '1', '6', ']', ' ', 'T', 'h', 'e', ' ', '[', '0', '0', ':', '2', '5', ':', '0', '0', ']', ' ', 'b', 'i', 'g', 'g', 'e', 's', 't', ' ', 'l', 'e', 'v', 'e', 'l', ' ', 'o', 'f', ' ', 'g', 'r', 'a', 't', 'i', 't', 'u', 'd', 'e', ' ', 'I', ' ', 'f', 'e', 'l', 't', ' ', 'o', 'n', ' ', 't', 'h', 'i', 's', ' ', 't', 'r', 'i', 'p', ' ', 'i', 's', ' ', 't', 'h', 'a', 't', ' ', 'w', 'e', ' ', 'c', 'a', 'n', ' ', 'a', 'l', 'l', ' ', 'b', 'e', ' ', 'o', 'u', 'r', 's', 'e', 'l', 'v', 'e', 's', ' ', 'a', 'n', 'd', ' ', 'a', 'l', 'l', ' ', 't', 'a', 'l', 'k', ' ', 'h', 'o', 'n', 'e', 's', 't', 'l', 'y', ' ', 'a', 'n', 'd', ' ', 'o', 'p', 'e', 'n', 'l', 'y', ' ', 'a', 'b', 'o', 'u', 't', ' ', 'n', 'o', 't', ' ', 'o', 'n', 'l', 'y', ' ', 'h', 'o', 'w', ' ', 'w', 'e', \"'\", 'r', 'e', ' ', 'f', 'e', 'e', 'l', 'i', 'n', 'g', ',', ' ', 'b', 'u', 't', ' ', 'a', 'b', 'o', 'u', 't', ' ', 'o', 'u', 'r', ' ', 'b', 'a', 'c', 'k', 'g', 'r', 'o', 'u', 'n', 'd', 's', ' ', '[', '0', '0', ':', '2', '5', ':', '3', '0', ']', ' ', 'a', 'n', 'd', ' ', 'a', 'b', 'o', 'u', 't', ' ', 'j', 'u', 's', 't', ' ', 'e', 'v', 'e', 'r', 'y', ' ', 'a', 's', 'p', 'e', 'c', 't', ' ', 'o', 'f', ' ', 'o', 'u', 'r', ' ', 'l', 'i', 'v', 'e', 's', '.', ' ', 'I', 't', \"'\", 's', ' ', 'i', 't', \"'\", 's', ' ', 'j', 'u', 's', 't', ' ', 'b', 'e', 'e', 'n', ' ', 'r', 'e', 'a', 'l', 'l', 'y', '.', ' ', 'F', 'r', 'e', 'e', 'i', 'n', 'g', ' ', 't', 'o', ' ', 'b', 'e', ' ', 'a', 'b', 'l', 'e', ' ', 't', 'o', '.', ' ', 'T', 'a', 'l', 'k', ' ', 'a', ' ', 'l', 'i', 't', 't', 'l', 'e', ' ', 'b', 'i', 't', ' ', 'a', 'b', 'o', 'u', 't', ' ', 'm', 'y', ' ', 'f', 'a', 'i', 't', 'h', ' ', 'a', 'n', 'd', ' ', 'h', 'o', 'w', ' ', 't', 'h', 'a', 't', \"'\", 's', ' ', 'h', 'e', 'l', 'p', 'e', 'd', ' ', 'm', 'e', ' ', 'g', 'e', 't', ' ', 't', 'h', 'r', 'o', 'u', 'g', 'h', '.', ' ', 'A', 'n', 'd', ' ', 't', 'h', 'e', 'n', ' ', 't', 'o', ' ', 'h', 'e', 'a', 'r', ' ', 'l', 'o', 't', 's', ' ', 'o', 'f', ' ', 'd', 'i', 'f', 'f', 'e', 'r', 'e', 'n', 't', ' ', 'a', 's', 'p', 'e', 'c', 't', 's', ' ', 'o', 'f', ' ', 'e', 'a', 'c', 'h', ' ', 'o', 'f', ' ', 'y', 'o', 'u', 'r', ' ', 'l', 'i', 'v', 'e', 's', ' ', 't', 'h', 'a', 't', ' ', 'w', 'e', ' ', 'm', 'a', 'y', ' ', 'n', 'o', 't', ' ', 's', 'h', 'a', 'r', 'e', ' ', 'a', 'l', 'l', ' ', 't', 'h', 'e', ' ', 't', 'i', 'm', 'e', ' ', 'w', 'i', 't', 'h', ' ', 'e', 'v', 'e', 'r', 'y', 'o', 'n', 'e', '.', ' ', 'B', 'u', 't', ' ', 'I', ' ', 'j', 'u', 's', 't', ' ', 'f', 'e', 'l', 't', ' ', 'l', 'i', 'k', 'e', ' ', 'w', 'e', ' ', 'w', 'e', 'r', 'e', ' ', 'r', 'e', 'a', 'l', 'l', 'y', ' ', 'a', 'b', 'l', 'e', ' ', 't', 'o', ' ', 'b', 'e', ' ', '[', '0', '0', ':', '2', '6', ':', '0', '0', ']', ' ', 'o', 'p', 'e', 'n', ' ', 'a', 'n', 'd', ' ', 'h', 'o', 'n', 'e', 's', 't', ' ', 'h', 'e', 'r', 'e', '.', ' ', 'F', 'e', 'e', 'l', 'i', 'n', 'g', 's', ' ', 'o', 'f', ' ', 'g', 'r', 'a', 't', 'i', 't', 'u', 'd', 'e', ' ', 'f', 'o', 'r', ' ', 't', 'h', 'a', 't', '.', '\\ufeff', 'S', 'c', 'e', 'n', 'e', ' ', '7', '\\n', '\\n', '\\n', 'L', 'a', 'r', 's', ':', ' ', '[', '0', '0', ':', '2', '8', ':', '4', '5', ']', ' ', 'H', 'e', 'y', ',', ' ', '[', '0', '0', ':', '2', '8', ':', '3', '0', ']', ' ', 'g', 'u', 'y', 's', '.', ' ', 'G', 'o', 'o', 'd', ' ', 'j', 'o', 'b', '.', ' ', 'W', 'e', 'l', 'c', 'o', 'm', 'e', ' ', 't', 'o', ' ', 'c', 'a', 'm', 'p', '.', ' ', 'R', 'i', 'g', 'h', 't', ' ', 'd', 'o', 'w', 'n', ' ', 'r', 'i', 'g', 'h', 't', ' ', 't', 'h', 'e', 'r', 'e', '.', ' ', 'S', 'o', ' ', 'i', 'f', ' ', 'y', 'o', 'u', ' ', 'c', 'o', 'u', 'l', 'd', ' ', 'a', 'l', 'l', ' ', 'h', 'e', 'a', 'r', ' ', 'm', 'e', ' ', 's', 'a', 'y', '.', ' ', 'Y', 'e', 'p', '.', ' ', 'R', 'i', 'g', 'h', 't', ' ', 'o', 'n', '.', ' ', 'W', 'e', \"'\", 'r', 'e', ' ', 'j', 'u', 's', 't', ' ', 'g', 'o', 'n', 'n', 'a', ' ', 'l', 'o', 'a', 'd', ' ', 'g', 'e', 'a', 'r', ' ', 'a', 'n', 'd', ' ', 'j', 'u', 's', 't', ' ', '[', '0', '0', ':', '2', '9', ':', '0', '0', ']', ' ', 'p', 'u', 't', ' ', 'i', 't', ' ', 'o', 'n', ' ', 't', 'o', 'p', ' ', 'o', 'f', ' ', 't', 'h', 'i', 's', ' ', 's', 'h', 'e', 'l', 'f', ' ', 'r', 'i', 'g', 'h', 't', ' ', 'h', 'e', 'r', 'e', '.', ' ', 'I', 'f', ' ', 'w', 'e', ' ', 'c', 'a', 'n', ' ', 'g', 'e', 't', ' ', 'a', ' ', 'f', 'i', 'r', 'e', ' ', 'l', 'i', 'n', 'e', ' ', 'g', 'o', 'i', 'n', 'g', ' ', 'u', 'p', ' ', 't', 'h', 'i', 's', ' ', 'l', 'i', 't', 't', 'l', 'e', ' ', 'w', 'a', 'y', ' ', 'r', 'i', 'g', 'h', 't', ' ', 'h', 'e', 'r', 'e', '.', '\\n', '\\n', '\\n', 'G', 'u', 'i', 'd', 'e', ' ', '1', ':', ' ', '[', '0', '0', ':', '2', '9', ':', '0', '6', ']', ' ', 'S', 'o', 'u', 'n', 'd', 's', ' ', 'g', 'o', 'o', 'd', '.', ' ', 'O', 'k', 'a', 'y', ',', ' ', 'g', 'r', 'e', 'a', 't', '.', ' ', 'O', 'h', ',', ' ', 'm', 'y', ' ', 'G', 'o', 'd', '.', ' ', 'R', 'i', 'g', 'h', 't', '.', ' ', 'R', 'e', 'a', 'l', 'l', 'y', '?', ' ', 'H', 'e', 'a', 'v', 'y', '.', ' ', 'O', 'h', ',', ' ', 'm', 'y', ' ', 'G', 'o', 'd', '.', '\\n', '\\n', '\\n', 'S', 'p', 'e', 'a', 'k', 'e', 'r', '5', ':', ' ', '[', '0', '0', ':', '2', '9', ':', '1', '9', ']', ' ', 'H', 'e', 'a', 'v', 'y', '.', ' ', 'Y', 'e', 'a', 'h', '.', '\\n', '\\n', '\\n', 'G', 'u', 'i', 'd', 'e', ' ', '1', ':', ' ', '[', '0', '0', ':', '2', '9', ':', '2', '0', ']', ' ', 'O', 'h', ',', ' ', 'm', 'y', ' ', 'g', 'o', 's', 'h', '.', ' ', 'N', 'o', ',', ' ', 'r', 'e', 'a', 'l', 'l', 'y', '?', ' ', 'L', 'i', 'k', 'e', ' ', 'g', 'u', 'y', 's', '.', '\\n', '\\n', '\\n', 'L', 'i', 'n', 'd', 's', 'e', 'y', ':', ' ', '[', '0', '0', ':', '2', '9', ':', '2', '6', ']', ' ', 'V', 'e', 'r', 'y', ' ', 'h', 'e', 'a', 'v', 'y', '.', '\\n', '\\n', '\\n', 'G', 'u', 'i', 'd', 'e', ' ', '1', ':', ' ', '[', '0', '0', ':', '2', '9', ':', '2', '8', ']', ' ', 'O', 'h', ',', ' ', 'm', 'y', ' ', 'G', 'o', 'd', '.', ' ', 'I', ' ', 'k', 'n', 'o', 'w', '.', ' ', '[', '0', '0', ':', '2', '9', ':', '3', '0', ']', ' ', 'H', 'o', 'l', 'd', ' ', 't', 'h', 'e', ' ', 'l', 'i', 'n', 'e', '.', ' ', 'O', 'h', ',', ' ', 't', 'h', 'e', ' ', 'l', 'i', 'n', 'e', '.', '\\n', '\\n', '\\n', 'L', 'i', 'n', 'd', 's', 'e', 'y', ':', ' ', '[', '0', '0', ':', '2', '9', ':', '3', '4', ']', ' ', 'I', \"'\", 'm', ' ', 'h', 'o', 'l', 'd', 'i', 'n', 'g', ' ', 'i', 'n', ' ', 'a', 'n', 'd', ' ', 'i', 't', \"'\", 's', ' ', 'h', 'e', 'a', 'v', 'y', '.', '\\n', '\\n', '\\n', 'G', 'u', 'i', 'd', 'e', ' ', '1', ':', ' ', '[', '0', '0', ':', '2', '9', ':', '3', '9', ']', ' ', 'I', 't', ' ', 'c', 'a', 'n', ' ', 'm', 'a', 'k', 'e', ' ', 'a', ' ', 'l', 'o', 'u', 'd', ' ', 'n', 'o', 'i', 's', 'e', '.', ' ', 'Y', 'e', 'a', 'h', '.', ' ', 'O', 'k', 'a', 'y', '.', ' ', 'G', 'o', '.', ' ', 'R', 'i', 'g', 'h', 't', '.', ' ', 'O', 'k', 'a', 'y', '.', '\\n', '\\n', '\\n', 'P', 'h', 'i', 'l', \"'\", 's', ' ', 'C', 'a', 'r', 'e', 't', 'a', 'k', 'e', 'r', ':', ' ', '[', '0', '0', ':', '2', '9', ':', '5', '0', ']', ' ', 'T', 'h', 'e', 'r', 'e', \"'\", 's', ' ', 's', 'o', 'm', 'e', ' ', 'r', 'e', 'a', 'l', 'l', 'y', ' ', 'c', 'o', 'o', 'l', ' ', 'p', 'u', 'r', 'p', 'l', 'e', ' ', 'f', 'l', 'o', 'w', 'e', 'r', 's', ' ', 'h', 'e', 'r', 'e', '.', ' ', 'R', 'i', 'g', 'h', 't', '.', '\\n', '\\n', '\\n', 'P', 'h', 'i', 'l', ':', ' ', '[', '0', '0', ':', '2', '9', ':', '5', '4', ']', ' ', 'W', 'h', 'i', 'c', 'h', ' ', 'o', 'n', 'e', ' ', 'i', 's', ' ', 't', 'h', 'i', 's', ' ', 'o', 'n', 'e', '?', '\\n', '\\n', '\\n', 'P', 'h', 'i', 'l', \"'\", 's', ' ', 'C', 'a', 'r', 'e', 't', 'a', 'k', 'e', 'r', ':', ' ', '[', '0', '0', ':', '2', '9', ':', '5', '5', ']', ' ', 'W', 'e', 'l', 'l', ',', ' ', 't', 'h', 'o', 's', 'e', ' ', 'a', 'r', 'e', ' ', 'y', 'e', 'l', 'l', 'o', 'w', '.', ' ', 'S', 'e', 'e', ' ', 't', 'h', 'e', ' ', 'l', 'i', 't', 't', 'l', 'e', ' ', 'a', 's', 't', 'e', 'r', 's', '?', '\\n', '\\n', '\\n', 'P', 'h', 'i', 'l', ':', ' ', '[', '0', '0', ':', '3', '0', ':', '0', '0', ']', ' ', 'T', 'h', 'e', 's', 'e', '.', ' ', ' ', '[', '0', '0', ':', '3', '0', ':', '0', '0', ']', '\\n', '\\n', '\\n', 'P', 'h', 'i', 'l', \"'\", 's', ' ', 'C', 'a', 'r', 'e', 't', 'a', 'k', 'e', 'r', ':', ' ', '[', '0', '0', ':', '3', '0', ':', '0', '0', ']', ' ', 'R', 'i', 'g', 'h', 't', ' ', 'h', 'e', 'r', 'e', '.', ' ', 'T', 'h', 'e', 's', 'e', ' ', 'a', ' ', 'l', 'i', 't', 't', 'l', 'e', ' ', 'a', 's', 't', 'e', 'r', 's', '?', ' ', 'Y', 'e', 'a', 'h', '.', ' ', 'H', 'e', 'r', 'e', ',', ' ', 's', 'm', 'e', 'l', 'l', '.', ' ', 'Y', 'e', 'a', 'h', ',', ' ', 'r', 'i', 'g', 'h', 't', '.', '\\n', '\\n', '\\n', 'P', 'h', 'i', 'l', ':', ' ', '[', '0', '0', ':', '3', '0', ':', '1', '0', ']', ' ', 'T', 'h', 'e', 'r', 'e', ' ', 'y', 'o', 'u', ' ', 'g', 'o', '.', '\\n', '\\n', '\\n', 'L', 'a', 'r', 's', ':', ' ', '[', '0', '0', ':', '3', '0', ':', '1', '2', ']', ' ', 'F', 'i', 'n', 'd', ' ', 'y', 'o', 'u', 'r', ' ', 's', 'p', 'o', 't', ' ', 'a', 'n', 'd', ' ', 'i', 't', ' ', 's', 't', 'a', 'r', 't', 's', ' ', 's', 'e', 't', 't', 'i', 'n', 'g', ' ', 'y', 'o', 'u', 'r', ' ', 't', 'e', 'n', 't', ' ', 'u', 'p', '.', '\\n', '\\n', '\\n', 'D', 'a', 'n', 'a', ':', ' ', '[', '0', '0', ':', '3', '0', ':', '1', '6', ']', ' ', 'A', 'l', 'l', ' ', 'r', 'i', 'g', 'h', 't', ',', ' ', 'l', 'e', 't', \"'\", 's', ' ', 'g', 'o', ' ', 't', 'h', 'i', 's', ' ', 'w', 'a', 'y', '.', '\\n', '\\n', '\\n', 'P', 'h', 'i', 'l', \"'\", 's', ' ', 'C', 'a', 'r', 'e', 't', 'a', 'k', 'e', 'r', ':', ' ', '[', '0', '0', ':', '3', '0', ':', '2', '2', ']', ' ', 'Y', 'e', 'p', '.', ' ', 'O', 'k', 'a', 'y', '.', ' ', 'A', 'l', 'l', ' ', 'r', 'i', 'g', 'h', 't', '.', ' ', 'B', 'e', 'a', 'u', 't', 'i', 'f', 'u', 'l', '.', ' ', 'O', 'k', 'a', 'y', '.', ' ', 'Y', 'o', 'u', ' ', 'c', 'a', 'n', ' ', 'g', 'o', ' ', 'a', 'h', 'e', 'a', 'd', ' ', 'a', 'n', 'd', ' ', 's', 't', 'a', 'n', 'd', ' ', 'u', 'p', ' ', 'a', 'n', 'd', ' ', 'w', 'e', \"'\", 'l', 'l', ' ', 'j', 'u', 's', 't', ' ', 'y', 'o', 'u', ' ', '[', '0', '0', ':', '3', '0', ':', '3', '0', ']', ' ', 'c', 'a', 'n', ' ', 'o', 'p', 'e', 'n', ' ', 'u', 'p', ' ', 'y', 'o', 'u', 'r', ' ', 'b', 'a', 'g', 's', '.', ' ', 'W', 'e', \"'\", 'r', 'e', ' ', 'a', 't', ' ', 't', 'a', 'l', 'k', ' ', 'n', 'o', 'w', '.', ' ', 'S', 'o', ' ', 't', 'h', 'e', ' ', 'k', 'i', 't', 'c', 'h', 'e', 'n', \"'\", 's', ' ', 'g', 'o', 'i', 'n', 'g', ' ', 't', 'o', ' ', 'b', 'e', ' ', 't', 'o', ' ', 't', 'h', 'e', ' ', 'l', 'e', 'f', 't', ' ', 'h', 'e', 'r', 'e', '.', ' ', 'A', ' ', 'l', 'o', 't', ' ', 'o', 'f', ' ', 't', 'h', 'e', '.', '.', '.', '\\ufeff', 'S', 'c', 'e', 'n', 'e', ' ', '6', '\\n', '\\n', '\\n', 'M', 'a', 'y', 'n', 'a', 'r', 'd', ':', ' ', '[', '0', '0', ':', '2', '6', ':', '2', '8', ']', ' ', 'I', ' ', 'n', 'o', 't', 'i', 'c', 'e', 'd', ' ', 'w', 'a', 't', 'e', 'r', ' ', 'r', 'e', 'f', 'l', 'e', 'c', 't', 'i', 'n', 'g', ' ', '[', '0', '0', ':', '2', '6', ':', '3', '0', ']', ' ', 'l', 'i', 'g', 'h', 't', ' ', 'o', 'n', 't', 'o', ' ', 't', 'h', 'e', ' ', 's', 'i', 'd', 'e', ' ', 'o', 'f', ' ', 't', 'h', 'e', ' ', 'c', 'a', 'n', 'y', 'o', 'n', ' ', 'w', 'a', 'l', 'l', '.', '\\n', '\\n', '\\n', 'D', 'e', 'n', 'i', 's', ':', ' ', '[', '0', '0', ':', '2', '6', ':', '3', '4', ']', ' ', 'I', ' ', 'n', 'o', 't', 'i', 'c', 'e', 'd', ' ', 't', 'h', 'e', ' ', 's', 'p', 'a', 'r', 'k', ' ', 'i', 'n', ' ', 'm', 'e', ' ', 'l', 'i', 'g', 'h', 't', ' ', 'u', 'p', ' ', 'a', 'g', 'a', 'i', 'n', ' ', 'w', 'h', 'e', 'n', ' ', 'c', 'o', 'o', 'k', 'i', 'n', 'g', ' ', 'o', 'u', 't', 'd', 'o', 'o', 'r', 's', '.', ' ', 'I', ' ', 'h', 'a', 'd', 'n', \"'\", 't', ' ', 'd', 'o', 'n', 'e', ' ', 'i', 'n', ' ', 'a', ' ', 'l', 'o', 'n', 'g', ' ', 't', 'i', 'm', 'e', '.', '\\n', '\\n', '\\n', 'A', 'l', 'i', 's', 'o', 'n', ':', ' ', '[', '0', '0', ':', '2', '6', ':', '4', '5', ']', ' ', 'I', ' ', 'n', 'o', 't', 'i', 'c', 'e', 'd', ' ', 't', 'h', 'e', ' ', 'q', 'u', 'i', 'e', 't', ',', ' ', 'h', 'o', 'w', ' ', 'q', 'u', 'i', 'e', 't', ' ', 'i', 't', ' ', 'w', 'a', 's', ',', ' ', 'a', 'n', 'd', ' ', 't', 'h', 'a', 't', ' ', 'w', 'a', 's', ' ', 'd', 'i', 'f', 'f', 'e', 'r', 'e', 'n', 't', '.', '\\n', '\\n', '\\n', 'S', 'i', 'o', 'b', 'h', 'a', 'n', ':', ' ', '[', '0', '0', ':', '2', '6', ':', '5', '7', ']', ' ', 'I', ' ', 'n', 'o', 't', 'i', 'c', 'e', 'd', ' ', 'a', ' ', 'l', 'o', 't', ' ', 'o', 'f', ' ', 's', 'e', 'l', 'f', 'l', 'e', 's', 's', 'n', 'e', 's', 's', ' ', 'a', 'm', 'o', 'n', 'g', ' ', '[', '0', '0', ':', '2', '7', ':', '0', '0', ']', ' ', 'e', 'v', 'e', 'r', 'y', 'o', 'n', 'e', ' ', 'h', 'e', 'r', 'e', '.', ' ', 'I', \"'\", 'v', 'e', ' ', 'b', 'e', 'e', 'n', ' ', 'r', 'e', 'a', 'l', 'l', 'y', ' ', 'd', 'i', 's', 'c', 'o', 'u', 'r', 'a', 'g', 'e', 'd', ' ', 'l', 'a', 't', 'e', 'l', 'y', ' ', 'b', 'y', ' ', 's', 'e', 'l', 'f', 'i', 's', 'h', ' ', 'p', 'e', 'o', 'p', 'l', 'e', ' ', 'i', 'n', ' ', 'm', 'y', ' ', 'l', 'i', 'f', 'e', ',', ' ', 's', 'o', ' ', 'i', 't', ' ', 'w', 'a', 's', ' ', 'r', 'e', 'f', 'r', 'e', 's', 'h', 'i', 'n', 'g', ' ', 't', 'o', ' ', 's', 'e', 'e', ' ', 'e', 'v', 'e', 'r', 'y', 'o', 'n', 'e', ' ', 'l', 'e', 'n', 'd', 'i', 'n', 'g', ' ', 'a', ' ', 'h', 'e', 'l', 'p', 'i', 'n', 'g', ' ', 'h', 'a', 'n', 'd', '.', '\\n', '\\n', '\\n', 'L', 'i', 'n', 'd', 's', 'e', 'y', ':', ' ', '[', '0', '0', ':', '2', '7', ':', '1', '0', ']', ' ', 'I', ' ', 'o', 'b', 's', 'e', 'r', 'v', 'e', 'd', ' ', 'a', 'l', 'l', ' ', 't', 'h', 'o', 's', 'e', ' ', 'l', 'i', 't', 't', 'l', 'e', ' ', 'y', 'e', 'l', 'l', 'o', 'w', ' ', 'b', 'u', 't', 't', 'e', 'r', 'f', 'l', 'i', 'e', 's', ' ', 'o', 'n', ' ', 't', 'h', 'e', ' ', 'w', 'a', 'y', ' ', 'h', 'e', 'r', 'e', '.', ' ', 'I', ' ', 'h', 'a', 'v', 'e', ' ', 'a', ' ', 'b', 'u', 't', 't', 'e', 'r', 'f', 'l', 'y', ' ', 't', 'a', 't', 't', 'o', 'o', ' ', 'o', 'n', ' ', 'm', 'y', ' ', 'c', 'h', 'e', 's', 't', ',', ' ', 'a', 'n', 'd', ' ', 't', 'h', 'a', 't', ' ', 'w', 'a', 's', ' ', 'p', 'a', 'r', 't', ' ', 'o', 'f', ' ', 'm', 'y', ' ', 'm', 'a', 's', 't', 'e', 'c', 't', 'o', 'm', 'y', ' ', 't', 'a', 't', 't', 'o', 'o', '.', ' ', 'A', 'n', 'd', ' ', 's', 'o', ' ', 'a', 'f', 't', 'e', 'r', ' ', 'm', 'y', ' ', 'g', 'r', 'a', 'n', 'd', 'f', 'a', 't', 'h', 'e', 'r', ' ', 'd', 'i', 'e', 'd', ' ', 'f', 'o', 'u', 'r', ' ', 'y', 'e', 'a', 'r', 's', ' ', 'a', 'g', 'o', ',', ' ', 'r', 'i', 'g', 'h', 't', ' ', 'b', 'e', 'f', 'o', 'r', 'e', ' ', 'I', ' ', 'w', 'a', 's', ' ', 'd', 'i', 'a', 'g', 'n', 'o', 's', 'e', 'd', ',', ' ', 'm', 'e', ' ', 'a', 'n', 'd', ' ', 'm', 'y', ' ', 'm', 'o', 'm', ' ', 'w', 'o', 'u', 'l', 'd', ' ', 'a', 'l', 'w', 'a', 'y', 's', ' ', 's', 'e', 'e', ' ', 'b', 'u', 't', 't', 'e', 'r', 'f', 'l', 'i', 'e', 's', ' ', 'c', 'o', 'm', 'e', ' ', 'a', 'n', 'd', ' ', 't', 'h', 'e', 'y', ' ', 'w', 'o', 'u', 'l', 'd', ' ', 's', 't', 'a', 'y', ' ', 'l', 'o', 'n', 'g', 'e', 'r', ' ', 't', 'h', 'a', 'n', ' ', 't', 'h', 'e', 'y', ' ', 'p', 'r', 'o', 'b', 'a', 'b', 'l', 'y', ' ', 's', 'h', 'o', 'u', 'l', 'd', ',', ' ', 'a', 'n', 'd', ' ', 't', 'h', 'e', 'y', ' ', 'w', 'o', 'u', 'l', 'd', ' ', 'l', 'a', 'n', 'd', ' ', 'u', 's', 'u', 'a', 'l', 'l', 'y', ' ', '[', '0', '0', ':', '2', '7', ':', '3', '0', ']', ' ', 'o', 'n', ' ', 'o', 'n', 'e', ' ', 'o', 'f', ' ', 'u', 's', '.', ' ', 'A', 'n', 'd', ' ', 's', 'o', ' ', 'w', 'e', ' ', 'a', 'l', 'w', 'a', 'y', 's', ' ', 's', 'a', 'i', 'd', ',', ' ', 't', 'h', 'a', 't', \"'\", 's', ' ', 'p', 'a', 'p', 'a', ' ', 'c', 'o', 'm', 'e', ' ', 't', 'o', ' ', 'v', 'i', 's', 'i', 't', '.', ' ', 'T', 'h', 'a', 't', \"'\", 's', ' ', 'P', 'o', 'p', 'p', 'a', ' ', 'c', 'o', 'm', 'i', 'n', 'g', ' ', 't', 'o', ' ', 'v', 'i', 's', 'i', 't', '.', ' ', 'A', 'n', 'd', ' ', 's', 'o', ' ', 't', 'o', 'd', 'a', 'y', ',', ' ', 's', 'e', 'e', 'i', 'n', 'g', ' ', 'a', 'l', 'l', ' ', 't', 'h', 'o', 's', 'e', ' ', 'b', 'u', 't', 't', 'e', 'r', 'f', 'l', 'i', 'e', 's', ',', ' ', 'i', 't', ' ', 'w', 'a', 's', ' ', 'l', 'i', 'k', 'e', ' ', 'P', 'o', 'p', 's', ' ', 'h', 'e', 'r', 'e', '.', ' ', 'U', 'p', ' ', 'u', 'n', 't', 'i', 'l', ' ', 't', 'o', 'd', 'a', 'y', ',', ' ', 'I', ' ', 'h', 'a', 'd', ' ', 'n', 'o', 't', ' ', 'm', 'e', 't', ' ', 'a', ' ', 'g', 'r', 'o', 'u', 'p', ' ', 'o', 'f', ' ', 'p', 'e', 'o', 'p', 'l', 'e', ' ', 'm', 'y', ' ', 'a', 'g', 'e', ' ', 't', 'h', 'a', 't', ' ', 'h', 'a', 'd', ' ', 'g', 'o', 'n', 'e', ' ', 't', 'h', 'r', 'o', 'u', 'g', 'h', ' ', 'o', 'r', ' ', 'c', 'o', 'u', 'l', 'd', ' ', 'u', 'n', 'd', 'e', 'r', 's', 't', 'a', 'n', 'd', ' ', 'w', 'h', 'a', 't', ' ', 'I', ' ', 'h', 'a', 'd', ' ', 'b', 'e', 'e', 'n', ' ', 't', 'h', 'r', 'o', 'u', 'g', 'h', '.', ' ', 'A', 'n', 'd', ' ', '[', '0', '0', ':', '2', '8', ':', '0', '0', ']', ' ', 's', 'o', ' ', 't', 'h', 'a', 't', \"'\", 's', ' ', 'o', 'n', 'e', ' ', 'o', 'f', ' ', 't', 'h', 'e', ' ', 'b', 'i', 'g', 'g', 'e', 's', 't', ' ', 'r', 'e', 'a', 's', 'o', 'n', 's', ' ', 'w', 'h', 'y', ' ', 'I', \"'\", 'm', ' ', 'h', 'e', 'r', 'e', ',', ' ', 't', 'o', ' ', 'm', 'e', 'e', 't', ' ', 'p', 'e', 'o', 'p', 'l', 'e', ' ', 'l', 'i', 'k', 'e', ' ', 'y', 'o', 'u', ',', ' ', 't', 'h', 'a', 't', ' ', 'y', 'o', 'u', ' ', 'y', \"'\", 'a', 'l', 'l', ' ', 'c', 'a', 'n', ' ', 'c', 'o', 'm', 'p', 'l', 'e', 't', 'e', 'l', 'y', ' ', 'u', 'n', 'd', 'e', 'r', 's', 't', 'a', 'n', 'd', ' ', 'w', 'h', 'a', 't', ' ', 'w', 'e', \"'\", 'r', 'e', ' ', 'a', 'l', 'l', '.']\n"
     ]
    }
   ],
   "source": [
    "#should be \"scenes\"\n",
    "docs = chosen_docs\n",
    "'''\n",
    "capturing all the different words present in 'docs'\n",
    "'''\n",
    "all_word_corpus = []\n",
    "for doc in docs:\n",
    "    all_word_corpus += doc\n",
    "print(all_word_corpus)"
   ]
  },
  {
   "cell_type": "code",
   "execution_count": 59,
   "id": "54441d49",
   "metadata": {},
   "outputs": [],
   "source": [
    "'''STEP 4: Creating Corpus Before LDA\n",
    "Some of the initialisations necessary for LDA are:\n",
    "\n",
    "id2word is a mapping from word ids (integers) to words (strings). It is used to determine the vocabulary size, as well as for debugging and topic printing.\n",
    "word2id is a mapping from words (strings) to word ids (integers). It is used to determine the vocabulary size, as well as for debugging and topic printing.\n",
    "vocab is a list of words (strings). It is used to determine the various words used in the text, as well as for debugging and topic printing.\n",
    "'''\n",
    "word2id = {}\n",
    "id2word = {}\n",
    "vocab = []\n",
    "currentWordId = 0\n"
   ]
  },
  {
   "cell_type": "code",
   "execution_count": 84,
   "id": "0f1eb316",
   "metadata": {},
   "outputs": [],
   "source": [
    "from collections import Counter\n",
    "\n",
    "for word, count in Counter(all_word_corpus).most_common():\n",
    "    word2id[word] = currentWordId\n",
    "    id2word[currentWordId] = word\n",
    "    currentWordId += 1\n",
    "    vocab.append(word)"
   ]
  },
  {
   "cell_type": "code",
   "execution_count": 85,
   "id": "f8c8eb28",
   "metadata": {},
   "outputs": [
    {
     "data": {
      "text/plain": [
       "(10, 69, 69)"
      ]
     },
     "execution_count": 85,
     "metadata": {},
     "output_type": "execute_result"
    }
   ],
   "source": [
    "len(docs), len(word2id), len(id2word)"
   ]
  },
  {
   "cell_type": "code",
   "execution_count": 62,
   "id": "36578a86",
   "metadata": {},
   "outputs": [],
   "source": [
    "final_docs = []\n",
    "\n",
    "for doc in docs:\n",
    "    currentDoc = []\n",
    "    for word in doc: \n",
    "        if word in word2id:\n",
    "            currentDoc.append(word2id[word])\n",
    "    final_docs.append(currentDoc)"
   ]
  },
  {
   "cell_type": "code",
   "execution_count": 70,
   "id": "3dfe4bca",
   "metadata": {},
   "outputs": [
    {
     "name": "stdout",
     "output_type": "stream",
     "text": [
      "[]\n",
      "[]\n"
     ]
    }
   ],
   "source": [
    "docs = final_docs\n",
    "print(docs)"
   ]
  },
  {
   "cell_type": "code",
   "execution_count": 65,
   "id": "4c8fd7c7",
   "metadata": {},
   "outputs": [
    {
     "data": {
      "text/plain": [
       "(0, 0)"
      ]
     },
     "execution_count": 65,
     "metadata": {},
     "output_type": "execute_result"
    }
   ],
   "source": [
    "'''Step 5: Running LDA using Bag of Words\n",
    "We are going for 10 topics in the document corpus.\n",
    "\n",
    "Only parameters we will be tweaking are:\n",
    "\n",
    "num_topics is the number of requested latent topics to be extracted from the training corpus.\n",
    "'''\n",
    "X = np.zeros((len(docs), len(word2id)),dtype=int)\n",
    "X.shape"
   ]
  },
  {
   "cell_type": "code",
   "execution_count": null,
   "id": "2c7d9e62",
   "metadata": {},
   "outputs": [],
   "source": []
  }
 ],
 "metadata": {
  "kernelspec": {
   "display_name": "Python 3 (ipykernel)",
   "language": "python",
   "name": "python3"
  },
  "language_info": {
   "codemirror_mode": {
    "name": "ipython",
    "version": 3
   },
   "file_extension": ".py",
   "mimetype": "text/x-python",
   "name": "python",
   "nbconvert_exporter": "python",
   "pygments_lexer": "ipython3",
   "version": "3.9.12"
  }
 },
 "nbformat": 4,
 "nbformat_minor": 5
}
