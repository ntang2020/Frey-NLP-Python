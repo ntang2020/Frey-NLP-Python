{
 "cells": [
  {
   "cell_type": "code",
   "execution_count": 102,
   "id": "46cb9e83",
   "metadata": {},
   "outputs": [],
   "source": [
    "import pandas as pd\n",
    "import numpy as np\n",
    "import lda\n",
    "import sklearn\n",
    "import gensim\n",
    "import nltk\n",
    "#import guidedlda"
   ]
  },
  {
   "cell_type": "code",
   "execution_count": 103,
   "id": "c53515f6",
   "metadata": {},
   "outputs": [
    {
     "data": {
      "text/html": [
       "<div>\n",
       "<style scoped>\n",
       "    .dataframe tbody tr th:only-of-type {\n",
       "        vertical-align: middle;\n",
       "    }\n",
       "\n",
       "    .dataframe tbody tr th {\n",
       "        vertical-align: top;\n",
       "    }\n",
       "\n",
       "    .dataframe thead th {\n",
       "        text-align: right;\n",
       "    }\n",
       "</style>\n",
       "<table border=\"1\" class=\"dataframe\">\n",
       "  <thead>\n",
       "    <tr style=\"text-align: right;\">\n",
       "      <th></th>\n",
       "      <th>CANCER</th>\n",
       "      <th>FAITH</th>\n",
       "      <th>NATURE</th>\n",
       "      <th>MINDFULNESS</th>\n",
       "    </tr>\n",
       "  </thead>\n",
       "  <tbody>\n",
       "    <tr>\n",
       "      <th>0</th>\n",
       "      <td>Surgery</td>\n",
       "      <td>Hardship</td>\n",
       "      <td>Thunder</td>\n",
       "      <td>Connect</td>\n",
       "    </tr>\n",
       "    <tr>\n",
       "      <th>1</th>\n",
       "      <td>Nine-hour surgery</td>\n",
       "      <td>Want</td>\n",
       "      <td>Night</td>\n",
       "      <td>Conversations</td>\n",
       "    </tr>\n",
       "    <tr>\n",
       "      <th>2</th>\n",
       "      <td>Cut</td>\n",
       "      <td>Future</td>\n",
       "      <td>Bull</td>\n",
       "      <td>NaN</td>\n",
       "    </tr>\n",
       "    <tr>\n",
       "      <th>3</th>\n",
       "      <td>Radiation</td>\n",
       "      <td>Begging</td>\n",
       "      <td>Ground</td>\n",
       "      <td>Realize</td>\n",
       "    </tr>\n",
       "    <tr>\n",
       "      <th>4</th>\n",
       "      <td>Organ</td>\n",
       "      <td>Stay strong</td>\n",
       "      <td>Storm</td>\n",
       "      <td>Think</td>\n",
       "    </tr>\n",
       "  </tbody>\n",
       "</table>\n",
       "</div>"
      ],
      "text/plain": [
       "              CANCER        FAITH   NATURE    MINDFULNESS\n",
       "0            Surgery     Hardship  Thunder        Connect\n",
       "1  Nine-hour surgery         Want    Night  Conversations\n",
       "2                Cut       Future     Bull            NaN\n",
       "3          Radiation      Begging   Ground        Realize\n",
       "4              Organ  Stay strong    Storm          Think"
      ]
     },
     "execution_count": 103,
     "metadata": {},
     "output_type": "execute_result"
    }
   ],
   "source": [
    "'''Step 1: Load the dataset'''\n",
    "#load the dictionary \n",
    "dictionary = pd.read_csv('/Users/nicoletang/Downloads/NLP New Dictionaries.csv')\n",
    "dictionary.head()"
   ]
  },
  {
   "cell_type": "code",
   "execution_count": 104,
   "id": "4dd28f2e",
   "metadata": {},
   "outputs": [],
   "source": [
    "#load the dataset\n",
    "#scene1 = pd.read_csv('/Users/nicoletang/Desktop/Scene_transcripts_txt/transcript_scene1.txt', delimiter = '\\t')\n",
    "#scene1 = open('/Users/nicoletang/Downloads/transcript_scene1.txt','r+')\n",
    "#print(scene1)\n",
    "\n"
   ]
  },
  {
   "cell_type": "code",
   "execution_count": 105,
   "id": "72b20eb0",
   "metadata": {},
   "outputs": [
    {
     "name": "stdout",
     "output_type": "stream",
     "text": [
      "﻿Scene 1\n",
      "\n",
      "\n",
      "Elizabeth: [00:00:12] I ended up having a nine hour surgery just two months before my wedding, where they cut completely across the front of my neck.\n",
      "\n",
      "\n",
      "Guide 1: [00:01:00] We [00:01:00] hear the thunder. It's awesome that kind of drifting away. But we know it's coming. It's right on top of us. It could come up tonight or tomorrow night or the next night. We're not really anticipating the bullet hitting you, but when the bull hits the ground, the electricity can spread through.\n",
      "\n",
      "\n",
      "Guide 1: [00:01:18] If we're too close to each other, it can connect to all the people in between. It's good to have these conversations now before the storm actually is on top of us.\n",
      "\n",
      "\n",
      "Elizabeth: [00:01:32] There [00:01:30] will be hardships in my life. That's just that's how it goes. Before we got married, we both knew we wanted to have kids. With all of the internal radiation that I had. It messed up almost every organ in my body.\n",
      "\n",
      "\n",
      "Justin: [00:01:58] When we realized that we were not going to have [00:02:00] kids. It wasn't just having the kids taken away. It was having that future, having that it really was having the future taken away from me.\n",
      "\n",
      "\n",
      "Elizabeth: [00:02:11] And I think for me, it kind of came down to having to redefine family. I think we're kind of getting to the place where we're okay with that. It doesn't mean it's easy.\n",
      "\n",
      "\n",
      "Reporter 1: [00:02:40] The [00:02:30] country's fourth largest city is already facing what could be one of the worst flooding disasters in American history.\n",
      "\n",
      "\n",
      "Reporter 2: [00:02:47] Officials begging residents to stay strong.\n",
      "\n",
      "\n",
      "Reporter 3: [00:02:50] Here's the update from the National Weather Service. They said that this is beyond anything it has ever experienced.\n",
      "\n",
      "\n",
      "Elizabeth: [00:02:56] They're saying our house will be flooded for one week to four weeks. [00:03:00]\n",
      "\n",
      "\n",
      "Justin: [00:03:00] We went from not wanting to be trapped there to, holy crap, that's a picture with my refrigerator floating inside my kitchen. There is still four feet of water inside our house.\n",
      "\n",
      "\n",
      "Elizabeth: [00:03:11] We're hearing from authorities that it may have seven feet of water, but no one has really been able to get there to check. This is eight days post Hurricane Harvey. We were finally allowed into our house. But you can see [00:03:30] the damage. Since the walk through my living room.\n",
      "\n",
      "\n",
      "Elizabeth: [00:03:41] Oh. The quilts my grandmother made for us for our wedding have grown about two inches of mold on them. This is our brand new TV that I bought Justin for his birthday. With my bonus, there is Buddy's bed [00:04:00] is our dining room. Obviously anyone in here has to wear his mask, but especially me, since I still have cancer in my lungs right now. Just look at that. It's pretty tough to go through this, but I. You can see we have my favorite sign here. And Lord will fight for you. You need only be still.\n",
      "\n",
      "\n",
      "Justin: [00:04:30] We [00:04:30] both wanted to know why, why? Why did it happen the first time? Why did it recur? And a big part of it is always just why us? Just saying the same guy that I'm coming to and asking him to heal her. Is the God that allowed it to happen in the first place.\n"
     ]
    }
   ],
   "source": [
    "\n",
    "import os\n",
    "scenes = []\n",
    "\n",
    "# Folder Path\n",
    "path = \"/Users/nicoletang/Desktop/Scene_transcripts_txt\"\n",
    "  \n",
    "# Change the directory\n",
    "os.chdir(path)\n",
    "  \n",
    "# Read text File\n",
    "  \n",
    "def read_text_file(file_path):\n",
    "    with open(file_path, 'r') as f:\n",
    "        return(f.read())\n",
    "\n",
    "# iterate through all file\n",
    "for file in os.listdir():\n",
    "    # Check whether file is in text format or not\n",
    "    if file.endswith(\".txt\"):\n",
    "        file_path = f\"{path}/{file}\"\n",
    "  \n",
    "        # call read text file function\n",
    "        #read_text_file(file_path)\n",
    "        scenes.append(read_text_file(file_path))\n",
    "        \n",
    "#print(scenes[0])\n",
    "\n",
    "scene1 = scenes[13]\n",
    "print(scene1)\n"
   ]
  },
  {
   "cell_type": "code",
   "execution_count": 106,
   "id": "9b92af6e",
   "metadata": {},
   "outputs": [
    {
     "name": "stderr",
     "output_type": "stream",
     "text": [
      "[nltk_data] Downloading package wordnet to\n",
      "[nltk_data]     /Users/nicoletang/nltk_data...\n",
      "[nltk_data]   Package wordnet is already up-to-date!\n",
      "[nltk_data] Downloading package omw-1.4 to\n",
      "[nltk_data]     /Users/nicoletang/nltk_data...\n",
      "[nltk_data]   Package omw-1.4 is already up-to-date!\n"
     ]
    },
    {
     "data": {
      "text/plain": [
       "True"
      ]
     },
     "execution_count": 106,
     "metadata": {},
     "output_type": "execute_result"
    }
   ],
   "source": [
    "'''\n",
    "Step 2: Simple Preprocessing\n",
    "We will perform the following steps:\n",
    "\n",
    "Tokenization: Split the text into sentences and the sentences into words. Lowercase the words and remove punctuation.\n",
    "Words that have fewer than 3 characters are removed.\n",
    "All stopwords are removed.\n",
    "Words are lemmatized - words in third person are changed to first person and verbs in past and future tenses are changed into present.\n",
    "Words are stemmed - words are reduced to their root form.\n",
    "'''\n",
    "#Load Gensim and nltk libraries \n",
    "from gensim.utils import simple_preprocess\n",
    "from gensim.parsing.preprocessing import STOPWORDS\n",
    "from nltk.stem import WordNetLemmatizer, SnowballStemmer\n",
    "from nltk.stem.porter import *\n",
    "np.random.seed(400)\n",
    "nltk.download('wordnet')\n",
    "nltk.download('omw-1.4')"
   ]
  },
  {
   "cell_type": "code",
   "execution_count": 107,
   "id": "4b5032a2",
   "metadata": {},
   "outputs": [],
   "source": [
    "stemmer = SnowballStemmer(\"english\")\n",
    "'''\n",
    "Write a function to perform the pre processing steps on the entire dataset\n",
    "'''\n",
    "def stemming_and_lemmatizing(text):\n",
    "    return stemmer.stem(WordNetLemmatizer().lemmatize(text, pos='v'))\n",
    "\n",
    "# Tokenize and lemmatize\n",
    "def preprocessing(text):\n",
    "    result=[]\n",
    "    for token in gensim.utils.simple_preprocess(text) :\n",
    "        if token not in gensim.parsing.preprocessing.STOPWORDS and len(token) > 3:\n",
    "            result.append(stemming_and_lemmatizing(token))\n",
    "            \n",
    "    return result"
   ]
  },
  {
   "cell_type": "code",
   "execution_count": 153,
   "id": "362ac719",
   "metadata": {},
   "outputs": [
    {
     "name": "stdout",
     "output_type": "stream",
     "text": [
      "Original document: \n"
     ]
    }
   ],
   "source": [
    "'''\n",
    "Preview a document after preprocessing\n",
    "'''\n",
    "#document_num = 50\n",
    "#doc_sample = 'This disk has failed many times. I would like to get it replaced.'\n",
    "\n",
    "print(\"Original document: \")\n",
    "#words = []\n",
    "#for word in doc_sample.split(' '):\n",
    "    #words.append(word)\n",
    "#print(words)\n",
    "#print(\"\\n\\nTokenized and lemmatized document: \")\n",
    "#print(preprocessing(doc_sample))"
   ]
  },
  {
   "cell_type": "code",
   "execution_count": 154,
   "id": "24f917ac",
   "metadata": {},
   "outputs": [
    {
     "name": "stdout",
     "output_type": "stream",
     "text": [
      "Original document: \n",
      "﻿Scene 1\n",
      "\n",
      "\n",
      "Elizabeth: [00:00:12] I ended up having a nine hour surgery just two months before my wedding, where they cut completely across the front of my neck.\n",
      "\n",
      "\n",
      "Guide 1: [00:01:00] We [00:01:00] hear the thunder. It's awesome that kind of drifting away. But we know it's coming. It's right on top of us. It could come up tonight or tomorrow night or the next night. We're not really anticipating the bullet hitting you, but when the bull hits the ground, the electricity can spread through.\n",
      "\n",
      "\n",
      "Guide 1: [00:01:18] If we're too close to each other, it can connect to all the people in between. It's good to have these conversations now before the storm actually is on top of us.\n",
      "\n",
      "\n",
      "Elizabeth: [00:01:32] There [00:01:30] will be hardships in my life. That's just that's how it goes. Before we got married, we both knew we wanted to have kids. With all of the internal radiation that I had. It messed up almost every organ in my body.\n",
      "\n",
      "\n",
      "Justin: [00:01:58] When we realized that we were not going to have [00:02:00] kids. It wasn't just having the kids taken away. It was having that future, having that it really was having the future taken away from me.\n",
      "\n",
      "\n",
      "Elizabeth: [00:02:11] And I think for me, it kind of came down to having to redefine family. I think we're kind of getting to the place where we're okay with that. It doesn't mean it's easy.\n",
      "\n",
      "\n",
      "Reporter 1: [00:02:40] The [00:02:30] country's fourth largest city is already facing what could be one of the worst flooding disasters in American history.\n",
      "\n",
      "\n",
      "Reporter 2: [00:02:47] Officials begging residents to stay strong.\n",
      "\n",
      "\n",
      "Reporter 3: [00:02:50] Here's the update from the National Weather Service. They said that this is beyond anything it has ever experienced.\n",
      "\n",
      "\n",
      "Elizabeth: [00:02:56] They're saying our house will be flooded for one week to four weeks. [00:03:00]\n",
      "\n",
      "\n",
      "Justin: [00:03:00] We went from not wanting to be trapped there to, holy crap, that's a picture with my refrigerator floating inside my kitchen. There is still four feet of water inside our house.\n",
      "\n",
      "\n",
      "Elizabeth: [00:03:11] We're hearing from authorities that it may have seven feet of water, but no one has really been able to get there to check. This is eight days post Hurricane Harvey. We were finally allowed into our house. But you can see [00:03:30] the damage. Since the walk through my living room.\n",
      "\n",
      "\n",
      "Elizabeth: [00:03:41] Oh. The quilts my grandmother made for us for our wedding have grown about two inches of mold on them. This is our brand new TV that I bought Justin for his birthday. With my bonus, there is Buddy's bed [00:04:00] is our dining room. Obviously anyone in here has to wear his mask, but especially me, since I still have cancer in my lungs right now. Just look at that. It's pretty tough to go through this, but I. You can see we have my favorite sign here. And Lord will fight for you. You need only be still.\n",
      "\n",
      "\n",
      "Justin: [00:04:30] We [00:04:30] both wanted to know why, why? Why did it happen the first time? Why did it recur? And a big part of it is always just why us? Just saying the same guy that I'm coming to and asking him to heal her. Is the God that allowed it to happen in the first place.\n",
      "\n",
      "\n",
      "Tokenized and lemmatized document: \n",
      "['scene', 'elizabeth', 'end', 'have', 'hour', 'surgeri', 'month', 'wed', 'complet', 'neck', 'guid', 'hear', 'thunder', 'awesom', 'kind', 'drift', 'away', 'know', 'come', 'right', 'come', 'tonight', 'tomorrow', 'night', 'night', 'anticip', 'bullet', 'hit', 'bull', 'hit', 'grind', 'electr', 'spread', 'guid', 'close', 'connect', 'peopl', 'good', 'convers', 'storm', 'actual', 'elizabeth', 'hardship', 'life', 'go', 'marri', 'know', 'want', 'kid', 'intern', 'radiat', 'mess', 'organ', 'bodi', 'justin', 'realiz', 'go', 'kid', 'wasn', 'have', 'kid', 'take', 'away', 'have', 'futur', 'have', 'have', 'futur', 'take', 'away', 'elizabeth', 'think', 'kind', 'come', 'have', 'redefin', 'famili', 'think', 'kind', 'get', 'place', 'okay', 'mean', 'easi', 'report', 'countri', 'fourth', 'largest', 'citi', 'face', 'worst', 'flood', 'disast', 'american', 'histori', 'report', 'offici', 'beg', 'resid', 'stay', 'strong', 'report', 'updat', 'nation', 'weather', 'servic', 'say', 'experi', 'elizabeth', 'say', 'hous', 'flood', 'week', 'week', 'justin', 'go', 'want', 'trap', 'holi', 'crap', 'pictur', 'refriger', 'float', 'insid', 'kitchen', 'feet', 'water', 'insid', 'hous', 'elizabeth', 'hear', 'author', 'seven', 'feet', 'water', 'abl', 'check', 'day', 'post', 'hurrican', 'harvey', 'final', 'allow', 'hous', 'damag', 'walk', 'live', 'room', 'elizabeth', 'quilt', 'grandmoth', 'wed', 'grow', 'inch', 'mold', 'brand', 'buy', 'justin', 'birthday', 'bonus', 'buddi', 'din', 'room', 'obvious', 'wear', 'mask', 'especi', 'cancer', 'lung', 'right', 'look', 'pretti', 'tough', 'favorit', 'sign', 'lord', 'fight', 'need', 'justin', 'want', 'know', 'happen', 'time', 'recur', 'say', 'come', 'ask', 'heal', 'allow', 'happen', 'place']\n"
     ]
    }
   ],
   "source": [
    "print(\"Original document: \")\n",
    "#words = []\n",
    "#for word in scene1.split(' '):\n",
    "   # words.append(word)\n",
    "#print(words)\n",
    "scene1_str = str(scene1)\n",
    "print(scene1)\n",
    "print(\"\\n\\nTokenized and lemmatized document: \")\n",
    "print(preprocessing(scene1_str))"
   ]
  },
  {
   "cell_type": "code",
   "execution_count": 175,
   "id": "e2dec384",
   "metadata": {},
   "outputs": [
    {
     "name": "stdout",
     "output_type": "stream",
     "text": [
      "[\"\\ufeffScene 14\\n\\n\\nLars: [00:47:43] You [00:47:30] want to park your boat below my boat? A little more muddy up here.\\n\\n\\nLindsey: [00:47:48] Sorry, guys.\\n\\n\\nLars: [00:47:49] Good job. Fantastic spot right here. [00:48:00] Two spots right here. Let's go. First row, shall we? Yeah.\\n\\n\\nDenis: [00:48:07] I can't wait to see the bathroom.\\n\\n\\nLars: [00:48:10] We have a bucket system. Right? And this is our beautiful backcountry loop, right?\\n\\n\\nLars: [00:48:17] Yeah.\\n\\n\\nLars: [00:48:18] People are just looking at me and they're like. Monday, Tuesday, Wednesday. I'll hold it. I'll try not to hold it. You know, to ease the flow [00:48:30] of the backcountry movement, we come up with the five star system. We'll start with the one star. It is pissing rain outside. It's 2:00 in the morning and your stomach goes. Oh. Fuck. Can't find the toilet paper. You can't find a bathroom. It's the worst explosion in the world. That's a one star. Five star, the five stars. You're being proactive. You get your coffee, you just pop down [00:49:00] here and you're just having a magical moment with your morning cup of Joe. My system is good about a little tip of the hat. Cheers to them as they fight on by. This is the best moment of your life and you're going to come back and tell everybody about it and post it on Facebook. Toilet paper. There was a logistical snafu. We have one roll. Oh, yeah. This little bummer. Don't know how else to put it. Eek.\\n\\n\\nMatt: [00:49:30] For the whole [00:49:30] trip?\\n\\n\\nLars: [00:49:31] Yeah.\\n\\n\\nLars: [00:49:32] 18 bowel movements a day. We need to preserve this. Okay, so everyone gets one square, you fold it twice, okay? And this little corner right here, you just go ahead and rip off. This is really important. You don't want to lose this. You got to remember where it is. Then you proceed to open it up. Now you stick your finger in there and then you go to town [00:50:00] with this one, ply with the finger. But this is nice method because when everything is all done, you just go ahead and just. Just wipe your finger off. Okay? But what about that corner I told you about? Didn't want to lose it. You take that corner and you get underneath the fingernails. Fine tune. Whatever I'm ordering inside, it's not a roll of toilet paper, okay? You don't have to do the one ply [00:50:30] method, okay? But that's not gave you the green light to do the full floss and do all that stuff. There's a bunch okay? Daw stop.\\n\\n\\nDana: [00:50:41] How many stars?\", \"\\ufeffScene 13\\n\\n\\nElizabeth: [00:44:53] We are kind of settled on the fact that we are very limited in options [00:45:00] to do straight adoption. Even if the adoption agency was willing to work with us, we would still have to be chosen by birth parents and the likelihood of that was not very high. So we started leaning a little bit more towards foster care. We just met with the second foster agency tonight and for the most part, we got the go ahead. They said that as long as my doctor signs off and says that [00:45:30] I am physically and mentally fit to be a parent, that they have no objections to my current health status.\\n\\n\\nJustin: [00:45:38] I think one thing that's kind of unique for young adult cancer patients is we understand what it's like to be broken into being in a family, a group of whatever you want to call it, that where life just hasn't gone. Right.\\n\\n\\nElizabeth: [00:45:53] We graduated from Baylor ten years ago when we planned to have three or four kids by now. And [00:46:00] obviously that wasn't God's will and it hasn't happened. But we are given this potentially given this amazing opportunity to help kids that need help and love on kids that need love and. We probably never would have even considered this had we been able to have biological kids. So.\\n\\n\\nJustin: [00:46:26] We know what it's like to be there. And I [00:46:30] think that if I can be a part in getting a kid out of that situation, that's a good thing.\\n\\n\\nElizabeth: [00:46:38] That's pretty neat. Very exciting. And we'll just keep praying and keep hoping.\", \"\\ufeffScene 12\\n\\n\\nRyan: [00:44:04] feet [00:44:00] didn't get cold.\\n\\n\\nLindsey: [00:44:06] Feet got hot.\\n\\n\\nRyan: [00:44:07] My feet got hot. My feet are tingling.\\n\\n\\nLindsey: [00:44:10] Guess what?\\n\\n\\nRyan: [00:44:13] Guess what?\\n\\n\\nLindsey: [00:44:14] What?\\n\\n\\nRyan: [00:44:15] You're my wife. You're so beautiful.\\n\\n\\nLindsey: [00:44:21] That one didn't even make it in the water.\\n\\n\\nRyan: [00:44:38] We're married. [00:44:30]\", \"\\ufeffScene 10\\n\\n\\nLindsey: [00:36:15] Oh, yeah.\\n\\n\\nLindsey: [00:36:15] Is. I went on a trip in September. So this is a section of the river we did.\\n\\n\\nLars: [00:36:25] When we had up there. It is a goat path and we're going to end [00:36:30] up right on top. I see the fear in your eyes.\\n\\n\\nLars: [00:36:34] I see the fear in your eyes. You got this.\\n\\n\\nDavid: [00:36:37] You can grab on the right. Good. Good. Good. Perfect. Perfect. You can put the other foot right up on top. I got you. I got you. What's that right there? That's okay. It's.\\n\\n\\nLindsey: [00:37:02] Holy [00:37:00] shit, guys.\\n\\n\\nRoy: [00:37:06] Nice work, buddy.\\n\\n\\nLindsey: [00:37:09] This spot right here, that's not Ben. So we hiked up there one morning. There are so many days right now that I wish I was up there on top of that [00:37:30] mountain.\\n\\n\\nRoy: [00:38:17] I [00:38:00] had a moment of feeling like I was welcoming myself from a coma, saying to myself, Welcome back.\\n\\n\\nDenis: [00:38:27] I found myself emotional at times, just [00:38:30] inspired.\\n\\n\\nDenis: [00:38:33] Is there some way I'm thinking about Phil and is there some way that we can bring a bit of this to him?\\n\\n\\nPhil: [00:38:43] When you guys were coming down. I was pointing my my white cane at you guys. It's like it's as if my king had, like, a circle at the end of it, around all you guys. So we were all connected.\\n\\n\\nGuide 4: [00:38:59] The time will come [00:39:00] when, with elation, you will create yourself arriving at your own door, in your own mirror, and say, Sit here, eat. You will love again. The stranger who was yourself. Give wine, give bread. Give back your heart to itself. To the stranger who has loved you all your life, whom you're ignored for another who knows you by heart. Take down the love letters from the bookshelf, the photographs, the desperate [00:39:30] notes Peel your own image from the mirror. Sit. Feast on your life.\\n\\n\\nLindsey's Dad: [00:39:39] The time will come when you were greet yourself, arriving at your own door, in your own mirror, and each will smile at the other's welcome. You will love again the stranger who was yourself. Give back your heart to itself. To the stranger who knows you by heart.\\n\\n\\nLindsey: [00:40:02] I [00:40:00] can't even put into words.\\n\\n\\nRoy: [00:40:06] You don't have to.\\n\\n\\nLindsey: [00:40:21] I think the best word to describe it is feeling free. It's like one of the first times I can forget about the word cancer and [00:40:30] just be here.\\n\\n\\nDavid: [00:40:34] Yeah.\", \"\\ufeffScene 11\\n\\n\\nLars: [00:41:00] You [00:41:00] guys are turning into a well-oiled machine. Moving on down the river. We're going to take that machine and paddle on out of here tomorrow. As sad as it is, it is true. Unfortunately. We're going to wake up before the sun comes up and paddle out to the takeout. It's about eight miles from where we are right now.\\n\\n\\nDavid: [00:41:23] As we enter tomorrow. Our plan is to wake up in silence.  [00:41:30]Awake in silence, and pack our boats in silence, and hopefully be greeted by a beautiful sunrise while we're out on the river.\", \"\\ufeffScene 8\\n\\n\\nLindsey: [00:31:10] I [00:31:00] just see it. It makes you feel so big, yet so small.\\n\\n\\nRoy: [00:31:22] I know, right. And to be able to come out here and reset yourself and find who you are because [00:31:30] you're not the same as you were before, you know, you're a whole new.\\n\\n\\nLindsey: [00:31:32] You are. It completely changes you and every every molecule and atom of your body, it completely changes you.\\n\\n\\nRoy: [00:31:40] Yeah.\\n\\n\\nLindsey: [00:31:41] I've never felt more connected with a group of strangers that can be openly talking about my poop, about, about my scars, about. And honestly, like, I had never I hadn't talked to people about the guy who broke my heart when [00:32:00] he found out I had my mastectomy. Like I had never been able to talk to people about that. People would ask me about it and I would make something up.\\n\\n\\nRoy: [00:32:07] Just it breaks my heart that someone could be so shallow and desperate and vulnerable.\\n\\n\\nLindsey: [00:32:15] Exactly like.\\n\\n\\nRoy: [00:32:17] I couldn't without this group, I don't think I would have gotten my life back.\\n\\n\\nLindsey: [00:32:22] You know, before this trip, I have gotten to a point where I was almost feeling, like lost again and to be honest, I don't think I had [00:32:30] really found myself after my diagnosis. And I'm coming up on four years this month. Well, it's coming on October. October.\\n\\n\\nRoy: [00:32:39] Five years.\\n\\n\\nLindsey: [00:32:43] I see food.\", \"\\ufeffScene 9\\n\\n\\nLindsey: [00:32:51] Probably. Just trying to build a fire to how we get done getting our food.\\n\\n\\nDana: [00:32:57] I [00:33:00] feel like you should give a class on what that's like to learn.\\n\\n\\nPhil: [00:33:06] Everything's pretty much like sleeping.\\n\\n\\nGuide 1: [00:33:10] You go.\\n\\n\\nMatt: [00:33:10] First. Go ahead.\\n\\n\\nGuide 1: [00:33:12] I'll go first.\\n\\n\\nDenis: [00:33:13] No, no, I'll go first. Well.\\n\\n\\nDana: [00:33:16] One of my highlights was the silent float. It's something that I didn't really realize how much I needed that until we were in it, because I kind of expected a lot more of that coming [00:33:30] out here, being with nature. And I've been spending so much amazing time connecting with everyone, which has been really, really wonderful, but having that silent time just was. Really good for me. So.\\n\\n\\nMatt: [00:33:50] That's quite impressive.\\n\\n\\nLars: [00:33:52] Three, two, one, down.\\n\\n\\nRoy: [00:33:53] Yeah, that's the best rock we've seen tonight. Spartan training starts [00:34:00] today. Right on top. Right in there, big boy. Well done, sir. You're coming to work today. No problem. Pass me another rock over there. Are you good?\\n\\n\\nRoy: [00:34:17] Ready to let go of the fear of. Leaving [00:34:30] my wife and my kids without a father or a husband.\\n\\n\\nLindsey: [00:34:41] I'm ready to let go of. Go of the anger that I showed towards the people that didn't want to stay to see me live. My [00:35:00] mom's bathroom. She has a huge bathtub, and it's it's surrounded by mirrors. And I just remember sitting in there, and I was surrounded by mirrors so you could see I. I would sit in that bathtub and I would be surrounded by the mirror. So I had to [00:35:30] face myself. I had to face the way that my body changed. I hated I hated looking at myself in the mirror. I hated it. And so I never did. And then she started putting me in that tub and I was surrounded by the mirror. So I'd have to face the way I looked, because I would have to I would have to face the scars. I would have to face the changes. Now, I love my scars. I didn't at first, but now I love my scars. It's just another way to show that I survived. [00:36:00] I used to hold a lot of anger, a lot of anger towards the whole situation. The one thing I can't stand is when somebody tells me I'm too young to have gone through what I've gone through.\", \"\\ufeffScene 4\\n\\n\\nLars: [00:15:35] 35. [00:15:30]\\n\\n\\nLars: [00:15:56] You know, your bags and everything. Yeah. Yeah. [00:16:00] One, two, three, four. If we have one more person you guys not connected to.\\n\\n\\nDana: [00:16:06] It was first diagnosed in 2011 and then relapsed in 2012. Why me? Why at 28? Was there anything that I did to contribute to it? Was there anything I could have done differently? Has been. Brad was also diagnosed this past October, his stage four kidney cancer. And after 100 days [00:16:30] of fighting, he passed away in January.\\n\\n\\nLars: [00:16:37] So people are coming in at times right now, but I'm doing vehicle shuttle back and forth, back and forth. So how was the flight? Hopefully eventful. Yeah, fantastic. Oh, there he is. Bill.\\n\\n\\nPhil: [00:16:51] I got a question.\\n\\n\\nLars: [00:16:52] I got answer.\\n\\n\\nPhil: [00:16:53] Where am I now? I began my journey at the age of four years old with [00:17:00] massive dosages of radiation, chemotherapy and surgery to my brain. Six months later, I was predicted to be dead. But as you can see, I'm still here.\\n\\n\\nLars: [00:17:17] Wherever you find space.\\n\\n\\nMatt: [00:17:21] Their cancer had metastasized to two small spots in my lung, and that meant that I was no longer considered curable.\\n\\n\\nDenis: [00:17:40] Hello. [00:17:30] How's it going? Good man. Hello. Hello.\\n\\n\\nLars: [00:17:47] Pleasure.\\n\\n\\nDenis: [00:17:47] Nice to meet you.\\n\\n\\nAlison: [00:17:48] Hi, Alison.\\n\\n\\nDenis: [00:17:49] I'm Denis and I come in peace.\\n\\n\\nDenis: [00:17:53] I lost another friend today. That's what I had met at a retreat about three [00:18:00] years ago.\\n\\n\\nGuide 1: [00:18:06] Always me.\\n\\n\\nSiobhan: [00:18:10] Being released from the hospital. I was worried about grad school and. Will I now have time to take the jury and study? And I don't think my writing sample is strong enough and I was freaking the fuck out about it. So it's about 2:00 AM. I'm feeling. Very [00:18:30] inspired to start making artwork.\\n\\n\\nMichelle: [00:19:19] A [00:19:00] lot of people don't realize that you can get cancer as a young adult. I am 33 years old and I live in Soldotna, Alaska.\\n\\n\\nMichelle: [00:19:29] I was [00:19:30] a police officer when I was diagnosed. The diagnosis pretty much destroyed my entire life. I had an immediate mastectomy, eventually a second mastectomy, and then 14 months of chemo. I did bilateral reconstruction of both my breasts and struggled through another year there at the police department. And then. Kim finally decided I wasn't the same person and that job was no longer fulfilling.\\n\\n\\nRoy: [00:20:10] I [00:20:00] didn't know what to do. The first thing I thought of was my boys. My wife. What would happen if I. If I didn't get past this?\\n\\n\\nMichelle: [00:20:48] I [00:20:30] think that I have a lot of self finding to do while I'm here.\\n\\n\\nMatt: [00:20:56] I feel like like I've been sort of shattered. You [00:21:00] know, there isn't like a way out, I guess, right now. So I figured, you know, what did I have to lose?\\n\\n\\nDana: [00:21:14] I was like, I've lost all my steering capabilities and every way possible right now in this canoe and in my life so far, we haven't fallen in.\", \"\\ufeffScene 5\\n\\n\\nElizabeth: [00:21:32] So [00:21:30] I saw the hematologist oncologist for five years just from being neutropenic for six months. They made me keep going, but they just kept threatening. If your neutrophils don't come up, we're going to stop radiation.\\n\\n\\nSam: [00:21:48] Yeah, that's the most terrifying thing.\\n\\n\\nElizabeth: [00:21:49] Yeah, I'm like, I don't want to stop.\\n\\n\\nSam: [00:21:51] But that's going to make the cancer progress.\\n\\n\\nElizabeth: [00:21:53] Yeah. I don't want to give a cancer any more chances. So did you ever have to do chemo pills, too?\\n\\n\\nSam: [00:21:59] No, fortunately. [00:22:00]\\n\\n\\nElizabeth: [00:22:02] See, you say it too just. Yeah, just that.\\n\\n\\nElizabeth: [00:22:06] Just that one.\\n\\n\\nSam: [00:22:07] On earth.\\n\\n\\nElizabeth: [00:22:08] Was a terrible thing that was trying to kill me and keep me alive.\\n\\n\\nGuide 2: [00:22:13] Do you remember when we did the silent hike?\\n\\n\\nElizabeth: [00:22:15] Yeah.\\n\\n\\nGuide 2: [00:22:16] You talked about the forest. We talked about how something like a forest fire can come through everything and yet.\\n\\n\\nElizabeth: [00:22:26] This is just what it looks like right now.\\n\\n\\nGuide 2: [00:22:27] Yeah.\\n\\n\\nGuide 2: [00:22:28] Something new will always [00:22:30] grow back.\\n\\n\\nElizabeth: [00:22:30] Yeah, because the has really nutrient rich soil now. And that's really when it hit me like. Those processes refining me, I guess. Is there still something more beautiful to come?\\n\\n\\nGuide 2: [00:22:55] Yeah.\\n\\n\\nJustin: [00:23:00] Part [00:23:00] of what we've discussed is just not having kids right now has more to do with just her energy level than anything. I mean, whether you're adopting or having a biological kid. Yeah, there's days where she just flat out would not be able to take care of a kid.\\n\\n\\nElizabeth: [00:23:17] And, well, it's hard not to think the worst with how many of my thyroid cancer friends have died this year. I will. I'm trying to focus on [00:23:30] the positive. I'm planting the seed of self encouragement and I am letting go of comparing myself to my former self.\\n\\n\\nJustin: [00:23:55] Planting the seed of just hoping. For [00:24:00] a brighter future, for more changes to come. Leaving behind some of the anger and resentment.\\n\\n\\nGuide 2: [00:24:45] Oh, [00:24:30] my God.\\n\\n\\nElizabeth: [00:25:16] The [00:25:00] biggest level of gratitude I felt on this trip is that we can all be ourselves and all talk honestly and openly about not only how we're feeling, but about our backgrounds [00:25:30] and about just every aspect of our lives. It's it's just been really. Freeing to be able to. Talk a little bit about my faith and how that's helped me get through. And then to hear lots of different aspects of each of your lives that we may not share all the time with everyone. But I just felt like we were really able to be [00:26:00] open and honest here. Feelings of gratitude for that.\", \"\\ufeffScene 7\\n\\n\\nLars: [00:28:45] Hey, [00:28:30] guys. Good job. Welcome to camp. Right down right there. So if you could all hear me say. Yep. Right on. We're just gonna load gear and just [00:29:00] put it on top of this shelf right here. If we can get a fire line going up this little way right here.\\n\\n\\nGuide 1: [00:29:06] Sounds good. Okay, great. Oh, my God. Right. Really? Heavy. Oh, my God.\\n\\n\\nSpeaker5: [00:29:19] Heavy. Yeah.\\n\\n\\nGuide 1: [00:29:20] Oh, my gosh. No, really? Like guys.\\n\\n\\nLindsey: [00:29:26] Very heavy.\\n\\n\\nGuide 1: [00:29:28] Oh, my God. I know. [00:29:30] Hold the line. Oh, the line.\\n\\n\\nLindsey: [00:29:34] I'm holding in and it's heavy.\\n\\n\\nGuide 1: [00:29:39] It can make a loud noise. Yeah. Okay. Go. Right. Okay.\\n\\n\\nPhil's Caretaker: [00:29:50] There's some really cool purple flowers here. Right.\\n\\n\\nPhil: [00:29:54] Which one is this one?\\n\\n\\nPhil's Caretaker: [00:29:55] Well, those are yellow. See the little asters?\\n\\n\\nPhil: [00:30:00] These.  [00:30:00]\\n\\n\\nPhil's Caretaker: [00:30:00] Right here. These a little asters? Yeah. Here, smell. Yeah, right.\\n\\n\\nPhil: [00:30:10] There you go.\\n\\n\\nLars: [00:30:12] Find your spot and it starts setting your tent up.\\n\\n\\nDana: [00:30:16] All right, let's go this way.\\n\\n\\nPhil's Caretaker: [00:30:22] Yep. Okay. All right. Beautiful. Okay. You can go ahead and stand up and we'll just you [00:30:30] can open up your bags. We're at talk now. So the kitchen's going to be to the left here. A lot of the...\", \"\\ufeffScene 6\\n\\n\\nMaynard: [00:26:28] I noticed water reflecting [00:26:30] light onto the side of the canyon wall.\\n\\n\\nDenis: [00:26:34] I noticed the spark in me light up again when cooking outdoors. I hadn't done in a long time.\\n\\n\\nAlison: [00:26:45] I noticed the quiet, how quiet it was, and that was different.\\n\\n\\nSiobhan: [00:26:57] I noticed a lot of selflessness among [00:27:00] everyone here. I've been really discouraged lately by selfish people in my life, so it was refreshing to see everyone lending a helping hand.\\n\\n\\nLindsey: [00:27:10] I observed all those little yellow butterflies on the way here. I have a butterfly tattoo on my chest, and that was part of my mastectomy tattoo. And so after my grandfather died four years ago, right before I was diagnosed, me and my mom would always see butterflies come and they would stay longer than they probably should, and they would land usually [00:27:30] on one of us. And so we always said, that's papa come to visit. That's Poppa coming to visit. And so today, seeing all those butterflies, it was like Pops here. Up until today, I had not met a group of people my age that had gone through or could understand what I had been through. And [00:28:00] so that's one of the biggest reasons why I'm here, to meet people like you, that you y'all can completely understand what we're all.\", \"\\ufeffScene 2\\n\\n\\nElizabeth: [00:05:01] This [00:05:00] is my in case we have to run really fast away from home for any reason. Like fun. This is my emergency grab and go and it has a week's worth of every prescription. I just have that ready and I know that it has everything in it I'm going to need. I have my number on how many I take 2 a.m., 2 p.m. and out of everything. This is Justin's. One thing we do want a family [00:05:30] kind of leaning towards the idea of adoption. I looked into probably 30 different agencies and only two of them would even talk to us. We have started to fill out all the paperwork for the adoption agents. But we don't want to get our hopes up too much because they require a letter from my oncologist. If saying that the oncologist thinks that I will live long [00:06:00] enough to raise a child. And so we kind of put it on hold until we see the oncologist on Monday.\\n\\n\\nRadio 1: [00:06:17] But don't you forget your mom and daddy's love. Well, you.\\n\\n\\nElizabeth: [00:06:32] The [00:06:30] night before what I call my day of fun. I don't usually get much sleep. A little bit nerve wracking.\\n\\n\\nJustin: [00:06:43] They show up at six this morning and we don't really leave until. We know where she stands. We don't have this.\\n\\n\\nElizabeth: [00:06:50] Wait two weeks for test results.\\n\\n\\nJustin: [00:06:52] Wait a week for the radiologist. That's one of the awesome parts about the Anderson is as long and hard as this day is, [00:07:00] we go home today knowing what they saw.\\n\\n\\nReceptionist 1: [00:07:04] And we'll call you out all by name.\\n\\n\\nElizabeth: [00:07:25] I'm trying to focus on the positive. The [00:07:30] fact that so many people I know have already passed away this year that had the same cancer as me and the same prognosis as me that weighs heavily on my mind.\\n\\n\\nDoctor 1: [00:07:44] Your allergies are still just shellfish and adhesive tape and iodine and penicillins.\\n\\n\\nElizabeth: [00:07:50] Yes.\\n\\n\\nDoctor 1: [00:07:52] Tell me about the shortness of breath. Is that with activity or at rest?\\n\\n\\nElizabeth: [00:07:55] Yes, both.\\n\\n\\nDoctor 1: [00:07:59] Tell me about your headaches [00:08:00] or are they normal headaches or migraines?\\n\\n\\nElizabeth: [00:08:03] Hemiplegia. Migraines. I have started having that.\\n\\n\\nDoctor 1: [00:08:06] You also checked seizures. Have you had a seizure lately?\\n\\n\\nElizabeth: [00:08:09] It's been about 30 days since my last one. Since my last grand mal. Generally I have between four and eight appointments. To swallow. Swallow again. Then [00:08:30] I move on to the imaging. And this is a huge, huge, huge deal for me. My last three chest CT scans have shown that I have tumors throughout both lungs. Very tiny little nodules, too small to really know what they are, but they are most likely thyroid cancer that has metastasized. I'm [00:09:00] always like on the edge of my seat, waiting for the results. There's just so much riding on these scans. Because if she's not willing to write us that letter to give to the agency, then we can't go anywhere.\\n\\n\\nMRI Voice: [00:09:21] Take it up. Grab where you go. Take another deep breath. Where the rain. Where [00:09:30] you. And just breathing and being.\\n\\n\\nGuide 2: [00:09:45] With this part of your body. Feel your body just sinking into the ground. Noticing that sense of weight being held by the ground underneath you. Take [00:10:00] in another real deep breath.\\n\\n\\nGuide 2: [00:10:35] And [00:10:30] drawing your attention. Your throat and that. Sensing the right side of your neck and the left pausing and just noticing what you feel in this part of your body, feeling the fullness of the breath. Move into your ribs. Expanding and then. Letting go on the exhale. Perhaps [00:11:00] even your heartbeat, if you can feel that. Knowing that by the mere fact that you are breathing, there is far more going right in your body and your mind than wrong.\", \"\\ufeffScene 3\\n\\n\\nLindsey: [00:11:22] Before I was diagnosed, I was still in college when I had found the tumor. All of my friends were moving [00:11:30] into those jobs that they had lined up after graduation. They were moving into the real world, you know, like how it's supposed to be. I didn't get that. I did not get that. I mean, I already had a job lined up after college. I was in a really serious relationship. I had a plan. And then the day of that diagnosis, that absolutely changed everything.\\n\\n\\nLindsey's Mom: [00:12:01] As [00:12:00] she called me one night, and I could tell in her voice something was wrong, and she said, This thing has grown overnight but she said it's just visibly grown over night. So I knew something was wrong.\\n\\n\\nLindsey: [00:12:23] There you go. I'll be back. Everything happened so fast. It's really [00:12:30] a blur. The whole process went really quickly. I was diagnosed a week later. I was in surgery. A week after that, I had another surgery and that's when I started getting really depressed and that's when I stopped leaving the house. And that was before I even made the decision to go ahead with the mastectomy.\\n\\n\\nLindsey's Mom: [00:12:51] She's had to make decisions that women my age shouldn't have to make.\\n\\n\\nLindsey's Dad: [00:12:56] It scares you as a parent when it's gone from the size of a pea [00:13:00] to the size of a brick. And it scares you as a parent when they go to do a needle biopsy and it bends the needle and drives your heart right up in your throat.\\n\\n\\nLindsey: [00:13:11] So I made the decision to have my breast removed. I felt like if the breast is gone completely, then I'm okay. But the breast that had the tumor and is still there, like I just feel completely unsafe. Yes, ma'am. How are you all doing?\\n\\n\\nCustomer 1: [00:13:28] Good. How about yourself?\\n\\n\\nLindsey: [00:13:30] Good. [00:13:30] I was in a serious relationship at the time. We had been together for about eight months and he had been so completely supportive during my surgeries. He would be calling my mom if he could just check and see how I was doing. And then I called him and told him, you know, I've decided to go through with the mastectomy. That's the last time I heard from him. And so that was obviously a huge kick in the self-esteem to. I [00:14:00] don't give a shit what guys think about my body, but I mean, at the time I'm 22 years old. That's the one thing you're thinking about before cancer.\\n\\n\\nLindsey's Mom: [00:14:12] Lindsey was very confident, just stylish in the way she dressed. And after cancer, all that changed those big baggy shirts.\\n\\n\\nLindsey: [00:14:21] And yeah, I took every single one of my bikinis and every single tight shirt that I had, and I put them all in the trashcan.\\n\\n\\nLindsey's Mom: [00:14:29] And [00:14:30] I remember taking them out without your knowledge.\\n\\n\\nLindsey's Mom: [00:14:38] I don't think it was until the trek that Lindsey truly... I saw more of who she was. After that I could see a weight lifted off of her when she came home. And I can see a desire to want to move forward with her life. So [00:15:00] I think the trek did that for her. And I don't know I don't know why it took that. Um, but I did see, I saw a big difference when she came home from the track that the weight was gone. You know, maybe I can really move on with my life now.\", \"\\ufeffScene 1\\n\\n\\nElizabeth: [00:00:12] I ended up having a nine hour surgery just two months before my wedding, where they cut completely across the front of my neck.\\n\\n\\nGuide 1: [00:01:00] We [00:01:00] hear the thunder. It's awesome that kind of drifting away. But we know it's coming. It's right on top of us. It could come up tonight or tomorrow night or the next night. We're not really anticipating the bullet hitting you, but when the bull hits the ground, the electricity can spread through.\\n\\n\\nGuide 1: [00:01:18] If we're too close to each other, it can connect to all the people in between. It's good to have these conversations now before the storm actually is on top of us.\\n\\n\\nElizabeth: [00:01:32] There [00:01:30] will be hardships in my life. That's just that's how it goes. Before we got married, we both knew we wanted to have kids. With all of the internal radiation that I had. It messed up almost every organ in my body.\\n\\n\\nJustin: [00:01:58] When we realized that we were not going to have [00:02:00] kids. It wasn't just having the kids taken away. It was having that future, having that it really was having the future taken away from me.\\n\\n\\nElizabeth: [00:02:11] And I think for me, it kind of came down to having to redefine family. I think we're kind of getting to the place where we're okay with that. It doesn't mean it's easy.\\n\\n\\nReporter 1: [00:02:40] The [00:02:30] country's fourth largest city is already facing what could be one of the worst flooding disasters in American history.\\n\\n\\nReporter 2: [00:02:47] Officials begging residents to stay strong.\\n\\n\\nReporter 3: [00:02:50] Here's the update from the National Weather Service. They said that this is beyond anything it has ever experienced.\\n\\n\\nElizabeth: [00:02:56] They're saying our house will be flooded for one week to four weeks. [00:03:00]\\n\\n\\nJustin: [00:03:00] We went from not wanting to be trapped there to, holy crap, that's a picture with my refrigerator floating inside my kitchen. There is still four feet of water inside our house.\\n\\n\\nElizabeth: [00:03:11] We're hearing from authorities that it may have seven feet of water, but no one has really been able to get there to check. This is eight days post Hurricane Harvey. We were finally allowed into our house. But you can see [00:03:30] the damage. Since the walk through my living room.\\n\\n\\nElizabeth: [00:03:41] Oh. The quilts my grandmother made for us for our wedding have grown about two inches of mold on them. This is our brand new TV that I bought Justin for his birthday. With my bonus, there is Buddy's bed [00:04:00] is our dining room. Obviously anyone in here has to wear his mask, but especially me, since I still have cancer in my lungs right now. Just look at that. It's pretty tough to go through this, but I. You can see we have my favorite sign here. And Lord will fight for you. You need only be still.\\n\\n\\nJustin: [00:04:30] We [00:04:30] both wanted to know why, why? Why did it happen the first time? Why did it recur? And a big part of it is always just why us? Just saying the same guy that I'm coming to and asking him to heal her. Is the God that allowed it to happen in the first place.\"]\n"
     ]
    }
   ],
   "source": [
    "'''\n",
    "STEP 3: Bag of words on the dataset\n",
    "capturing all the different words present in 'docs'\n",
    "'''\n",
    "docs = scenes\n",
    "all_word_corpus = []\n",
    "#TRY GENSIM'S SIMPLE_PREPROCESS FUNCTION INSTEAD\n",
    "for doc in docs:\n",
    "    #opening the text file\n",
    "    #with open(doc,'r') as file:\n",
    "   \n",
    "    # reading each line    \n",
    "        #print(doc)\n",
    "        for word in preprocessing(doc):\n",
    "   \n",
    "        # reading each word        \n",
    "            #for word in line.split():\n",
    "            #print(word)\n",
    "            all_word_corpus.append(word)\n",
    "    #print(doc)\n",
    "    #all_word_corpus += doc\n",
    "\n",
    "#print(all_word_corpus)\n",
    "print(docs)"
   ]
  },
  {
   "cell_type": "code",
   "execution_count": 164,
   "id": "2e233795",
   "metadata": {},
   "outputs": [
    {
     "data": {
      "text/plain": [
       "count      14.00000\n",
       "mean     2176.00000\n",
       "std      1060.92398\n",
       "min       414.00000\n",
       "0%        414.00000\n",
       "10%       801.10000\n",
       "20%      1404.00000\n",
       "30%      1457.90000\n",
       "40%      1711.00000\n",
       "50%      2410.50000\n",
       "60%      2477.20000\n",
       "70%      2905.80000\n",
       "80%      3147.80000\n",
       "90%      3279.90000\n",
       "100%     3872.00000\n",
       "max      3872.00000\n",
       "dtype: float64"
      ]
     },
     "execution_count": 164,
     "metadata": {},
     "output_type": "execute_result"
    }
   ],
   "source": [
    "'''Length of docs vs. Various Percentiles\n",
    "\n",
    "Filter out docs that have\n",
    "\n",
    "less than a certain size (absolute number) or\n",
    "more than a certain size (fraction of total corpus size, not absolute number).\n",
    "'''\n",
    "doc_lengths = pd.Series([len(sent) for sent in docs])\n",
    "doc_lengths.describe(percentiles=[x/10 for x in range(11)])"
   ]
  },
  {
   "cell_type": "code",
   "execution_count": 165,
   "id": "e1957121",
   "metadata": {},
   "outputs": [
    {
     "data": {
      "text/plain": [
       "count      14.00000\n",
       "mean     2176.00000\n",
       "std      1060.92398\n",
       "min       414.00000\n",
       "0%        414.00000\n",
       "1%        434.41000\n",
       "2%        454.82000\n",
       "3%        475.23000\n",
       "4%        495.64000\n",
       "5%        516.05000\n",
       "6%        536.46000\n",
       "7%        556.87000\n",
       "8%        601.68000\n",
       "9%        701.39000\n",
       "50%      2410.50000\n",
       "max      3872.00000\n",
       "dtype: float64"
      ]
     },
     "execution_count": 165,
     "metadata": {},
     "output_type": "execute_result"
    }
   ],
   "source": [
    "# printing 0% to 10% percentiles\n",
    "doc_lengths.describe(percentiles=[x/100 for x in range(0,10)])"
   ]
  },
  {
   "cell_type": "code",
   "execution_count": 166,
   "id": "d8e59240",
   "metadata": {},
   "outputs": [
    {
     "data": {
      "text/plain": [
       "count      14.00000\n",
       "mean     2176.00000\n",
       "std      1060.92398\n",
       "min       414.00000\n",
       "50%      2410.50000\n",
       "90%      3279.90000\n",
       "91%      3304.21000\n",
       "92%      3328.52000\n",
       "93%      3384.24000\n",
       "94%      3453.92000\n",
       "95%      3523.60000\n",
       "96%      3593.28000\n",
       "97%      3662.96000\n",
       "98%      3732.64000\n",
       "99%      3802.32000\n",
       "max      3872.00000\n",
       "dtype: float64"
      ]
     },
     "execution_count": 166,
     "metadata": {},
     "output_type": "execute_result"
    }
   ],
   "source": [
    "# printing 90% to 100% percentiles\n",
    "doc_lengths.describe(percentiles=[x/100 for x in range(90,100)])"
   ]
  },
  {
   "cell_type": "code",
   "execution_count": 167,
   "id": "e162bd5c",
   "metadata": {},
   "outputs": [
    {
     "name": "stdout",
     "output_type": "stream",
     "text": [
      "3149 10\n"
     ]
    }
   ],
   "source": [
    "# chosing upper_bound = 300 and lower_bound = 30\n",
    "chosen_docs = []\n",
    "for doc in docs:\n",
    "    if len(doc) > 30 and len(doc) < 3000:\n",
    "        chosen_docs.append(doc)\n",
    "print(len(doc), len(chosen_docs))"
   ]
  },
  {
   "cell_type": "code",
   "execution_count": 169,
   "id": "a9990829",
   "metadata": {},
   "outputs": [
    {
     "data": {
      "text/plain": [
       "'all_word_corpus = []\\nfor doc in docs:\\n    for line in doc:\\n   \\n        # reading each word        \\n        for word in line.split():\\n            all_word_corpus += words\\nprint(all_word_corpus)'"
      ]
     },
     "execution_count": 169,
     "metadata": {},
     "output_type": "execute_result"
    }
   ],
   "source": [
    "#should be \"scenes\"\n",
    "docs = chosen_docs\n",
    "'''\n",
    "capturing all the different words present in 'docs'\n",
    "'''\n",
    "'''all_word_corpus = []\n",
    "for doc in docs:\n",
    "    for line in doc:\n",
    "   \n",
    "        # reading each word        \n",
    "        for word in line.split():\n",
    "            all_word_corpus += words\n",
    "print(all_word_corpus)'''"
   ]
  },
  {
   "cell_type": "code",
   "execution_count": 170,
   "id": "b549d154",
   "metadata": {},
   "outputs": [],
   "source": [
    "'''STEP 4: Creating Corpus Before LDA\n",
    "Some of the initialisations necessary for LDA are:\n",
    "\n",
    "id2word is a mapping from word ids (integers) to words (strings). It is used to determine the vocabulary size, as well as for debugging and topic printing.\n",
    "word2id is a mapping from words (strings) to word ids (integers). It is used to determine the vocabulary size, as well as for debugging and topic printing.\n",
    "vocab is a list of words (strings). It is used to determine the various words used in the text, as well as for debugging and topic printing.\n",
    "'''\n",
    "word2id = {}\n",
    "id2word = {}\n",
    "vocab = []\n",
    "currentWordId = 0\n"
   ]
  },
  {
   "cell_type": "code",
   "execution_count": 171,
   "id": "d76e47df",
   "metadata": {},
   "outputs": [],
   "source": [
    "from collections import Counter\n",
    "\n",
    "for word, count in Counter(all_word_corpus).most_common():\n",
    "    word2id[word] = currentWordId\n",
    "    id2word[currentWordId] = word\n",
    "    currentWordId += 1\n",
    "    vocab.append(word)"
   ]
  },
  {
   "cell_type": "code",
   "execution_count": 172,
   "id": "5917571f",
   "metadata": {},
   "outputs": [
    {
     "data": {
      "text/plain": [
       "(10, 13, 13)"
      ]
     },
     "execution_count": 172,
     "metadata": {},
     "output_type": "execute_result"
    }
   ],
   "source": [
    "len(docs), len(word2id), len(id2word)"
   ]
  },
  {
   "cell_type": "code",
   "execution_count": 173,
   "id": "d9f3ec8a",
   "metadata": {},
   "outputs": [],
   "source": [
    "final_docs = []\n",
    "\n",
    "for doc in docs:\n",
    "    currentDoc = []\n",
    "    for word in doc: \n",
    "        if word in word2id:\n",
    "            currentDoc.append(word2id[word])\n",
    "    final_docs.append(currentDoc)"
   ]
  },
  {
   "cell_type": "code",
   "execution_count": 174,
   "id": "d49e2b39",
   "metadata": {},
   "outputs": [
    {
     "name": "stdout",
     "output_type": "stream",
     "text": [
      "[[6, 6, 6, 6, 6, 6, 6, 6], [6, 6, 6, 6], [], [6, 6, 6, 6, 6, 6, 6, 6, 6, 6, 6, 6, 6, 6, 6, 6, 6, 6, 6, 6, 6], [6], [6, 6, 6, 6, 6, 6, 6, 6, 6, 6, 6, 6, 6, 6, 6, 6, 6, 6, 6], [6, 6, 6, 6, 6, 6, 6, 6, 6, 6, 6, 6, 6, 6, 6, 6, 6, 6, 6, 6, 6, 6, 6, 6, 6, 6, 6, 6, 6, 6, 6, 6, 6, 6, 6, 6], [6, 6, 6, 6, 6, 6, 6, 6, 6, 6, 6, 6, 6, 6, 6], [6, 6, 6, 6], [6, 6, 6, 6, 6, 6, 6, 6, 6, 6, 6, 6]]\n"
     ]
    }
   ],
   "source": [
    "docs = final_docs\n",
    "print(docs)"
   ]
  },
  {
   "cell_type": "code",
   "execution_count": 121,
   "id": "feee4bab",
   "metadata": {},
   "outputs": [
    {
     "data": {
      "text/plain": [
       "(10, 69)"
      ]
     },
     "execution_count": 121,
     "metadata": {},
     "output_type": "execute_result"
    }
   ],
   "source": [
    "'''Step 5: Running LDA using Bag of Words\n",
    "We are going for 10 topics in the document corpus.\n",
    "\n",
    "Only parameters we will be tweaking are:\n",
    "\n",
    "num_topics is the number of requested latent topics to be extracted from the training corpus.\n",
    "'''\n",
    "X = np.zeros((len(docs), len(word2id)),dtype=int)\n",
    "X.shape"
   ]
  },
  {
   "cell_type": "code",
   "execution_count": 122,
   "id": "165504e7",
   "metadata": {},
   "outputs": [],
   "source": [
    "for idx, doc in enumerate(docs):\n",
    "    for idy in doc:\n",
    "        X[idx,idy] += 1"
   ]
  },
  {
   "cell_type": "code",
   "execution_count": 130,
   "id": "74a6f4a1",
   "metadata": {},
   "outputs": [
    {
     "ename": "NameError",
     "evalue": "name 'model' is not defined",
     "output_type": "error",
     "traceback": [
      "\u001b[0;31m---------------------------------------------------------------------------\u001b[0m",
      "\u001b[0;31mNameError\u001b[0m                                 Traceback (most recent call last)",
      "Input \u001b[0;32mIn [130]\u001b[0m, in \u001b[0;36m<cell line: 5>\u001b[0;34m()\u001b[0m\n\u001b[1;32m      1\u001b[0m \u001b[38;5;66;03m#Case 1 : Regular LDA\u001b[39;00m\n\u001b[1;32m      2\u001b[0m \u001b[38;5;66;03m# pip install guidedlda\u001b[39;00m\n\u001b[1;32m      3\u001b[0m \u001b[38;5;66;03m#from lda import guidedlda as glda\u001b[39;00m\n\u001b[1;32m      4\u001b[0m \u001b[38;5;66;03m#import guidedlda\u001b[39;00m\n\u001b[0;32m----> 5\u001b[0m top_words \u001b[38;5;241m=\u001b[39m \u001b[38;5;28mlist\u001b[39m(\u001b[38;5;28mreversed\u001b[39m(\u001b[43mmodel\u001b[49m\u001b[38;5;241m.\u001b[39mword_topic_\u001b[38;5;241m.\u001b[39mT[\u001b[38;5;241m1\u001b[39m]\u001b[38;5;241m.\u001b[39margsort()))\n\u001b[1;32m      6\u001b[0m \u001b[38;5;66;03m#from lda import guidedlda\u001b[39;00m\n\u001b[1;32m      8\u001b[0m \u001b[38;5;28;01mfrom\u001b[39;00m \u001b[38;5;21;01mguidedlda\u001b[39;00m \u001b[38;5;28;01mimport\u001b[39;00m GuidedLDA\n",
      "\u001b[0;31mNameError\u001b[0m: name 'model' is not defined"
     ]
    }
   ],
   "source": [
    "#Case 1 : Regular LDA\n",
    "# pip install guidedlda\n",
    "#from lda import guidedlda as glda\n",
    "#import guidedlda\n",
    "top_words = list(reversed(model.word_topic_.T[1].argsort()))\n",
    "#from lda import guidedlda\n",
    " \n",
    "from guidedlda import GuidedLDA"
   ]
  },
  {
   "cell_type": "code",
   "execution_count": null,
   "id": "f6fe776b",
   "metadata": {},
   "outputs": [],
   "source": []
  }
 ],
 "metadata": {
  "kernelspec": {
   "display_name": "Python 3 (ipykernel)",
   "language": "python",
   "name": "python3"
  },
  "language_info": {
   "codemirror_mode": {
    "name": "ipython",
    "version": 3
   },
   "file_extension": ".py",
   "mimetype": "text/x-python",
   "name": "python",
   "nbconvert_exporter": "python",
   "pygments_lexer": "ipython3",
   "version": "3.9.12"
  }
 },
 "nbformat": 4,
 "nbformat_minor": 5
}
